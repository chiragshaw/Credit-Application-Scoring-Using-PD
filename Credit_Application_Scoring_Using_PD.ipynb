{
  "nbformat": 4,
  "nbformat_minor": 0,
  "metadata": {
    "colab": {
      "provenance": []
    },
    "kernelspec": {
      "name": "python3",
      "display_name": "Python 3"
    },
    "language_info": {
      "name": "python"
    }
  },
  "cells": [
    {
      "cell_type": "markdown",
      "source": [
        "#Developing a PD Model for Application Scoring"
      ],
      "metadata": {
        "id": "DAHzB-7ZIL-A"
      }
    },
    {
      "cell_type": "markdown",
      "source": [
        "#  About the Dataset\n",
        "## The KGB dataset, a dummy dataset, is actually a collection of loan information used to help banks understand their risk. Here’s the breakdown:\n",
        "\n",
        "##Unbalanced Sample: This dataset only includes people whose loans were approved (good accounts). There are no rejected applicants or those who are still waiting for a decision.\n",
        "##Defining “Bad”: In this dataset, a bad account is simply someone who hasn’t made their loan payment in 90 days or more (delinquent).\n",
        "##Good vs. Bad: There are no in-between options here. If someone isn’t classified as bad (delinquent), they’re automatically considered good.\n",
        "##The KGB Variable: The data uses a simple variable called “GB” to indicate whether an account is good or bad."
      ],
      "metadata": {
        "id": "gqSZ8PDGIRbN"
      }
    },
    {
      "cell_type": "markdown",
      "source": [
        "##Import Libraries and Load Data"
      ],
      "metadata": {
        "id": "yTipU3vlJC4o"
      }
    },
    {
      "cell_type": "code",
      "execution_count": 23,
      "metadata": {
        "id": "Kwe8Vxw66wSu",
        "colab": {
          "base_uri": "https://localhost:8080/",
          "height": 411
        },
        "outputId": "8097862f-fade-4914-d465-4cec648a66e3"
      },
      "outputs": [
        {
          "output_type": "execute_result",
          "data": {
            "text/plain": [
              "  TITLE  CHILDREN  PERS_H  AGE  TMADD  TMJOB1  TEL  NMBLOAN  FINLOAN  INCOME  \\\n",
              "0     R         0       2   46     15      33    2        0        0       0   \n",
              "1     H         4       6   34    144      54    2        1        1    3200   \n",
              "2     H         3       5   31    108     120    2        1        1    3300   \n",
              "3     R         0       1   39    192       6    1        0        0    1500   \n",
              "4     H         3       5   32     48     108    2        2        1       0   \n",
              "\n",
              "   ...  DIV  CASH           PRODUCT  RESID      NAT              PROF  \\\n",
              "0  ...    0  2000   Radio, TV, Hifi  Lease   German            Others   \n",
              "1  ...    1  6000               NaN  Owner  Turkish               NaN   \n",
              "2  ...    1     0               NaN  Lease  Turkish            Others   \n",
              "3  ...    0  2500  Furniture,Carpet  Lease   German            Others   \n",
              "4  ...    0  2500  Furniture,Carpet  Lease   German  Civil Service, M   \n",
              "\n",
              "               CAR            CARDS  GB  _freq_  \n",
              "0              Car      Cheque card   0      30  \n",
              "1              Car  no credit cards   1       1  \n",
              "2              Car  no credit cards   1       1  \n",
              "3  Without Vehicle  no credit cards   1       1  \n",
              "4              Car      Cheque card   0      30  \n",
              "\n",
              "[5 rows x 28 columns]"
            ],
            "text/html": [
              "\n",
              "  <div id=\"df-779ced65-df9d-4ef1-832f-a520d2e90f68\" class=\"colab-df-container\">\n",
              "    <div>\n",
              "<style scoped>\n",
              "    .dataframe tbody tr th:only-of-type {\n",
              "        vertical-align: middle;\n",
              "    }\n",
              "\n",
              "    .dataframe tbody tr th {\n",
              "        vertical-align: top;\n",
              "    }\n",
              "\n",
              "    .dataframe thead th {\n",
              "        text-align: right;\n",
              "    }\n",
              "</style>\n",
              "<table border=\"1\" class=\"dataframe\">\n",
              "  <thead>\n",
              "    <tr style=\"text-align: right;\">\n",
              "      <th></th>\n",
              "      <th>TITLE</th>\n",
              "      <th>CHILDREN</th>\n",
              "      <th>PERS_H</th>\n",
              "      <th>AGE</th>\n",
              "      <th>TMADD</th>\n",
              "      <th>TMJOB1</th>\n",
              "      <th>TEL</th>\n",
              "      <th>NMBLOAN</th>\n",
              "      <th>FINLOAN</th>\n",
              "      <th>INCOME</th>\n",
              "      <th>...</th>\n",
              "      <th>DIV</th>\n",
              "      <th>CASH</th>\n",
              "      <th>PRODUCT</th>\n",
              "      <th>RESID</th>\n",
              "      <th>NAT</th>\n",
              "      <th>PROF</th>\n",
              "      <th>CAR</th>\n",
              "      <th>CARDS</th>\n",
              "      <th>GB</th>\n",
              "      <th>_freq_</th>\n",
              "    </tr>\n",
              "  </thead>\n",
              "  <tbody>\n",
              "    <tr>\n",
              "      <th>0</th>\n",
              "      <td>R</td>\n",
              "      <td>0</td>\n",
              "      <td>2</td>\n",
              "      <td>46</td>\n",
              "      <td>15</td>\n",
              "      <td>33</td>\n",
              "      <td>2</td>\n",
              "      <td>0</td>\n",
              "      <td>0</td>\n",
              "      <td>0</td>\n",
              "      <td>...</td>\n",
              "      <td>0</td>\n",
              "      <td>2000</td>\n",
              "      <td>Radio, TV, Hifi</td>\n",
              "      <td>Lease</td>\n",
              "      <td>German</td>\n",
              "      <td>Others</td>\n",
              "      <td>Car</td>\n",
              "      <td>Cheque card</td>\n",
              "      <td>0</td>\n",
              "      <td>30</td>\n",
              "    </tr>\n",
              "    <tr>\n",
              "      <th>1</th>\n",
              "      <td>H</td>\n",
              "      <td>4</td>\n",
              "      <td>6</td>\n",
              "      <td>34</td>\n",
              "      <td>144</td>\n",
              "      <td>54</td>\n",
              "      <td>2</td>\n",
              "      <td>1</td>\n",
              "      <td>1</td>\n",
              "      <td>3200</td>\n",
              "      <td>...</td>\n",
              "      <td>1</td>\n",
              "      <td>6000</td>\n",
              "      <td>NaN</td>\n",
              "      <td>Owner</td>\n",
              "      <td>Turkish</td>\n",
              "      <td>NaN</td>\n",
              "      <td>Car</td>\n",
              "      <td>no credit cards</td>\n",
              "      <td>1</td>\n",
              "      <td>1</td>\n",
              "    </tr>\n",
              "    <tr>\n",
              "      <th>2</th>\n",
              "      <td>H</td>\n",
              "      <td>3</td>\n",
              "      <td>5</td>\n",
              "      <td>31</td>\n",
              "      <td>108</td>\n",
              "      <td>120</td>\n",
              "      <td>2</td>\n",
              "      <td>1</td>\n",
              "      <td>1</td>\n",
              "      <td>3300</td>\n",
              "      <td>...</td>\n",
              "      <td>1</td>\n",
              "      <td>0</td>\n",
              "      <td>NaN</td>\n",
              "      <td>Lease</td>\n",
              "      <td>Turkish</td>\n",
              "      <td>Others</td>\n",
              "      <td>Car</td>\n",
              "      <td>no credit cards</td>\n",
              "      <td>1</td>\n",
              "      <td>1</td>\n",
              "    </tr>\n",
              "    <tr>\n",
              "      <th>3</th>\n",
              "      <td>R</td>\n",
              "      <td>0</td>\n",
              "      <td>1</td>\n",
              "      <td>39</td>\n",
              "      <td>192</td>\n",
              "      <td>6</td>\n",
              "      <td>1</td>\n",
              "      <td>0</td>\n",
              "      <td>0</td>\n",
              "      <td>1500</td>\n",
              "      <td>...</td>\n",
              "      <td>0</td>\n",
              "      <td>2500</td>\n",
              "      <td>Furniture,Carpet</td>\n",
              "      <td>Lease</td>\n",
              "      <td>German</td>\n",
              "      <td>Others</td>\n",
              "      <td>Without Vehicle</td>\n",
              "      <td>no credit cards</td>\n",
              "      <td>1</td>\n",
              "      <td>1</td>\n",
              "    </tr>\n",
              "    <tr>\n",
              "      <th>4</th>\n",
              "      <td>H</td>\n",
              "      <td>3</td>\n",
              "      <td>5</td>\n",
              "      <td>32</td>\n",
              "      <td>48</td>\n",
              "      <td>108</td>\n",
              "      <td>2</td>\n",
              "      <td>2</td>\n",
              "      <td>1</td>\n",
              "      <td>0</td>\n",
              "      <td>...</td>\n",
              "      <td>0</td>\n",
              "      <td>2500</td>\n",
              "      <td>Furniture,Carpet</td>\n",
              "      <td>Lease</td>\n",
              "      <td>German</td>\n",
              "      <td>Civil Service, M</td>\n",
              "      <td>Car</td>\n",
              "      <td>Cheque card</td>\n",
              "      <td>0</td>\n",
              "      <td>30</td>\n",
              "    </tr>\n",
              "  </tbody>\n",
              "</table>\n",
              "<p>5 rows × 28 columns</p>\n",
              "</div>\n",
              "    <div class=\"colab-df-buttons\">\n",
              "\n",
              "  <div class=\"colab-df-container\">\n",
              "    <button class=\"colab-df-convert\" onclick=\"convertToInteractive('df-779ced65-df9d-4ef1-832f-a520d2e90f68')\"\n",
              "            title=\"Convert this dataframe to an interactive table.\"\n",
              "            style=\"display:none;\">\n",
              "\n",
              "  <svg xmlns=\"http://www.w3.org/2000/svg\" height=\"24px\" viewBox=\"0 -960 960 960\">\n",
              "    <path d=\"M120-120v-720h720v720H120Zm60-500h600v-160H180v160Zm220 220h160v-160H400v160Zm0 220h160v-160H400v160ZM180-400h160v-160H180v160Zm440 0h160v-160H620v160ZM180-180h160v-160H180v160Zm440 0h160v-160H620v160Z\"/>\n",
              "  </svg>\n",
              "    </button>\n",
              "\n",
              "  <style>\n",
              "    .colab-df-container {\n",
              "      display:flex;\n",
              "      gap: 12px;\n",
              "    }\n",
              "\n",
              "    .colab-df-convert {\n",
              "      background-color: #E8F0FE;\n",
              "      border: none;\n",
              "      border-radius: 50%;\n",
              "      cursor: pointer;\n",
              "      display: none;\n",
              "      fill: #1967D2;\n",
              "      height: 32px;\n",
              "      padding: 0 0 0 0;\n",
              "      width: 32px;\n",
              "    }\n",
              "\n",
              "    .colab-df-convert:hover {\n",
              "      background-color: #E2EBFA;\n",
              "      box-shadow: 0px 1px 2px rgba(60, 64, 67, 0.3), 0px 1px 3px 1px rgba(60, 64, 67, 0.15);\n",
              "      fill: #174EA6;\n",
              "    }\n",
              "\n",
              "    .colab-df-buttons div {\n",
              "      margin-bottom: 4px;\n",
              "    }\n",
              "\n",
              "    [theme=dark] .colab-df-convert {\n",
              "      background-color: #3B4455;\n",
              "      fill: #D2E3FC;\n",
              "    }\n",
              "\n",
              "    [theme=dark] .colab-df-convert:hover {\n",
              "      background-color: #434B5C;\n",
              "      box-shadow: 0px 1px 3px 1px rgba(0, 0, 0, 0.15);\n",
              "      filter: drop-shadow(0px 1px 2px rgba(0, 0, 0, 0.3));\n",
              "      fill: #FFFFFF;\n",
              "    }\n",
              "  </style>\n",
              "\n",
              "    <script>\n",
              "      const buttonEl =\n",
              "        document.querySelector('#df-779ced65-df9d-4ef1-832f-a520d2e90f68 button.colab-df-convert');\n",
              "      buttonEl.style.display =\n",
              "        google.colab.kernel.accessAllowed ? 'block' : 'none';\n",
              "\n",
              "      async function convertToInteractive(key) {\n",
              "        const element = document.querySelector('#df-779ced65-df9d-4ef1-832f-a520d2e90f68');\n",
              "        const dataTable =\n",
              "          await google.colab.kernel.invokeFunction('convertToInteractive',\n",
              "                                                    [key], {});\n",
              "        if (!dataTable) return;\n",
              "\n",
              "        const docLinkHtml = 'Like what you see? Visit the ' +\n",
              "          '<a target=\"_blank\" href=https://colab.research.google.com/notebooks/data_table.ipynb>data table notebook</a>'\n",
              "          + ' to learn more about interactive tables.';\n",
              "        element.innerHTML = '';\n",
              "        dataTable['output_type'] = 'display_data';\n",
              "        await google.colab.output.renderOutput(dataTable, element);\n",
              "        const docLink = document.createElement('div');\n",
              "        docLink.innerHTML = docLinkHtml;\n",
              "        element.appendChild(docLink);\n",
              "      }\n",
              "    </script>\n",
              "  </div>\n",
              "\n",
              "\n",
              "<div id=\"df-c81b8ace-7b4e-4861-83fa-a5a1e99ebff0\">\n",
              "  <button class=\"colab-df-quickchart\" onclick=\"quickchart('df-c81b8ace-7b4e-4861-83fa-a5a1e99ebff0')\"\n",
              "            title=\"Suggest charts\"\n",
              "            style=\"display:none;\">\n",
              "\n",
              "<svg xmlns=\"http://www.w3.org/2000/svg\" height=\"24px\"viewBox=\"0 0 24 24\"\n",
              "     width=\"24px\">\n",
              "    <g>\n",
              "        <path d=\"M19 3H5c-1.1 0-2 .9-2 2v14c0 1.1.9 2 2 2h14c1.1 0 2-.9 2-2V5c0-1.1-.9-2-2-2zM9 17H7v-7h2v7zm4 0h-2V7h2v10zm4 0h-2v-4h2v4z\"/>\n",
              "    </g>\n",
              "</svg>\n",
              "  </button>\n",
              "\n",
              "<style>\n",
              "  .colab-df-quickchart {\n",
              "      --bg-color: #E8F0FE;\n",
              "      --fill-color: #1967D2;\n",
              "      --hover-bg-color: #E2EBFA;\n",
              "      --hover-fill-color: #174EA6;\n",
              "      --disabled-fill-color: #AAA;\n",
              "      --disabled-bg-color: #DDD;\n",
              "  }\n",
              "\n",
              "  [theme=dark] .colab-df-quickchart {\n",
              "      --bg-color: #3B4455;\n",
              "      --fill-color: #D2E3FC;\n",
              "      --hover-bg-color: #434B5C;\n",
              "      --hover-fill-color: #FFFFFF;\n",
              "      --disabled-bg-color: #3B4455;\n",
              "      --disabled-fill-color: #666;\n",
              "  }\n",
              "\n",
              "  .colab-df-quickchart {\n",
              "    background-color: var(--bg-color);\n",
              "    border: none;\n",
              "    border-radius: 50%;\n",
              "    cursor: pointer;\n",
              "    display: none;\n",
              "    fill: var(--fill-color);\n",
              "    height: 32px;\n",
              "    padding: 0;\n",
              "    width: 32px;\n",
              "  }\n",
              "\n",
              "  .colab-df-quickchart:hover {\n",
              "    background-color: var(--hover-bg-color);\n",
              "    box-shadow: 0 1px 2px rgba(60, 64, 67, 0.3), 0 1px 3px 1px rgba(60, 64, 67, 0.15);\n",
              "    fill: var(--button-hover-fill-color);\n",
              "  }\n",
              "\n",
              "  .colab-df-quickchart-complete:disabled,\n",
              "  .colab-df-quickchart-complete:disabled:hover {\n",
              "    background-color: var(--disabled-bg-color);\n",
              "    fill: var(--disabled-fill-color);\n",
              "    box-shadow: none;\n",
              "  }\n",
              "\n",
              "  .colab-df-spinner {\n",
              "    border: 2px solid var(--fill-color);\n",
              "    border-color: transparent;\n",
              "    border-bottom-color: var(--fill-color);\n",
              "    animation:\n",
              "      spin 1s steps(1) infinite;\n",
              "  }\n",
              "\n",
              "  @keyframes spin {\n",
              "    0% {\n",
              "      border-color: transparent;\n",
              "      border-bottom-color: var(--fill-color);\n",
              "      border-left-color: var(--fill-color);\n",
              "    }\n",
              "    20% {\n",
              "      border-color: transparent;\n",
              "      border-left-color: var(--fill-color);\n",
              "      border-top-color: var(--fill-color);\n",
              "    }\n",
              "    30% {\n",
              "      border-color: transparent;\n",
              "      border-left-color: var(--fill-color);\n",
              "      border-top-color: var(--fill-color);\n",
              "      border-right-color: var(--fill-color);\n",
              "    }\n",
              "    40% {\n",
              "      border-color: transparent;\n",
              "      border-right-color: var(--fill-color);\n",
              "      border-top-color: var(--fill-color);\n",
              "    }\n",
              "    60% {\n",
              "      border-color: transparent;\n",
              "      border-right-color: var(--fill-color);\n",
              "    }\n",
              "    80% {\n",
              "      border-color: transparent;\n",
              "      border-right-color: var(--fill-color);\n",
              "      border-bottom-color: var(--fill-color);\n",
              "    }\n",
              "    90% {\n",
              "      border-color: transparent;\n",
              "      border-bottom-color: var(--fill-color);\n",
              "    }\n",
              "  }\n",
              "</style>\n",
              "\n",
              "  <script>\n",
              "    async function quickchart(key) {\n",
              "      const quickchartButtonEl =\n",
              "        document.querySelector('#' + key + ' button');\n",
              "      quickchartButtonEl.disabled = true;  // To prevent multiple clicks.\n",
              "      quickchartButtonEl.classList.add('colab-df-spinner');\n",
              "      try {\n",
              "        const charts = await google.colab.kernel.invokeFunction(\n",
              "            'suggestCharts', [key], {});\n",
              "      } catch (error) {\n",
              "        console.error('Error during call to suggestCharts:', error);\n",
              "      }\n",
              "      quickchartButtonEl.classList.remove('colab-df-spinner');\n",
              "      quickchartButtonEl.classList.add('colab-df-quickchart-complete');\n",
              "    }\n",
              "    (() => {\n",
              "      let quickchartButtonEl =\n",
              "        document.querySelector('#df-c81b8ace-7b4e-4861-83fa-a5a1e99ebff0 button');\n",
              "      quickchartButtonEl.style.display =\n",
              "        google.colab.kernel.accessAllowed ? 'block' : 'none';\n",
              "    })();\n",
              "  </script>\n",
              "</div>\n",
              "\n",
              "    </div>\n",
              "  </div>\n"
            ],
            "application/vnd.google.colaboratory.intrinsic+json": {
              "type": "dataframe",
              "variable_name": "data"
            }
          },
          "metadata": {},
          "execution_count": 23
        }
      ],
      "source": [
        "import pandas as pd\n",
        "import numpy as np\n",
        "import matplotlib.pyplot as plt\n",
        "import seaborn as sns\n",
        "from sklearn.model_selection import train_test_split\n",
        "from sklearn.preprocessing import StandardScaler, OneHotEncoder\n",
        "from sklearn.linear_model import LogisticRegression\n",
        "from sklearn.metrics import roc_auc_score, classification_report\n",
        "from sklearn.compose import ColumnTransformer\n",
        "from sklearn.pipeline import Pipeline\n",
        "from sklearn.impute import SimpleImputer\n",
        "from imblearn.over_sampling import SMOTE\n",
        "\n",
        "# Load the data\n",
        "data = pd.read_csv('KGB.csv')\n",
        "\n",
        "# Display the first few rows of the dataset\n",
        "data.head()"
      ]
    },
    {
      "cell_type": "code",
      "source": [
        "#Searching for Missings,type of data and also known the shape of data\n",
        "print(data.info())"
      ],
      "metadata": {
        "colab": {
          "base_uri": "https://localhost:8080/"
        },
        "id": "0yxeK_1-JW23",
        "outputId": "646ea370-2421-4e4c-e9ee-daad0eea6c63"
      },
      "execution_count": 24,
      "outputs": [
        {
          "output_type": "stream",
          "name": "stdout",
          "text": [
            "<class 'pandas.core.frame.DataFrame'>\n",
            "RangeIndex: 3000 entries, 0 to 2999\n",
            "Data columns (total 28 columns):\n",
            " #   Column    Non-Null Count  Dtype \n",
            "---  ------    --------------  ----- \n",
            " 0   TITLE     3000 non-null   object\n",
            " 1   CHILDREN  3000 non-null   int64 \n",
            " 2   PERS_H    3000 non-null   int64 \n",
            " 3   AGE       3000 non-null   int64 \n",
            " 4   TMADD     3000 non-null   int64 \n",
            " 5   TMJOB1    3000 non-null   int64 \n",
            " 6   TEL       3000 non-null   int64 \n",
            " 7   NMBLOAN   3000 non-null   int64 \n",
            " 8   FINLOAN   3000 non-null   int64 \n",
            " 9   INCOME    3000 non-null   int64 \n",
            " 10  EC_CARD   3000 non-null   int64 \n",
            " 11  INC       3000 non-null   int64 \n",
            " 12  INC1      3000 non-null   int64 \n",
            " 13  STATUS    3000 non-null   object\n",
            " 14  BUREAU    3000 non-null   int64 \n",
            " 15  LOCATION  3000 non-null   int64 \n",
            " 16  LOANS     3000 non-null   int64 \n",
            " 17  REGN      3000 non-null   int64 \n",
            " 18  DIV       3000 non-null   int64 \n",
            " 19  CASH      3000 non-null   int64 \n",
            " 20  PRODUCT   2988 non-null   object\n",
            " 21  RESID     2465 non-null   object\n",
            " 22  NAT       3000 non-null   object\n",
            " 23  PROF      2999 non-null   object\n",
            " 24  CAR       3000 non-null   object\n",
            " 25  CARDS     3000 non-null   object\n",
            " 26  GB        3000 non-null   int64 \n",
            " 27  _freq_    3000 non-null   int64 \n",
            "dtypes: int64(20), object(8)\n",
            "memory usage: 656.4+ KB\n",
            "None\n"
          ]
        }
      ]
    },
    {
      "cell_type": "code",
      "source": [
        "data.shape"
      ],
      "metadata": {
        "colab": {
          "base_uri": "https://localhost:8080/"
        },
        "id": "8qH2FPgH76QZ",
        "outputId": "35bc71aa-26de-46af-c566-ebcfee4bd946"
      },
      "execution_count": 25,
      "outputs": [
        {
          "output_type": "execute_result",
          "data": {
            "text/plain": [
              "(3000, 28)"
            ]
          },
          "metadata": {},
          "execution_count": 25
        }
      ]
    },
    {
      "cell_type": "code",
      "source": [
        "data.columns"
      ],
      "metadata": {
        "colab": {
          "base_uri": "https://localhost:8080/"
        },
        "id": "uuEbwL4977qF",
        "outputId": "98f2e583-7e0b-4bf9-91f9-72443f3733c1"
      },
      "execution_count": 26,
      "outputs": [
        {
          "output_type": "execute_result",
          "data": {
            "text/plain": [
              "Index(['TITLE', 'CHILDREN', 'PERS_H', 'AGE', 'TMADD', 'TMJOB1', 'TEL',\n",
              "       'NMBLOAN', 'FINLOAN', 'INCOME', 'EC_CARD', 'INC', 'INC1', 'STATUS',\n",
              "       'BUREAU', 'LOCATION', 'LOANS', 'REGN', 'DIV', 'CASH', 'PRODUCT',\n",
              "       'RESID', 'NAT', 'PROF', 'CAR', 'CARDS', 'GB', '_freq_'],\n",
              "      dtype='object')"
            ]
          },
          "metadata": {},
          "execution_count": 26
        }
      ]
    },
    {
      "cell_type": "code",
      "source": [
        "#Looking unique values\n",
        "print(data.nunique())"
      ],
      "metadata": {
        "colab": {
          "base_uri": "https://localhost:8080/"
        },
        "id": "xxkr7icPJhFZ",
        "outputId": "dde3b087-5aa8-417a-bf2b-916c722c5b9b"
      },
      "execution_count": 27,
      "outputs": [
        {
          "output_type": "stream",
          "name": "stdout",
          "text": [
            "TITLE        2\n",
            "CHILDREN     9\n",
            "PERS_H      10\n",
            "AGE         54\n",
            "TMADD       32\n",
            "TMJOB1      33\n",
            "TEL          3\n",
            "NMBLOAN      3\n",
            "FINLOAN      2\n",
            "INCOME      27\n",
            "EC_CARD      2\n",
            "INC          3\n",
            "INC1         6\n",
            "STATUS       6\n",
            "BUREAU       3\n",
            "LOCATION     2\n",
            "LOANS        9\n",
            "REGN         9\n",
            "DIV          2\n",
            "CASH        29\n",
            "PRODUCT      6\n",
            "RESID        2\n",
            "NAT          8\n",
            "PROF         9\n",
            "CAR          3\n",
            "CARDS        7\n",
            "GB           2\n",
            "_freq_       2\n",
            "dtype: int64\n"
          ]
        }
      ]
    },
    {
      "cell_type": "markdown",
      "source": [
        "## Age Distribution (Histogram with KDE)"
      ],
      "metadata": {
        "id": "_1CtlXBJWYTj"
      }
    },
    {
      "cell_type": "code",
      "source": [
        "import plotly.express as px\n",
        "\n",
        "# Plotting Age distribution with a histogram\n",
        "fig = px.histogram(data, x='AGE', nbins=20, marginal='violin', title='Age Distribution')\n",
        "fig.update_layout(bargap=0.1)  # Adding a small gap between bins\n",
        "fig.show()\n"
      ],
      "metadata": {
        "colab": {
          "base_uri": "https://localhost:8080/",
          "height": 542
        },
        "id": "Xryflne2LNaS",
        "outputId": "a49e9c20-2725-40bd-f6aa-a1575b019e30"
      },
      "execution_count": 28,
      "outputs": [
        {
          "output_type": "display_data",
          "data": {
            "text/html": [
              "<html>\n",
              "<head><meta charset=\"utf-8\" /></head>\n",
              "<body>\n",
              "    <div>            <script src=\"https://cdnjs.cloudflare.com/ajax/libs/mathjax/2.7.5/MathJax.js?config=TeX-AMS-MML_SVG\"></script><script type=\"text/javascript\">if (window.MathJax && window.MathJax.Hub && window.MathJax.Hub.Config) {window.MathJax.Hub.Config({SVG: {font: \"STIX-Web\"}});}</script>                <script type=\"text/javascript\">window.PlotlyConfig = {MathJaxConfig: 'local'};</script>\n",
              "        <script charset=\"utf-8\" src=\"https://cdn.plot.ly/plotly-2.35.2.min.js\"></script>                <div id=\"74af2c80-9a11-467b-a8ff-a148dd57aa96\" class=\"plotly-graph-div\" style=\"height:525px; width:100%;\"></div>            <script type=\"text/javascript\">                                    window.PLOTLYENV=window.PLOTLYENV || {};                                    if (document.getElementById(\"74af2c80-9a11-467b-a8ff-a148dd57aa96\")) {                    Plotly.newPlot(                        \"74af2c80-9a11-467b-a8ff-a148dd57aa96\",                        [{\"alignmentgroup\":\"True\",\"bingroup\":\"x\",\"hovertemplate\":\"AGE=%{x}\\u003cbr\\u003ecount=%{y}\\u003cextra\\u003e\\u003c\\u002fextra\\u003e\",\"legendgroup\":\"\",\"marker\":{\"color\":\"#636efa\",\"pattern\":{\"shape\":\"\"}},\"name\":\"\",\"nbinsx\":20,\"offsetgroup\":\"\",\"orientation\":\"v\",\"showlegend\":false,\"x\":[46,34,31,39,32,23,42,35,26,24,20,44,23,44,36,25,54,29,39,38,35,20,24,24,46,39,35,30,30,25,22,55,22,38,30,24,66,51,46,38,38,24,41,41,28,36,33,21,20,19,26,57,37,36,22,56,47,41,40,32,30,56,46,43,29,36,31,28,27,44,29,54,29,65,28,34,24,40,40,28,25,35,43,40,46,70,41,35,32,52,37,34,31,22,63,40,35,29,49,37,32,26,55,42,40,20,31,24,57,31,34,50,68,22,58,33,26,51,39,57,21,43,35,42,58,44,23,66,64,22,46,31,28,41,30,34,30,29,26,20,68,58,45,22,59,22,21,54,27,35,30,37,36,23,48,33,47,31,39,34,49,37,38,56,39,37,33,21,64,39,38,26,55,49,37,28,25,28,46,46,50,35,28,53,22,46,19,38,23,25,32,29,29,28,54,30,27,21,31,37,32,26,42,22,37,25,66,28,25,56,40,39,37,64,31,48,28,60,50,34,26,39,47,46,38,34,66,58,41,32,55,32,22,66,44,41,23,36,35,20,45,39,33,28,34,23,36,34,34,31,60,41,41,65,47,41,33,31,21,44,25,59,28,18,46,23,49,37,20,25,29,39,28,38,24,43,39,39,62,56,32,56,40,24,22,26,42,30,24,56,46,46,39,36,44,38,32,32,60,59,24,49,51,40,37,21,48,41,25,40,24,21,38,32,22,41,39,28,63,34,36,26,36,60,29,25,22,49,46,23,23,19,51,50,25,57,45,42,41,22,43,31,19,24,20,45,26,25,23,31,25,33,28,39,51,44,44,33,32,29,53,47,43,39,35,30,26,39,28,60,43,40,37,35,33,42,25,64,47,37,23,67,63,46,41,33,30,22,40,32,30,32,22,44,66,32,56,40,31,30,28,20,51,38,29,19,41,30,40,25,40,29,27,46,40,24,38,42,41,20,63,39,32,46,41,34,39,52,65,38,38,26,70,30,19,18,29,26,37,29,50,21,59,45,44,34,56,35,47,19,55,46,40,59,36,35,28,28,38,36,34,23,55,37,48,24,22,36,31,30,34,29,26,28,41,39,33,39,22,28,31,27,45,37,29,27,38,29,21,40,38,47,41,24,39,37,32,63,40,35,56,41,39,50,23,63,55,33,31,56,30,35,28,22,46,20,66,58,57,47,42,28,52,34,33,21,19,44,30,27,37,36,19,32,28,27,39,21,20,68,52,46,25,20,38,57,54,41,38,20,45,33,47,40,38,36,35,49,45,56,35,29,23,33,52,30,27,40,30,43,29,27,52,42,42,33,36,42,33,29,51,38,60,36,34,32,28,44,25,38,46,31,35,31,29,28,62,27,21,18,50,49,42,27,49,25,21,48,45,42,41,32,51,41,33,27,24,57,38,28,28,51,31,22,19,19,67,34,31,51,45,38,35,32,25,42,43,40,68,33,59,36,35,34,27,25,37,20,30,29,27,22,66,27,40,39,31,37,58,23,27,40,40,40,22,37,29,23,38,35,48,31,44,42,39,28,23,41,41,40,53,25,23,69,46,42,35,52,34,28,27,21,34,31,26,23,22,19,19,21,20,22,20,19,22,21,20,22,19,20,22,20,22,20,20,19,19,22,20,22,21,20,18,21,20,21,20,22,21,22,21,22,21,20,22,20,20,20,20,20,22,19,21,20,22,19,20,22,22,21,21,21,19,22,20,22,19,20,20,22,21,22,21,21,19,21,19,22,20,20,19,19,22,21,22,19,21,22,19,22,19,22,20,20,21,19,22,21,22,20,21,22,21,19,19,22,20,19,19,22,20,22,21,21,20,22,22,19,21,18,21,20,22,21,22,22,19,22,22,20,22,21,22,19,22,19,20,22,22,19,20,20,20,21,22,19,20,19,21,22,20,20,22,22,22,21,21,22,20,22,22,21,21,22,20,22,22,19,22,22,22,19,19,21,22,20,22,21,21,22,22,22,21,21,20,22,20,22,23,22,22,22,22,22,22,20,20,22,22,22,20,19,22,20,21,21,22,19,22,20,56,54,51,47,43,37,33,33,32,31,30,30,27,26,25,25,24,24,23,23,53,50,44,32,29,26,24,35,30,30,25,25,24,23,52,48,33,30,29,29,25,24,55,39,30,36,34,34,33,32,27,23,45,45,34,29,25,25,24,23,49,43,37,34,32,31,31,30,28,26,44,37,45,44,33,32,27,24,39,27,27,26,23,31,29,26,52,50,49,32,31,29,62,38,36,30,35,35,34,31,23,40,31,35,32,23,45,40,34,30,29,27,27,25,25,45,36,33,29,27,25,24,23,39,39,27,26,49,33,29,26,25,49,44,32,30,27,24,64,56,47,37,37,33,28,25,35,34,25,42,24,39,33,32,28,42,32,65,56,44,44,42,31,29,27,26,24,45,38,27,36,24,24,50,32,38,57,45,38,34,30,26,26,37,30,27,24,23,55,48,32,27,26,55,31,29,25,65,53,40,38,32,29,25,67,48,24,23,38,25,24,47,39,33,26,24,66,43,30,71,55,39,27,50,43,29,41,37,29,26,23,31,25,40,35,32,31,55,35,25,38,26,32,32,29,27,24,23,29,27,25,43,33,29,29,45,26,24,31,30,29,29,28,27,23,49,25,46,37,33,28,24,34,33,24,41,62,43,36,32,26,45,25,36,31,30,29,40,38,24,30,27,67,43,42,39,34,62,41,48,40,32,31,27,35,34,31,25,25,24,57,33,32,32,30,45,34,53,27,43,47,29,26,47,37,58,54,39,36,34,28,25,37,43,37,37,25,37,28,28,24,55,38,34,43,41,39,23,36,32,45,41,26,25,31,28,24,23,55,35,53,35,31,31,24,24,57,43,35,27,26,47,26,45,33,26,51,26,26,36,29,27,36,38,24,23,33,27,43,35,29,23,31,30,30,65,49,26,47,37,29,29,23,35,32,29,27,49,47,41,39,32,29,54,29,26,53,41,24,33,39,30,28,26,33,32,31,30,24,23,48,39,38,34,29,28,27,53,36,26,40,38,24,43,33,25,25,24,42,42,26,23,46,28,28,26,25,30,26,24,59,41,34,30,43,36,35,32,30,34,32,29,23,31,26,37,27,27,23,23,57,27,37,30,27,23,43,42,34,32,27,40,37,30,25,24,23,50,49,43,38,44,26,24,31,29,27,27,43,36,31,45,37,23,23,41,33,30,25,34,26,26,24,23,23,28,25,35,32,26,26,23,27,26,55,55,32,25,47,31,41,40,37,29,57,46,40,35,27,60,46,25,37,45,28,25,25,25,24,43,37,29,23,33,30,38,35,24,24,51,39,68,23,50,39,39,37,62,49,40,33,31,27,25,45,23,45,28,28,27,26,24,38,38,33,27,26,57,51,26,23,30,25,38,27,37,31,31,27,42,30,27,35,30,29,26,26,25,56,35,28,27,32,29,23,42,37,36,32,28,27,24,48,36,26,26,34,26,26,26,23,29,58,39,26,51,48,40,30,25,69,67,39,34,30,27,35,23,50,38,27,37,31,28,24,23,39,28,61,54,41,33,31,27,26,33,31,29,23,30,30,35,45,26,61,51,45,30,25,24,69,56,28,37,29,23,50,40,45,38,27,26,46,40,33,24,41,28,24,46,42,35,34,31,24,23,32,24,47,29,41,27,38,65,40,27,44,38,38,34,30,23,51,43,27,25,23,41,39,37,37,26,26,38,33,29,50,33,49,38,34,31,24,23,23,45,30,26,59,39,38,25,32,47,40,37,23,31,31,29,25,65,39,35,31,26,67,39,34,29,34,33,26,54,34,31,41,37,27,53,47,38,37,24,23,40,33,31,25,55,44,42,41,30,28,24,23,30,58,57,54,41,36,31,30,28,46,36,26,30,28,34,28,51,40,25,23,33,23,65,45,35,35,35,30,24,24,64,52,31,30,43,44,31,36,34,64,28,36,27,24,58,47,30,23,30,29,68,53,30,26,25,47,45,29,45,51,33,31,29,33,33,32,28,26,24,27,25,45,36,30,32,28,26,26,24,23,63,47,43,39,29,27,25,25,23,57,41,36,32,29,26,26,23,31,25,63,36,34,50,48,37,44,31,25,25,45,34,34,33,32,56,50,33,29,27,49,38,30,28,26,56,40,29,28,43,28,44,38,32,28,23,49,24,40,36,36,28,27,25,47,37,33,33,56,41,38,29,26,26,24,51,41,40,34,34,26,32,30,24,61,29,27,23,27,23,43,39,36,29,25,23,23,29,32,32,31,41,39,36,35,29,29,46,43,38,30,29,28,38,53,28,27,26,39,28,25,23,67,32,29,23,23,51,44,31,30,29,24,51,43,42,39,33,24,56,36,33,30,25,48,39,38,30,27,25,42,29,27,23,56,46,37,36,34,28,62,54,45,33,31,30,24,45,45,30,30,29,44,39,38,33,27,36,25,36,31,28,25,47,45,38,35,28,40,32,28,24,39,50,44,38,31,24,52,38,31,27,45,35,51,47,35,34,23,23,63,40,33,30,29,26,23,30,27,25,51,43,41,31,30,41,24,23,62,25,55,51,37,34,33,27,25,33,30,24,23,55,54,43,35,26,46,37,29,43,32,27,41,33,47,46,28,26,45,43,33,39,26,23,23,40,33,54,45,41,40,32,31,24,40,39,36,35,30,34,32,31,30,29,24,52,41,32,29,29,27,27,25,58,57,56,52,34,34,26,25,23,34,26,45,26,26,24,41,37,24,38,31,51,40,37,30,24,43,42,29,25,39,38,32,29,26,26,25,44,34,33,33,30,30,29,25,52,35,30,28,27,35,29,23,41,40,40,32,48,38,29,24,50,41,31,24,38,29,29,29,27,40,39,28,39,35,24,24,23,23,55,47,42,33,33,31,59,34,29,38,27,53,45,25,25,23,39,32,31,25,24,24,44,33,26,25,51,25,54,45,24,23,42,40,34,25,24,23,24,23,54,44,33,48,25,58,54,46,45,40,38,36,29,27,39,39,32,30,27,24,22,57,38,35,31,38,34,25,51,31,30,52,35,29,36,42,23,30,24,30,27,23,21,30,27,50,45,45,39,26,26,24,24,23,22,33,30,55,51,32,43,23,32,37,31,30,24,31,25,21,37,35,33,26,34,29,39,32,36,26,23,27,25,39,31,56,32,52,28,32,32,31,25,22,20,54,30,28,42,29,59,44,28,40,33,35,31,20,49,39,25,25,23,20,50,37,30,56,45,31,29,29,21,27,29,30,31,23,27,32,27,43,28,27,22,49,30,26,44,41,37,30,55,41,24,21,50,42,38,29,24,23,37,26,46,55,23,31,31,29,46,32,29,23,38,33,26,24,26,21,42,28,39,30,49,33,28,25,25,38,32,32,31,29,38,52,27,43,20,46,36,40,24,27,23,41,35,25,53,45,42,35,24,24,62,55,46,23,32,21,43,40,36,24,52,29,22,45,26,25,36,36,34,26,25,24,21,42,31,41,27,26,38,28,27,38,21,42,21,39,24,20,31,63,35,31,27,31,23,22,56,42,25,22,48,43,37,29,55,32,23,35,37,35,23,26,52,48,47,34,26,41,38,35,30,33,24,21,53,27,27,26,21,67,51,37,30,29,27,25,25,39,60,38,34,34,20,30,50,31,23,39,37,29,26,25,47,35,24,50,26,45,35,22,47,23,53,40,35,23,24,24,20,44,31,25,24,59,50,41,27,23,39,35,34,29,25,25,58,28,28,24,31,41,39,26,26,21,27,27,26,24,23,40,30,34,27,26,19,44,27,30,22,43,31,26,29,26,20,34,35,26,40,39,19,54,43,28,27,32,20,29,19,45,24,25,24,66,58,47,28,26,31,26,22,59,47,37,36,37,31,21,63,31,22,49,27,26,25,23,22,49,45,31,31,30,23,23,27,26,25,23,45,39,51,38,35,27,23,45,41,22,32,29,28,27,22,34,27,24,46,28,26,36,30,53,45,28,24,63,51,31,28,63,39,29,23,51,23,52,40,39,25,55,27,25,24,31,31,20,37,25,20,32,32,53,51,26,29,28,50,25,22,56,27,27,25,25,38,54,50,28,24,35,27,53,40,39,34,29,26,55,37,39,37,28,26,59,45,38,35,32,31,29,28,41,30,28,47,43,39,49,26,37,29,24,53,37,22,64,46,44,39,37,22,30,21,59,50,36,29,29,26,22,47,42,26,34,31,29,41,30,29,20,56,28,34,24,20,41,31,24,25,32,28,23,27,25,23,27,25,31,25,54,48,38,24,32,65,49,28,26,41,27,23,31,50,27,23,67,46,47,26,53,51,27,24,38,34,59,55,28,21,31,24,60,24,37,27,25,36,29,21,56,45,37,31,22,30,27,26,52,41,35,30,28,49,22,45,27,41,27,42,29,63,23,24,33,31,26,36,26,35,27,51,30,31,28,43,33,27,54,39,24,47,26,24,56,27,26,23,41,28,26,24,39,56,44,27,39,20,44,24,24,23,27,43,30,47,37,30,24,23,32,37,44,20,26,32,41,31,28,34,26,58,49,34,30,24,21,31,67,23,32,27,21,49,44,34,20,37,39,33,27,23,35,23,35,28,25,53,29,19,27,27,52,37,29,36,36,25,34,37,35,30,30,44,28,26,37,21,20,49,38,48,42,33,20,48,37,19,26,43,38,47,48,31,24,23,24,22,46,19,33,45,42,33,26,45,33,32,27,59,37,36,25,31,21,33,26,26,34,22,41,28,27,41,21,31,56,42,42,35,30,21,57,29,33,26,34,32,31,27],\"xaxis\":\"x\",\"yaxis\":\"y\",\"type\":\"histogram\"},{\"alignmentgroup\":\"True\",\"hovertemplate\":\"AGE=%{x}\\u003cextra\\u003e\\u003c\\u002fextra\\u003e\",\"legendgroup\":\"\",\"marker\":{\"color\":\"#636efa\"},\"name\":\"\",\"offsetgroup\":\"\",\"scalegroup\":\"x\",\"showlegend\":false,\"x\":[46,34,31,39,32,23,42,35,26,24,20,44,23,44,36,25,54,29,39,38,35,20,24,24,46,39,35,30,30,25,22,55,22,38,30,24,66,51,46,38,38,24,41,41,28,36,33,21,20,19,26,57,37,36,22,56,47,41,40,32,30,56,46,43,29,36,31,28,27,44,29,54,29,65,28,34,24,40,40,28,25,35,43,40,46,70,41,35,32,52,37,34,31,22,63,40,35,29,49,37,32,26,55,42,40,20,31,24,57,31,34,50,68,22,58,33,26,51,39,57,21,43,35,42,58,44,23,66,64,22,46,31,28,41,30,34,30,29,26,20,68,58,45,22,59,22,21,54,27,35,30,37,36,23,48,33,47,31,39,34,49,37,38,56,39,37,33,21,64,39,38,26,55,49,37,28,25,28,46,46,50,35,28,53,22,46,19,38,23,25,32,29,29,28,54,30,27,21,31,37,32,26,42,22,37,25,66,28,25,56,40,39,37,64,31,48,28,60,50,34,26,39,47,46,38,34,66,58,41,32,55,32,22,66,44,41,23,36,35,20,45,39,33,28,34,23,36,34,34,31,60,41,41,65,47,41,33,31,21,44,25,59,28,18,46,23,49,37,20,25,29,39,28,38,24,43,39,39,62,56,32,56,40,24,22,26,42,30,24,56,46,46,39,36,44,38,32,32,60,59,24,49,51,40,37,21,48,41,25,40,24,21,38,32,22,41,39,28,63,34,36,26,36,60,29,25,22,49,46,23,23,19,51,50,25,57,45,42,41,22,43,31,19,24,20,45,26,25,23,31,25,33,28,39,51,44,44,33,32,29,53,47,43,39,35,30,26,39,28,60,43,40,37,35,33,42,25,64,47,37,23,67,63,46,41,33,30,22,40,32,30,32,22,44,66,32,56,40,31,30,28,20,51,38,29,19,41,30,40,25,40,29,27,46,40,24,38,42,41,20,63,39,32,46,41,34,39,52,65,38,38,26,70,30,19,18,29,26,37,29,50,21,59,45,44,34,56,35,47,19,55,46,40,59,36,35,28,28,38,36,34,23,55,37,48,24,22,36,31,30,34,29,26,28,41,39,33,39,22,28,31,27,45,37,29,27,38,29,21,40,38,47,41,24,39,37,32,63,40,35,56,41,39,50,23,63,55,33,31,56,30,35,28,22,46,20,66,58,57,47,42,28,52,34,33,21,19,44,30,27,37,36,19,32,28,27,39,21,20,68,52,46,25,20,38,57,54,41,38,20,45,33,47,40,38,36,35,49,45,56,35,29,23,33,52,30,27,40,30,43,29,27,52,42,42,33,36,42,33,29,51,38,60,36,34,32,28,44,25,38,46,31,35,31,29,28,62,27,21,18,50,49,42,27,49,25,21,48,45,42,41,32,51,41,33,27,24,57,38,28,28,51,31,22,19,19,67,34,31,51,45,38,35,32,25,42,43,40,68,33,59,36,35,34,27,25,37,20,30,29,27,22,66,27,40,39,31,37,58,23,27,40,40,40,22,37,29,23,38,35,48,31,44,42,39,28,23,41,41,40,53,25,23,69,46,42,35,52,34,28,27,21,34,31,26,23,22,19,19,21,20,22,20,19,22,21,20,22,19,20,22,20,22,20,20,19,19,22,20,22,21,20,18,21,20,21,20,22,21,22,21,22,21,20,22,20,20,20,20,20,22,19,21,20,22,19,20,22,22,21,21,21,19,22,20,22,19,20,20,22,21,22,21,21,19,21,19,22,20,20,19,19,22,21,22,19,21,22,19,22,19,22,20,20,21,19,22,21,22,20,21,22,21,19,19,22,20,19,19,22,20,22,21,21,20,22,22,19,21,18,21,20,22,21,22,22,19,22,22,20,22,21,22,19,22,19,20,22,22,19,20,20,20,21,22,19,20,19,21,22,20,20,22,22,22,21,21,22,20,22,22,21,21,22,20,22,22,19,22,22,22,19,19,21,22,20,22,21,21,22,22,22,21,21,20,22,20,22,23,22,22,22,22,22,22,20,20,22,22,22,20,19,22,20,21,21,22,19,22,20,56,54,51,47,43,37,33,33,32,31,30,30,27,26,25,25,24,24,23,23,53,50,44,32,29,26,24,35,30,30,25,25,24,23,52,48,33,30,29,29,25,24,55,39,30,36,34,34,33,32,27,23,45,45,34,29,25,25,24,23,49,43,37,34,32,31,31,30,28,26,44,37,45,44,33,32,27,24,39,27,27,26,23,31,29,26,52,50,49,32,31,29,62,38,36,30,35,35,34,31,23,40,31,35,32,23,45,40,34,30,29,27,27,25,25,45,36,33,29,27,25,24,23,39,39,27,26,49,33,29,26,25,49,44,32,30,27,24,64,56,47,37,37,33,28,25,35,34,25,42,24,39,33,32,28,42,32,65,56,44,44,42,31,29,27,26,24,45,38,27,36,24,24,50,32,38,57,45,38,34,30,26,26,37,30,27,24,23,55,48,32,27,26,55,31,29,25,65,53,40,38,32,29,25,67,48,24,23,38,25,24,47,39,33,26,24,66,43,30,71,55,39,27,50,43,29,41,37,29,26,23,31,25,40,35,32,31,55,35,25,38,26,32,32,29,27,24,23,29,27,25,43,33,29,29,45,26,24,31,30,29,29,28,27,23,49,25,46,37,33,28,24,34,33,24,41,62,43,36,32,26,45,25,36,31,30,29,40,38,24,30,27,67,43,42,39,34,62,41,48,40,32,31,27,35,34,31,25,25,24,57,33,32,32,30,45,34,53,27,43,47,29,26,47,37,58,54,39,36,34,28,25,37,43,37,37,25,37,28,28,24,55,38,34,43,41,39,23,36,32,45,41,26,25,31,28,24,23,55,35,53,35,31,31,24,24,57,43,35,27,26,47,26,45,33,26,51,26,26,36,29,27,36,38,24,23,33,27,43,35,29,23,31,30,30,65,49,26,47,37,29,29,23,35,32,29,27,49,47,41,39,32,29,54,29,26,53,41,24,33,39,30,28,26,33,32,31,30,24,23,48,39,38,34,29,28,27,53,36,26,40,38,24,43,33,25,25,24,42,42,26,23,46,28,28,26,25,30,26,24,59,41,34,30,43,36,35,32,30,34,32,29,23,31,26,37,27,27,23,23,57,27,37,30,27,23,43,42,34,32,27,40,37,30,25,24,23,50,49,43,38,44,26,24,31,29,27,27,43,36,31,45,37,23,23,41,33,30,25,34,26,26,24,23,23,28,25,35,32,26,26,23,27,26,55,55,32,25,47,31,41,40,37,29,57,46,40,35,27,60,46,25,37,45,28,25,25,25,24,43,37,29,23,33,30,38,35,24,24,51,39,68,23,50,39,39,37,62,49,40,33,31,27,25,45,23,45,28,28,27,26,24,38,38,33,27,26,57,51,26,23,30,25,38,27,37,31,31,27,42,30,27,35,30,29,26,26,25,56,35,28,27,32,29,23,42,37,36,32,28,27,24,48,36,26,26,34,26,26,26,23,29,58,39,26,51,48,40,30,25,69,67,39,34,30,27,35,23,50,38,27,37,31,28,24,23,39,28,61,54,41,33,31,27,26,33,31,29,23,30,30,35,45,26,61,51,45,30,25,24,69,56,28,37,29,23,50,40,45,38,27,26,46,40,33,24,41,28,24,46,42,35,34,31,24,23,32,24,47,29,41,27,38,65,40,27,44,38,38,34,30,23,51,43,27,25,23,41,39,37,37,26,26,38,33,29,50,33,49,38,34,31,24,23,23,45,30,26,59,39,38,25,32,47,40,37,23,31,31,29,25,65,39,35,31,26,67,39,34,29,34,33,26,54,34,31,41,37,27,53,47,38,37,24,23,40,33,31,25,55,44,42,41,30,28,24,23,30,58,57,54,41,36,31,30,28,46,36,26,30,28,34,28,51,40,25,23,33,23,65,45,35,35,35,30,24,24,64,52,31,30,43,44,31,36,34,64,28,36,27,24,58,47,30,23,30,29,68,53,30,26,25,47,45,29,45,51,33,31,29,33,33,32,28,26,24,27,25,45,36,30,32,28,26,26,24,23,63,47,43,39,29,27,25,25,23,57,41,36,32,29,26,26,23,31,25,63,36,34,50,48,37,44,31,25,25,45,34,34,33,32,56,50,33,29,27,49,38,30,28,26,56,40,29,28,43,28,44,38,32,28,23,49,24,40,36,36,28,27,25,47,37,33,33,56,41,38,29,26,26,24,51,41,40,34,34,26,32,30,24,61,29,27,23,27,23,43,39,36,29,25,23,23,29,32,32,31,41,39,36,35,29,29,46,43,38,30,29,28,38,53,28,27,26,39,28,25,23,67,32,29,23,23,51,44,31,30,29,24,51,43,42,39,33,24,56,36,33,30,25,48,39,38,30,27,25,42,29,27,23,56,46,37,36,34,28,62,54,45,33,31,30,24,45,45,30,30,29,44,39,38,33,27,36,25,36,31,28,25,47,45,38,35,28,40,32,28,24,39,50,44,38,31,24,52,38,31,27,45,35,51,47,35,34,23,23,63,40,33,30,29,26,23,30,27,25,51,43,41,31,30,41,24,23,62,25,55,51,37,34,33,27,25,33,30,24,23,55,54,43,35,26,46,37,29,43,32,27,41,33,47,46,28,26,45,43,33,39,26,23,23,40,33,54,45,41,40,32,31,24,40,39,36,35,30,34,32,31,30,29,24,52,41,32,29,29,27,27,25,58,57,56,52,34,34,26,25,23,34,26,45,26,26,24,41,37,24,38,31,51,40,37,30,24,43,42,29,25,39,38,32,29,26,26,25,44,34,33,33,30,30,29,25,52,35,30,28,27,35,29,23,41,40,40,32,48,38,29,24,50,41,31,24,38,29,29,29,27,40,39,28,39,35,24,24,23,23,55,47,42,33,33,31,59,34,29,38,27,53,45,25,25,23,39,32,31,25,24,24,44,33,26,25,51,25,54,45,24,23,42,40,34,25,24,23,24,23,54,44,33,48,25,58,54,46,45,40,38,36,29,27,39,39,32,30,27,24,22,57,38,35,31,38,34,25,51,31,30,52,35,29,36,42,23,30,24,30,27,23,21,30,27,50,45,45,39,26,26,24,24,23,22,33,30,55,51,32,43,23,32,37,31,30,24,31,25,21,37,35,33,26,34,29,39,32,36,26,23,27,25,39,31,56,32,52,28,32,32,31,25,22,20,54,30,28,42,29,59,44,28,40,33,35,31,20,49,39,25,25,23,20,50,37,30,56,45,31,29,29,21,27,29,30,31,23,27,32,27,43,28,27,22,49,30,26,44,41,37,30,55,41,24,21,50,42,38,29,24,23,37,26,46,55,23,31,31,29,46,32,29,23,38,33,26,24,26,21,42,28,39,30,49,33,28,25,25,38,32,32,31,29,38,52,27,43,20,46,36,40,24,27,23,41,35,25,53,45,42,35,24,24,62,55,46,23,32,21,43,40,36,24,52,29,22,45,26,25,36,36,34,26,25,24,21,42,31,41,27,26,38,28,27,38,21,42,21,39,24,20,31,63,35,31,27,31,23,22,56,42,25,22,48,43,37,29,55,32,23,35,37,35,23,26,52,48,47,34,26,41,38,35,30,33,24,21,53,27,27,26,21,67,51,37,30,29,27,25,25,39,60,38,34,34,20,30,50,31,23,39,37,29,26,25,47,35,24,50,26,45,35,22,47,23,53,40,35,23,24,24,20,44,31,25,24,59,50,41,27,23,39,35,34,29,25,25,58,28,28,24,31,41,39,26,26,21,27,27,26,24,23,40,30,34,27,26,19,44,27,30,22,43,31,26,29,26,20,34,35,26,40,39,19,54,43,28,27,32,20,29,19,45,24,25,24,66,58,47,28,26,31,26,22,59,47,37,36,37,31,21,63,31,22,49,27,26,25,23,22,49,45,31,31,30,23,23,27,26,25,23,45,39,51,38,35,27,23,45,41,22,32,29,28,27,22,34,27,24,46,28,26,36,30,53,45,28,24,63,51,31,28,63,39,29,23,51,23,52,40,39,25,55,27,25,24,31,31,20,37,25,20,32,32,53,51,26,29,28,50,25,22,56,27,27,25,25,38,54,50,28,24,35,27,53,40,39,34,29,26,55,37,39,37,28,26,59,45,38,35,32,31,29,28,41,30,28,47,43,39,49,26,37,29,24,53,37,22,64,46,44,39,37,22,30,21,59,50,36,29,29,26,22,47,42,26,34,31,29,41,30,29,20,56,28,34,24,20,41,31,24,25,32,28,23,27,25,23,27,25,31,25,54,48,38,24,32,65,49,28,26,41,27,23,31,50,27,23,67,46,47,26,53,51,27,24,38,34,59,55,28,21,31,24,60,24,37,27,25,36,29,21,56,45,37,31,22,30,27,26,52,41,35,30,28,49,22,45,27,41,27,42,29,63,23,24,33,31,26,36,26,35,27,51,30,31,28,43,33,27,54,39,24,47,26,24,56,27,26,23,41,28,26,24,39,56,44,27,39,20,44,24,24,23,27,43,30,47,37,30,24,23,32,37,44,20,26,32,41,31,28,34,26,58,49,34,30,24,21,31,67,23,32,27,21,49,44,34,20,37,39,33,27,23,35,23,35,28,25,53,29,19,27,27,52,37,29,36,36,25,34,37,35,30,30,44,28,26,37,21,20,49,38,48,42,33,20,48,37,19,26,43,38,47,48,31,24,23,24,22,46,19,33,45,42,33,26,45,33,32,27,59,37,36,25,31,21,33,26,26,34,22,41,28,27,41,21,31,56,42,42,35,30,21,57,29,33,26,34,32,31,27],\"xaxis\":\"x2\",\"yaxis\":\"y2\",\"type\":\"violin\"}],                        {\"template\":{\"data\":{\"histogram2dcontour\":[{\"type\":\"histogram2dcontour\",\"colorbar\":{\"outlinewidth\":0,\"ticks\":\"\"},\"colorscale\":[[0.0,\"#0d0887\"],[0.1111111111111111,\"#46039f\"],[0.2222222222222222,\"#7201a8\"],[0.3333333333333333,\"#9c179e\"],[0.4444444444444444,\"#bd3786\"],[0.5555555555555556,\"#d8576b\"],[0.6666666666666666,\"#ed7953\"],[0.7777777777777778,\"#fb9f3a\"],[0.8888888888888888,\"#fdca26\"],[1.0,\"#f0f921\"]]}],\"choropleth\":[{\"type\":\"choropleth\",\"colorbar\":{\"outlinewidth\":0,\"ticks\":\"\"}}],\"histogram2d\":[{\"type\":\"histogram2d\",\"colorbar\":{\"outlinewidth\":0,\"ticks\":\"\"},\"colorscale\":[[0.0,\"#0d0887\"],[0.1111111111111111,\"#46039f\"],[0.2222222222222222,\"#7201a8\"],[0.3333333333333333,\"#9c179e\"],[0.4444444444444444,\"#bd3786\"],[0.5555555555555556,\"#d8576b\"],[0.6666666666666666,\"#ed7953\"],[0.7777777777777778,\"#fb9f3a\"],[0.8888888888888888,\"#fdca26\"],[1.0,\"#f0f921\"]]}],\"heatmap\":[{\"type\":\"heatmap\",\"colorbar\":{\"outlinewidth\":0,\"ticks\":\"\"},\"colorscale\":[[0.0,\"#0d0887\"],[0.1111111111111111,\"#46039f\"],[0.2222222222222222,\"#7201a8\"],[0.3333333333333333,\"#9c179e\"],[0.4444444444444444,\"#bd3786\"],[0.5555555555555556,\"#d8576b\"],[0.6666666666666666,\"#ed7953\"],[0.7777777777777778,\"#fb9f3a\"],[0.8888888888888888,\"#fdca26\"],[1.0,\"#f0f921\"]]}],\"heatmapgl\":[{\"type\":\"heatmapgl\",\"colorbar\":{\"outlinewidth\":0,\"ticks\":\"\"},\"colorscale\":[[0.0,\"#0d0887\"],[0.1111111111111111,\"#46039f\"],[0.2222222222222222,\"#7201a8\"],[0.3333333333333333,\"#9c179e\"],[0.4444444444444444,\"#bd3786\"],[0.5555555555555556,\"#d8576b\"],[0.6666666666666666,\"#ed7953\"],[0.7777777777777778,\"#fb9f3a\"],[0.8888888888888888,\"#fdca26\"],[1.0,\"#f0f921\"]]}],\"contourcarpet\":[{\"type\":\"contourcarpet\",\"colorbar\":{\"outlinewidth\":0,\"ticks\":\"\"}}],\"contour\":[{\"type\":\"contour\",\"colorbar\":{\"outlinewidth\":0,\"ticks\":\"\"},\"colorscale\":[[0.0,\"#0d0887\"],[0.1111111111111111,\"#46039f\"],[0.2222222222222222,\"#7201a8\"],[0.3333333333333333,\"#9c179e\"],[0.4444444444444444,\"#bd3786\"],[0.5555555555555556,\"#d8576b\"],[0.6666666666666666,\"#ed7953\"],[0.7777777777777778,\"#fb9f3a\"],[0.8888888888888888,\"#fdca26\"],[1.0,\"#f0f921\"]]}],\"surface\":[{\"type\":\"surface\",\"colorbar\":{\"outlinewidth\":0,\"ticks\":\"\"},\"colorscale\":[[0.0,\"#0d0887\"],[0.1111111111111111,\"#46039f\"],[0.2222222222222222,\"#7201a8\"],[0.3333333333333333,\"#9c179e\"],[0.4444444444444444,\"#bd3786\"],[0.5555555555555556,\"#d8576b\"],[0.6666666666666666,\"#ed7953\"],[0.7777777777777778,\"#fb9f3a\"],[0.8888888888888888,\"#fdca26\"],[1.0,\"#f0f921\"]]}],\"mesh3d\":[{\"type\":\"mesh3d\",\"colorbar\":{\"outlinewidth\":0,\"ticks\":\"\"}}],\"scatter\":[{\"fillpattern\":{\"fillmode\":\"overlay\",\"size\":10,\"solidity\":0.2},\"type\":\"scatter\"}],\"parcoords\":[{\"type\":\"parcoords\",\"line\":{\"colorbar\":{\"outlinewidth\":0,\"ticks\":\"\"}}}],\"scatterpolargl\":[{\"type\":\"scatterpolargl\",\"marker\":{\"colorbar\":{\"outlinewidth\":0,\"ticks\":\"\"}}}],\"bar\":[{\"error_x\":{\"color\":\"#2a3f5f\"},\"error_y\":{\"color\":\"#2a3f5f\"},\"marker\":{\"line\":{\"color\":\"#E5ECF6\",\"width\":0.5},\"pattern\":{\"fillmode\":\"overlay\",\"size\":10,\"solidity\":0.2}},\"type\":\"bar\"}],\"scattergeo\":[{\"type\":\"scattergeo\",\"marker\":{\"colorbar\":{\"outlinewidth\":0,\"ticks\":\"\"}}}],\"scatterpolar\":[{\"type\":\"scatterpolar\",\"marker\":{\"colorbar\":{\"outlinewidth\":0,\"ticks\":\"\"}}}],\"histogram\":[{\"marker\":{\"pattern\":{\"fillmode\":\"overlay\",\"size\":10,\"solidity\":0.2}},\"type\":\"histogram\"}],\"scattergl\":[{\"type\":\"scattergl\",\"marker\":{\"colorbar\":{\"outlinewidth\":0,\"ticks\":\"\"}}}],\"scatter3d\":[{\"type\":\"scatter3d\",\"line\":{\"colorbar\":{\"outlinewidth\":0,\"ticks\":\"\"}},\"marker\":{\"colorbar\":{\"outlinewidth\":0,\"ticks\":\"\"}}}],\"scattermapbox\":[{\"type\":\"scattermapbox\",\"marker\":{\"colorbar\":{\"outlinewidth\":0,\"ticks\":\"\"}}}],\"scatterternary\":[{\"type\":\"scatterternary\",\"marker\":{\"colorbar\":{\"outlinewidth\":0,\"ticks\":\"\"}}}],\"scattercarpet\":[{\"type\":\"scattercarpet\",\"marker\":{\"colorbar\":{\"outlinewidth\":0,\"ticks\":\"\"}}}],\"carpet\":[{\"aaxis\":{\"endlinecolor\":\"#2a3f5f\",\"gridcolor\":\"white\",\"linecolor\":\"white\",\"minorgridcolor\":\"white\",\"startlinecolor\":\"#2a3f5f\"},\"baxis\":{\"endlinecolor\":\"#2a3f5f\",\"gridcolor\":\"white\",\"linecolor\":\"white\",\"minorgridcolor\":\"white\",\"startlinecolor\":\"#2a3f5f\"},\"type\":\"carpet\"}],\"table\":[{\"cells\":{\"fill\":{\"color\":\"#EBF0F8\"},\"line\":{\"color\":\"white\"}},\"header\":{\"fill\":{\"color\":\"#C8D4E3\"},\"line\":{\"color\":\"white\"}},\"type\":\"table\"}],\"barpolar\":[{\"marker\":{\"line\":{\"color\":\"#E5ECF6\",\"width\":0.5},\"pattern\":{\"fillmode\":\"overlay\",\"size\":10,\"solidity\":0.2}},\"type\":\"barpolar\"}],\"pie\":[{\"automargin\":true,\"type\":\"pie\"}]},\"layout\":{\"autotypenumbers\":\"strict\",\"colorway\":[\"#636efa\",\"#EF553B\",\"#00cc96\",\"#ab63fa\",\"#FFA15A\",\"#19d3f3\",\"#FF6692\",\"#B6E880\",\"#FF97FF\",\"#FECB52\"],\"font\":{\"color\":\"#2a3f5f\"},\"hovermode\":\"closest\",\"hoverlabel\":{\"align\":\"left\"},\"paper_bgcolor\":\"white\",\"plot_bgcolor\":\"#E5ECF6\",\"polar\":{\"bgcolor\":\"#E5ECF6\",\"angularaxis\":{\"gridcolor\":\"white\",\"linecolor\":\"white\",\"ticks\":\"\"},\"radialaxis\":{\"gridcolor\":\"white\",\"linecolor\":\"white\",\"ticks\":\"\"}},\"ternary\":{\"bgcolor\":\"#E5ECF6\",\"aaxis\":{\"gridcolor\":\"white\",\"linecolor\":\"white\",\"ticks\":\"\"},\"baxis\":{\"gridcolor\":\"white\",\"linecolor\":\"white\",\"ticks\":\"\"},\"caxis\":{\"gridcolor\":\"white\",\"linecolor\":\"white\",\"ticks\":\"\"}},\"coloraxis\":{\"colorbar\":{\"outlinewidth\":0,\"ticks\":\"\"}},\"colorscale\":{\"sequential\":[[0.0,\"#0d0887\"],[0.1111111111111111,\"#46039f\"],[0.2222222222222222,\"#7201a8\"],[0.3333333333333333,\"#9c179e\"],[0.4444444444444444,\"#bd3786\"],[0.5555555555555556,\"#d8576b\"],[0.6666666666666666,\"#ed7953\"],[0.7777777777777778,\"#fb9f3a\"],[0.8888888888888888,\"#fdca26\"],[1.0,\"#f0f921\"]],\"sequentialminus\":[[0.0,\"#0d0887\"],[0.1111111111111111,\"#46039f\"],[0.2222222222222222,\"#7201a8\"],[0.3333333333333333,\"#9c179e\"],[0.4444444444444444,\"#bd3786\"],[0.5555555555555556,\"#d8576b\"],[0.6666666666666666,\"#ed7953\"],[0.7777777777777778,\"#fb9f3a\"],[0.8888888888888888,\"#fdca26\"],[1.0,\"#f0f921\"]],\"diverging\":[[0,\"#8e0152\"],[0.1,\"#c51b7d\"],[0.2,\"#de77ae\"],[0.3,\"#f1b6da\"],[0.4,\"#fde0ef\"],[0.5,\"#f7f7f7\"],[0.6,\"#e6f5d0\"],[0.7,\"#b8e186\"],[0.8,\"#7fbc41\"],[0.9,\"#4d9221\"],[1,\"#276419\"]]},\"xaxis\":{\"gridcolor\":\"white\",\"linecolor\":\"white\",\"ticks\":\"\",\"title\":{\"standoff\":15},\"zerolinecolor\":\"white\",\"automargin\":true,\"zerolinewidth\":2},\"yaxis\":{\"gridcolor\":\"white\",\"linecolor\":\"white\",\"ticks\":\"\",\"title\":{\"standoff\":15},\"zerolinecolor\":\"white\",\"automargin\":true,\"zerolinewidth\":2},\"scene\":{\"xaxis\":{\"backgroundcolor\":\"#E5ECF6\",\"gridcolor\":\"white\",\"linecolor\":\"white\",\"showbackground\":true,\"ticks\":\"\",\"zerolinecolor\":\"white\",\"gridwidth\":2},\"yaxis\":{\"backgroundcolor\":\"#E5ECF6\",\"gridcolor\":\"white\",\"linecolor\":\"white\",\"showbackground\":true,\"ticks\":\"\",\"zerolinecolor\":\"white\",\"gridwidth\":2},\"zaxis\":{\"backgroundcolor\":\"#E5ECF6\",\"gridcolor\":\"white\",\"linecolor\":\"white\",\"showbackground\":true,\"ticks\":\"\",\"zerolinecolor\":\"white\",\"gridwidth\":2}},\"shapedefaults\":{\"line\":{\"color\":\"#2a3f5f\"}},\"annotationdefaults\":{\"arrowcolor\":\"#2a3f5f\",\"arrowhead\":0,\"arrowwidth\":1},\"geo\":{\"bgcolor\":\"white\",\"landcolor\":\"#E5ECF6\",\"subunitcolor\":\"white\",\"showland\":true,\"showlakes\":true,\"lakecolor\":\"white\"},\"title\":{\"x\":0.05},\"mapbox\":{\"style\":\"light\"}}},\"xaxis\":{\"anchor\":\"y\",\"domain\":[0.0,1.0],\"title\":{\"text\":\"AGE\"}},\"yaxis\":{\"anchor\":\"x\",\"domain\":[0.0,0.8316],\"title\":{\"text\":\"count\"}},\"xaxis2\":{\"anchor\":\"y2\",\"domain\":[0.0,1.0],\"matches\":\"x\",\"showticklabels\":false,\"showgrid\":true},\"yaxis2\":{\"anchor\":\"x2\",\"domain\":[0.8416,1.0],\"matches\":\"y2\",\"showticklabels\":false,\"showline\":false,\"ticks\":\"\",\"showgrid\":false},\"legend\":{\"tracegroupgap\":0},\"title\":{\"text\":\"Age Distribution\"},\"barmode\":\"relative\",\"bargap\":0.1},                        {\"responsive\": true}                    ).then(function(){\n",
              "                            \n",
              "var gd = document.getElementById('74af2c80-9a11-467b-a8ff-a148dd57aa96');\n",
              "var x = new MutationObserver(function (mutations, observer) {{\n",
              "        var display = window.getComputedStyle(gd).display;\n",
              "        if (!display || display === 'none') {{\n",
              "            console.log([gd, 'removed!']);\n",
              "            Plotly.purge(gd);\n",
              "            observer.disconnect();\n",
              "        }}\n",
              "}});\n",
              "\n",
              "// Listen for the removal of the full notebook cells\n",
              "var notebookContainer = gd.closest('#notebook-container');\n",
              "if (notebookContainer) {{\n",
              "    x.observe(notebookContainer, {childList: true});\n",
              "}}\n",
              "\n",
              "// Listen for the clearing of the current output cell\n",
              "var outputEl = gd.closest('.output');\n",
              "if (outputEl) {{\n",
              "    x.observe(outputEl, {childList: true});\n",
              "}}\n",
              "\n",
              "                        })                };                            </script>        </div>\n",
              "</body>\n",
              "</html>"
            ]
          },
          "metadata": {}
        }
      ]
    },
    {
      "cell_type": "markdown",
      "source": [
        "Younger Age Predominance: Most individuals are in their 20s and early 30s.\n",
        "\n",
        "Right-Skewed Distribution: There are fewer individuals in older age brackets.\n",
        "\n",
        "Low Older Age Representation: Individuals above 50 are sparsely represented."
      ],
      "metadata": {
        "id": "UZ6hyksVLugp"
      }
    },
    {
      "cell_type": "markdown",
      "source": [
        "## Age vs. Income (Scatter Plot)"
      ],
      "metadata": {
        "id": "D0S43ihTWbRk"
      }
    },
    {
      "cell_type": "code",
      "source": [
        "# Scatter plot of Age vs Income\n",
        "fig = px.scatter(data, x='AGE', y='INCOME', title='Age vs Income')\n",
        "fig.update_traces(marker=dict(size=5, opacity=0.7))  # Adjusting marker size and opacity\n",
        "fig.show()\n"
      ],
      "metadata": {
        "colab": {
          "base_uri": "https://localhost:8080/",
          "height": 542
        },
        "id": "kpVSJY-wWQdW",
        "outputId": "b264c123-2c39-43c6-85f1-8f687ba56511"
      },
      "execution_count": 29,
      "outputs": [
        {
          "output_type": "display_data",
          "data": {
            "text/html": [
              "<html>\n",
              "<head><meta charset=\"utf-8\" /></head>\n",
              "<body>\n",
              "    <div>            <script src=\"https://cdnjs.cloudflare.com/ajax/libs/mathjax/2.7.5/MathJax.js?config=TeX-AMS-MML_SVG\"></script><script type=\"text/javascript\">if (window.MathJax && window.MathJax.Hub && window.MathJax.Hub.Config) {window.MathJax.Hub.Config({SVG: {font: \"STIX-Web\"}});}</script>                <script type=\"text/javascript\">window.PlotlyConfig = {MathJaxConfig: 'local'};</script>\n",
              "        <script charset=\"utf-8\" src=\"https://cdn.plot.ly/plotly-2.35.2.min.js\"></script>                <div id=\"12e21b3d-f0bf-4936-806f-af863894d005\" class=\"plotly-graph-div\" style=\"height:525px; width:100%;\"></div>            <script type=\"text/javascript\">                                    window.PLOTLYENV=window.PLOTLYENV || {};                                    if (document.getElementById(\"12e21b3d-f0bf-4936-806f-af863894d005\")) {                    Plotly.newPlot(                        \"12e21b3d-f0bf-4936-806f-af863894d005\",                        [{\"hovertemplate\":\"AGE=%{x}\\u003cbr\\u003eINCOME=%{y}\\u003cextra\\u003e\\u003c\\u002fextra\\u003e\",\"legendgroup\":\"\",\"marker\":{\"color\":\"#636efa\",\"symbol\":\"circle\",\"opacity\":0.7,\"size\":5},\"mode\":\"markers\",\"name\":\"\",\"showlegend\":false,\"x\":[46,34,31,39,32,23,42,35,26,24,20,44,23,44,36,25,54,29,39,38,35,20,24,24,46,39,35,30,30,25,22,55,22,38,30,24,66,51,46,38,38,24,41,41,28,36,33,21,20,19,26,57,37,36,22,56,47,41,40,32,30,56,46,43,29,36,31,28,27,44,29,54,29,65,28,34,24,40,40,28,25,35,43,40,46,70,41,35,32,52,37,34,31,22,63,40,35,29,49,37,32,26,55,42,40,20,31,24,57,31,34,50,68,22,58,33,26,51,39,57,21,43,35,42,58,44,23,66,64,22,46,31,28,41,30,34,30,29,26,20,68,58,45,22,59,22,21,54,27,35,30,37,36,23,48,33,47,31,39,34,49,37,38,56,39,37,33,21,64,39,38,26,55,49,37,28,25,28,46,46,50,35,28,53,22,46,19,38,23,25,32,29,29,28,54,30,27,21,31,37,32,26,42,22,37,25,66,28,25,56,40,39,37,64,31,48,28,60,50,34,26,39,47,46,38,34,66,58,41,32,55,32,22,66,44,41,23,36,35,20,45,39,33,28,34,23,36,34,34,31,60,41,41,65,47,41,33,31,21,44,25,59,28,18,46,23,49,37,20,25,29,39,28,38,24,43,39,39,62,56,32,56,40,24,22,26,42,30,24,56,46,46,39,36,44,38,32,32,60,59,24,49,51,40,37,21,48,41,25,40,24,21,38,32,22,41,39,28,63,34,36,26,36,60,29,25,22,49,46,23,23,19,51,50,25,57,45,42,41,22,43,31,19,24,20,45,26,25,23,31,25,33,28,39,51,44,44,33,32,29,53,47,43,39,35,30,26,39,28,60,43,40,37,35,33,42,25,64,47,37,23,67,63,46,41,33,30,22,40,32,30,32,22,44,66,32,56,40,31,30,28,20,51,38,29,19,41,30,40,25,40,29,27,46,40,24,38,42,41,20,63,39,32,46,41,34,39,52,65,38,38,26,70,30,19,18,29,26,37,29,50,21,59,45,44,34,56,35,47,19,55,46,40,59,36,35,28,28,38,36,34,23,55,37,48,24,22,36,31,30,34,29,26,28,41,39,33,39,22,28,31,27,45,37,29,27,38,29,21,40,38,47,41,24,39,37,32,63,40,35,56,41,39,50,23,63,55,33,31,56,30,35,28,22,46,20,66,58,57,47,42,28,52,34,33,21,19,44,30,27,37,36,19,32,28,27,39,21,20,68,52,46,25,20,38,57,54,41,38,20,45,33,47,40,38,36,35,49,45,56,35,29,23,33,52,30,27,40,30,43,29,27,52,42,42,33,36,42,33,29,51,38,60,36,34,32,28,44,25,38,46,31,35,31,29,28,62,27,21,18,50,49,42,27,49,25,21,48,45,42,41,32,51,41,33,27,24,57,38,28,28,51,31,22,19,19,67,34,31,51,45,38,35,32,25,42,43,40,68,33,59,36,35,34,27,25,37,20,30,29,27,22,66,27,40,39,31,37,58,23,27,40,40,40,22,37,29,23,38,35,48,31,44,42,39,28,23,41,41,40,53,25,23,69,46,42,35,52,34,28,27,21,34,31,26,23,22,19,19,21,20,22,20,19,22,21,20,22,19,20,22,20,22,20,20,19,19,22,20,22,21,20,18,21,20,21,20,22,21,22,21,22,21,20,22,20,20,20,20,20,22,19,21,20,22,19,20,22,22,21,21,21,19,22,20,22,19,20,20,22,21,22,21,21,19,21,19,22,20,20,19,19,22,21,22,19,21,22,19,22,19,22,20,20,21,19,22,21,22,20,21,22,21,19,19,22,20,19,19,22,20,22,21,21,20,22,22,19,21,18,21,20,22,21,22,22,19,22,22,20,22,21,22,19,22,19,20,22,22,19,20,20,20,21,22,19,20,19,21,22,20,20,22,22,22,21,21,22,20,22,22,21,21,22,20,22,22,19,22,22,22,19,19,21,22,20,22,21,21,22,22,22,21,21,20,22,20,22,23,22,22,22,22,22,22,20,20,22,22,22,20,19,22,20,21,21,22,19,22,20,56,54,51,47,43,37,33,33,32,31,30,30,27,26,25,25,24,24,23,23,53,50,44,32,29,26,24,35,30,30,25,25,24,23,52,48,33,30,29,29,25,24,55,39,30,36,34,34,33,32,27,23,45,45,34,29,25,25,24,23,49,43,37,34,32,31,31,30,28,26,44,37,45,44,33,32,27,24,39,27,27,26,23,31,29,26,52,50,49,32,31,29,62,38,36,30,35,35,34,31,23,40,31,35,32,23,45,40,34,30,29,27,27,25,25,45,36,33,29,27,25,24,23,39,39,27,26,49,33,29,26,25,49,44,32,30,27,24,64,56,47,37,37,33,28,25,35,34,25,42,24,39,33,32,28,42,32,65,56,44,44,42,31,29,27,26,24,45,38,27,36,24,24,50,32,38,57,45,38,34,30,26,26,37,30,27,24,23,55,48,32,27,26,55,31,29,25,65,53,40,38,32,29,25,67,48,24,23,38,25,24,47,39,33,26,24,66,43,30,71,55,39,27,50,43,29,41,37,29,26,23,31,25,40,35,32,31,55,35,25,38,26,32,32,29,27,24,23,29,27,25,43,33,29,29,45,26,24,31,30,29,29,28,27,23,49,25,46,37,33,28,24,34,33,24,41,62,43,36,32,26,45,25,36,31,30,29,40,38,24,30,27,67,43,42,39,34,62,41,48,40,32,31,27,35,34,31,25,25,24,57,33,32,32,30,45,34,53,27,43,47,29,26,47,37,58,54,39,36,34,28,25,37,43,37,37,25,37,28,28,24,55,38,34,43,41,39,23,36,32,45,41,26,25,31,28,24,23,55,35,53,35,31,31,24,24,57,43,35,27,26,47,26,45,33,26,51,26,26,36,29,27,36,38,24,23,33,27,43,35,29,23,31,30,30,65,49,26,47,37,29,29,23,35,32,29,27,49,47,41,39,32,29,54,29,26,53,41,24,33,39,30,28,26,33,32,31,30,24,23,48,39,38,34,29,28,27,53,36,26,40,38,24,43,33,25,25,24,42,42,26,23,46,28,28,26,25,30,26,24,59,41,34,30,43,36,35,32,30,34,32,29,23,31,26,37,27,27,23,23,57,27,37,30,27,23,43,42,34,32,27,40,37,30,25,24,23,50,49,43,38,44,26,24,31,29,27,27,43,36,31,45,37,23,23,41,33,30,25,34,26,26,24,23,23,28,25,35,32,26,26,23,27,26,55,55,32,25,47,31,41,40,37,29,57,46,40,35,27,60,46,25,37,45,28,25,25,25,24,43,37,29,23,33,30,38,35,24,24,51,39,68,23,50,39,39,37,62,49,40,33,31,27,25,45,23,45,28,28,27,26,24,38,38,33,27,26,57,51,26,23,30,25,38,27,37,31,31,27,42,30,27,35,30,29,26,26,25,56,35,28,27,32,29,23,42,37,36,32,28,27,24,48,36,26,26,34,26,26,26,23,29,58,39,26,51,48,40,30,25,69,67,39,34,30,27,35,23,50,38,27,37,31,28,24,23,39,28,61,54,41,33,31,27,26,33,31,29,23,30,30,35,45,26,61,51,45,30,25,24,69,56,28,37,29,23,50,40,45,38,27,26,46,40,33,24,41,28,24,46,42,35,34,31,24,23,32,24,47,29,41,27,38,65,40,27,44,38,38,34,30,23,51,43,27,25,23,41,39,37,37,26,26,38,33,29,50,33,49,38,34,31,24,23,23,45,30,26,59,39,38,25,32,47,40,37,23,31,31,29,25,65,39,35,31,26,67,39,34,29,34,33,26,54,34,31,41,37,27,53,47,38,37,24,23,40,33,31,25,55,44,42,41,30,28,24,23,30,58,57,54,41,36,31,30,28,46,36,26,30,28,34,28,51,40,25,23,33,23,65,45,35,35,35,30,24,24,64,52,31,30,43,44,31,36,34,64,28,36,27,24,58,47,30,23,30,29,68,53,30,26,25,47,45,29,45,51,33,31,29,33,33,32,28,26,24,27,25,45,36,30,32,28,26,26,24,23,63,47,43,39,29,27,25,25,23,57,41,36,32,29,26,26,23,31,25,63,36,34,50,48,37,44,31,25,25,45,34,34,33,32,56,50,33,29,27,49,38,30,28,26,56,40,29,28,43,28,44,38,32,28,23,49,24,40,36,36,28,27,25,47,37,33,33,56,41,38,29,26,26,24,51,41,40,34,34,26,32,30,24,61,29,27,23,27,23,43,39,36,29,25,23,23,29,32,32,31,41,39,36,35,29,29,46,43,38,30,29,28,38,53,28,27,26,39,28,25,23,67,32,29,23,23,51,44,31,30,29,24,51,43,42,39,33,24,56,36,33,30,25,48,39,38,30,27,25,42,29,27,23,56,46,37,36,34,28,62,54,45,33,31,30,24,45,45,30,30,29,44,39,38,33,27,36,25,36,31,28,25,47,45,38,35,28,40,32,28,24,39,50,44,38,31,24,52,38,31,27,45,35,51,47,35,34,23,23,63,40,33,30,29,26,23,30,27,25,51,43,41,31,30,41,24,23,62,25,55,51,37,34,33,27,25,33,30,24,23,55,54,43,35,26,46,37,29,43,32,27,41,33,47,46,28,26,45,43,33,39,26,23,23,40,33,54,45,41,40,32,31,24,40,39,36,35,30,34,32,31,30,29,24,52,41,32,29,29,27,27,25,58,57,56,52,34,34,26,25,23,34,26,45,26,26,24,41,37,24,38,31,51,40,37,30,24,43,42,29,25,39,38,32,29,26,26,25,44,34,33,33,30,30,29,25,52,35,30,28,27,35,29,23,41,40,40,32,48,38,29,24,50,41,31,24,38,29,29,29,27,40,39,28,39,35,24,24,23,23,55,47,42,33,33,31,59,34,29,38,27,53,45,25,25,23,39,32,31,25,24,24,44,33,26,25,51,25,54,45,24,23,42,40,34,25,24,23,24,23,54,44,33,48,25,58,54,46,45,40,38,36,29,27,39,39,32,30,27,24,22,57,38,35,31,38,34,25,51,31,30,52,35,29,36,42,23,30,24,30,27,23,21,30,27,50,45,45,39,26,26,24,24,23,22,33,30,55,51,32,43,23,32,37,31,30,24,31,25,21,37,35,33,26,34,29,39,32,36,26,23,27,25,39,31,56,32,52,28,32,32,31,25,22,20,54,30,28,42,29,59,44,28,40,33,35,31,20,49,39,25,25,23,20,50,37,30,56,45,31,29,29,21,27,29,30,31,23,27,32,27,43,28,27,22,49,30,26,44,41,37,30,55,41,24,21,50,42,38,29,24,23,37,26,46,55,23,31,31,29,46,32,29,23,38,33,26,24,26,21,42,28,39,30,49,33,28,25,25,38,32,32,31,29,38,52,27,43,20,46,36,40,24,27,23,41,35,25,53,45,42,35,24,24,62,55,46,23,32,21,43,40,36,24,52,29,22,45,26,25,36,36,34,26,25,24,21,42,31,41,27,26,38,28,27,38,21,42,21,39,24,20,31,63,35,31,27,31,23,22,56,42,25,22,48,43,37,29,55,32,23,35,37,35,23,26,52,48,47,34,26,41,38,35,30,33,24,21,53,27,27,26,21,67,51,37,30,29,27,25,25,39,60,38,34,34,20,30,50,31,23,39,37,29,26,25,47,35,24,50,26,45,35,22,47,23,53,40,35,23,24,24,20,44,31,25,24,59,50,41,27,23,39,35,34,29,25,25,58,28,28,24,31,41,39,26,26,21,27,27,26,24,23,40,30,34,27,26,19,44,27,30,22,43,31,26,29,26,20,34,35,26,40,39,19,54,43,28,27,32,20,29,19,45,24,25,24,66,58,47,28,26,31,26,22,59,47,37,36,37,31,21,63,31,22,49,27,26,25,23,22,49,45,31,31,30,23,23,27,26,25,23,45,39,51,38,35,27,23,45,41,22,32,29,28,27,22,34,27,24,46,28,26,36,30,53,45,28,24,63,51,31,28,63,39,29,23,51,23,52,40,39,25,55,27,25,24,31,31,20,37,25,20,32,32,53,51,26,29,28,50,25,22,56,27,27,25,25,38,54,50,28,24,35,27,53,40,39,34,29,26,55,37,39,37,28,26,59,45,38,35,32,31,29,28,41,30,28,47,43,39,49,26,37,29,24,53,37,22,64,46,44,39,37,22,30,21,59,50,36,29,29,26,22,47,42,26,34,31,29,41,30,29,20,56,28,34,24,20,41,31,24,25,32,28,23,27,25,23,27,25,31,25,54,48,38,24,32,65,49,28,26,41,27,23,31,50,27,23,67,46,47,26,53,51,27,24,38,34,59,55,28,21,31,24,60,24,37,27,25,36,29,21,56,45,37,31,22,30,27,26,52,41,35,30,28,49,22,45,27,41,27,42,29,63,23,24,33,31,26,36,26,35,27,51,30,31,28,43,33,27,54,39,24,47,26,24,56,27,26,23,41,28,26,24,39,56,44,27,39,20,44,24,24,23,27,43,30,47,37,30,24,23,32,37,44,20,26,32,41,31,28,34,26,58,49,34,30,24,21,31,67,23,32,27,21,49,44,34,20,37,39,33,27,23,35,23,35,28,25,53,29,19,27,27,52,37,29,36,36,25,34,37,35,30,30,44,28,26,37,21,20,49,38,48,42,33,20,48,37,19,26,43,38,47,48,31,24,23,24,22,46,19,33,45,42,33,26,45,33,32,27,59,37,36,25,31,21,33,26,26,34,22,41,28,27,41,21,31,56,42,42,35,30,21,57,29,33,26,34,32,31,27],\"xaxis\":\"x\",\"y\":[0,3200,3300,1500,0,0,1900,0,1700,3400,0,0,1900,0,3500,3400,1700,2300,3000,0,0,2700,0,1900,1500,0,0,3000,0,0,1800,3300,1600,3400,0,2600,0,0,0,2100,0,2000,0,0,1500,0,0,2100,2600,1000,0,0,0,2200,0,1900,3300,0,0,0,1500,0,0,2500,1800,1800,1800,2600,0,2000,1700,0,2400,0,2300,2100,1700,0,1500,0,0,0,0,0,2300,1000,0,0,0,3000,2200,2800,1000,0,1600,10000,2700,0,0,1500,3000,2200,1500,2900,2600,1500,1800,0,0,0,0,0,0,0,0,0,0,0,2000,1500,2700,0,4000,0,1500,2900,2100,0,0,2000,0,0,0,2900,0,0,0,5000,0,1500,0,0,0,1000,1500,1500,1600,0,0,0,2300,2600,0,1700,0,1700,0,0,1500,2100,1500,1800,0,1500,0,0,2700,1000,0,0,2300,1500,0,1700,0,2000,2500,0,0,2000,2300,0,0,2100,0,0,1000,2000,0,0,2200,2400,2200,2700,0,0,1800,1900,0,0,0,0,2500,0,0,0,0,0,2000,0,1000,0,0,0,0,10000,2500,0,0,2500,2200,0,0,2300,3000,0,0,0,2700,1600,2100,0,2600,2400,0,0,0,0,2500,0,0,0,10000,1500,3100,2000,2700,0,0,0,0,2100,2900,0,1500,0,0,2400,1500,0,0,0,0,1000,5000,2000,0,0,1000,0,0,0,0,0,2000,2600,0,1700,0,0,0,4000,0,0,0,0,3000,0,2500,0,0,0,0,3000,0,0,1800,1800,1500,0,5000,1000,0,1800,3000,1500,2300,1900,2500,2600,0,1500,0,4000,0,1500,0,0,1500,2500,0,0,0,0,0,2200,2000,0,1600,0,2000,1800,0,1900,0,0,0,0,2000,0,0,0,0,0,1000,0,2100,2300,2000,0,2000,2500,0,0,0,0,0,0,0,2400,1500,1500,0,0,0,3000,0,1900,1700,0,1600,1500,1500,2400,0,2700,2200,0,0,1500,2300,1500,0,2600,0,0,0,0,2400,3300,0,2100,0,2700,1900,1800,1500,1600,0,2200,0,0,1500,2300,0,1900,0,0,2200,1500,0,1700,0,0,0,2500,0,1800,2400,1000,1500,2200,0,0,1500,2300,0,0,1600,2500,0,1900,1500,2700,1000,0,2600,0,0,1700,0,1500,0,0,1900,0,0,0,1500,1900,1800,2500,0,0,1500,0,0,2000,3200,0,1700,0,0,2800,2000,2400,0,0,0,0,0,0,2000,0,0,0,2200,0,0,0,3500,2500,0,2000,2600,0,1800,0,1900,0,2000,0,0,1500,5000,0,1900,3500,0,3200,1600,0,2200,0,2800,1500,0,2500,0,0,0,0,0,2200,1800,1500,1500,3100,1000,0,0,0,2100,0,1500,0,1000,2300,2000,2000,2300,2500,0,2400,1700,1700,4000,0,2200,0,0,2000,1900,0,2000,0,1500,0,0,1000,0,1900,0,0,0,0,2200,1600,0,0,1600,3300,1700,2700,0,2000,0,1500,2200,2500,2200,0,3300,0,0,2200,1800,3000,0,0,1500,2800,1600,0,0,1900,2000,0,0,2200,0,1600,0,2300,2700,2200,0,2600,1500,0,0,0,1600,0,0,0,2100,2000,1800,0,1500,2800,0,0,2400,0,2200,0,0,0,0,0,0,2000,2000,1500,1900,1900,0,0,2300,0,0,0,2400,0,0,0,0,1500,0,0,2000,0,0,2300,2000,1700,3000,2500,0,1700,1500,0,0,1700,0,2600,0,0,0,1900,0,2900,1600,1500,0,1500,0,3000,2200,2000,2100,0,2500,1500,0,0,0,0,0,2000,2100,0,0,1900,2200,2500,2100,0,0,1800,0,2300,2000,1500,4000,1000,1800,1500,2500,2100,0,2400,2500,1500,0,0,1500,1900,3500,4000,1500,1000,2300,1500,1900,2100,1000,2000,1700,1900,0,1800,2300,2600,2000,2000,1500,4000,0,2200,0,1600,1500,1000,1500,1500,3100,1000,1700,1500,1500,2000,1900,0,1700,2000,1900,1700,1500,1500,1000,4000,1600,0,0,0,1500,2800,0,2100,1500,1500,1000,5000,2800,0,1500,1000,0,1900,1700,1500,2100,0,1500,1700,0,2200,1600,3000,0,1700,1600,1800,2000,1800,2700,1700,2000,1500,1900,1000,0,1600,1800,1000,1800,2400,1900,2500,2000,1500,2000,1700,1900,0,0,0,0,1000,1500,2200,1600,2200,1000,3200,0,2200,1700,1500,1700,2500,1900,1000,2300,2500,2500,1000,1500,2100,0,1600,2600,1700,1600,1000,3500,0,1000,1600,2100,1700,2500,1900,2200,1800,1000,2000,1700,1700,2000,0,1700,2500,2300,1900,2500,1500,2100,1000,1500,1900,2600,2000,1600,1500,1500,2000,2800,2700,1500,2000,1800,2300,2500,1900,2400,2000,0,1700,2200,2000,1000,1700,1500,2100,2100,2500,1700,2100,1500,1700,1900,1000,1000,2200,2100,1800,3100,3300,2400,3200,3000,1800,2900,3100,0,2900,3000,2400,5000,2500,3000,3500,2300,2400,0,2000,3000,0,2200,3000,3500,0,1700,0,3500,2600,1500,1800,2700,0,2100,3000,0,2500,3100,3000,2200,2000,1800,2600,2800,4000,0,0,2600,2500,2500,2500,1900,3300,2500,3500,3000,1500,1800,3500,2400,1800,1800,2500,4000,1800,0,1700,0,2100,2200,4000,3400,0,3500,3500,2400,2000,1900,2400,1800,2000,1800,10000,0,2400,3500,2300,2000,3200,2000,2200,1500,5000,2600,2500,2800,5000,4000,0,0,3000,1500,2800,2400,1500,3500,1600,4000,3000,2500,3000,0,2400,1800,3200,0,0,1800,1600,3000,4000,1700,2200,0,1500,0,3500,2000,3100,0,2700,1500,1000,3200,2100,2000,2000,3400,3300,2200,4000,3400,0,2400,2000,2500,2500,2400,2500,2200,3200,4000,2400,1800,0,2100,1900,1600,2900,1900,3400,2500,2000,2200,3000,1800,2200,2300,0,2700,2200,2200,0,1500,10000,2600,0,2100,0,0,2000,2400,0,1000,2500,1900,2500,2800,5000,3000,2800,0,0,0,2700,0,2300,0,0,2400,2000,1800,3000,2200,0,2000,2500,0,2200,2200,1500,3100,2500,2000,1800,1700,2000,2600,1900,2200,3000,2400,2700,2100,1500,0,3500,1900,2000,2200,2500,1500,0,2800,2600,0,1700,3200,0,0,5000,2700,0,2500,3000,2000,1900,2300,3500,0,3000,2800,0,2300,2700,2500,2000,2400,1800,1500,2500,2500,0,3300,2500,0,3200,2100,1800,2600,2300,2700,5000,2000,2800,0,2600,2300,0,0,3300,3000,3000,3100,1800,0,2400,1500,2200,0,1600,3500,3500,10000,0,2500,1000,2300,2900,2200,2300,5000,1800,2300,2500,3000,1500,0,1700,2000,0,1500,0,0,5000,2000,0,3000,0,1900,2800,2900,1500,2600,2900,3500,2300,3300,2800,2200,2300,3200,1800,1700,2600,2600,2900,0,2500,1600,3000,3500,2000,0,2300,3100,0,2200,4000,10000,3400,1900,0,2000,2400,2800,2000,3000,3200,4000,2900,2400,2800,2500,2300,4000,2600,0,2900,0,0,0,0,2100,0,5000,2200,2500,0,2400,3100,0,2300,2200,2200,2700,1800,2700,0,3000,2000,2500,2300,2500,2600,5000,2300,0,0,1500,1500,1700,4000,5000,2700,3500,2300,0,2500,0,2800,2500,1900,2700,2800,0,3000,1500,2200,4000,2100,2300,2000,2500,2600,2500,3200,1900,2000,3000,2300,2700,1900,3400,2700,2500,2600,0,2300,0,2800,1500,2800,0,2700,3000,0,3000,0,2300,1500,1000,3000,0,2800,0,2400,2600,1700,1800,2100,2000,4000,1500,0,3500,2500,2000,3100,0,2900,2600,2500,10000,3500,2800,3000,3500,2800,1700,1600,2300,10000,0,0,4000,0,10000,4000,2700,10000,2500,0,2500,2400,2200,3200,1500,2900,0,3300,3500,2000,1800,2500,2000,0,0,5000,3000,2500,2300,4000,2000,1800,3500,4000,3200,3500,2400,1500,1500,2500,2400,3400,3500,1700,1600,1500,2500,1800,1900,2600,2100,0,0,2500,1500,3000,0,3000,1800,1000,2200,5000,0,2700,3500,3000,3000,1800,3000,1700,3000,0,0,2300,2000,3000,1800,0,0,1500,3500,3500,3200,1500,2800,0,2500,2500,2000,2400,5000,4000,3000,1600,5000,2000,2300,2200,2600,0,0,2800,3500,3000,1700,3500,3300,2200,4000,2000,4000,0,3300,1500,2800,1800,2300,0,2200,3400,2500,2200,3000,2600,2200,2000,2800,2500,2300,2300,3500,2300,2600,0,0,0,2100,1700,1500,2200,2600,3100,2500,0,2700,1000,2000,1900,2400,3500,2400,2000,2500,0,2600,1600,2400,3300,1500,3400,2000,1000,3300,3100,4000,3200,0,1500,1800,3300,0,0,2800,2000,5000,0,2400,4000,0,0,2700,2500,2700,2500,2300,0,0,2500,3000,1500,3300,0,3100,0,2200,1500,0,0,1900,1900,2500,4000,4000,0,1800,4000,1500,2500,0,3300,1500,2800,4000,2700,0,1500,2100,0,2900,0,2800,2000,3400,1800,0,2400,1500,1000,3500,1700,1600,2200,2600,2400,4000,2000,10000,0,4000,1800,1500,1900,0,1900,3000,3500,0,1800,2500,3500,3000,2200,1800,0,2200,3500,2500,2400,2100,2500,1700,3000,5000,2100,3000,2700,4000,1700,2500,2300,2500,2100,1000,0,1900,2500,2500,2700,3500,0,5000,0,3000,0,1500,4000,2300,1900,2000,4000,3000,2900,2000,3500,0,2200,4000,3000,3500,2700,2200,1500,2600,2300,1500,0,5000,2400,10000,2800,2200,4000,1900,0,1700,2300,0,0,2900,0,3000,2700,2200,0,0,2300,3000,3500,1500,5000,1800,2400,3000,3000,3000,2000,3500,2800,3500,2600,0,2300,2500,1500,2200,1900,3000,2600,1900,0,2600,2600,2300,1600,1800,2300,2400,1900,4000,0,2700,1000,3500,5000,1600,2800,3000,2700,4000,0,2000,2900,0,1000,3200,2600,1700,2600,2900,1500,1600,1900,4000,2900,3200,1600,1500,2900,1600,3500,3500,3000,2200,2300,2300,3500,2300,1600,0,1500,2500,2100,1700,3000,3000,0,3500,2700,2700,1500,2300,2800,2800,2200,10000,0,2800,1500,1500,1500,0,2500,3000,1700,0,2500,4000,2600,2300,2600,2200,0,0,3400,1500,2300,2300,1500,2100,0,2300,2500,3400,0,1800,1500,1800,2100,1500,1900,2000,1500,2600,5000,3100,3000,1500,0,5000,3000,2400,1800,5000,2300,3400,5000,4000,2500,0,3500,1600,0,2500,2300,2800,2500,2200,1900,2800,3200,0,0,0,4000,1800,1800,1600,1500,2500,2000,3100,2400,5000,0,3100,2300,2200,1000,2700,3000,2800,3000,2700,3000,2400,0,1800,0,1600,1800,1500,2500,2300,2600,2300,1500,1500,0,2300,2100,0,3500,2000,0,2700,3000,2500,2000,1800,2500,2600,2400,1900,0,2000,3500,2500,1500,3300,1900,0,1800,1900,1800,2000,2500,3500,5000,3200,2800,2800,3000,2500,2300,1900,1900,1500,1500,3300,0,2400,0,1000,3000,0,4000,1900,3000,2200,2400,2700,2400,3000,3000,4000,0,3300,1800,0,2400,2800,2500,3200,0,1600,2200,3000,0,2300,2000,0,0,3000,2300,0,0,2300,2800,2500,3000,2300,1500,2100,3200,2300,2600,2000,2400,3000,2600,2300,2100,10000,2500,3500,2500,0,0,2500,0,2100,1900,1000,2700,2400,2000,2300,4000,2400,2200,1800,0,1600,0,2300,2800,2700,2200,1700,5000,2500,2400,2000,3500,4000,3400,10000,1700,100000,0,0,3500,0,5000,1600,0,1900,1900,2500,2000,5000,0,0,2700,1900,3200,1500,1900,2200,2400,3500,2300,2200,0,1700,2500,2800,5000,3300,0,2200,2200,2900,2400,5000,0,2500,2500,2200,5000,2000,2800,2800,2100,2000,0,1800,2100,2400,1900,2500,2600,3500,2400,3000,2300,2200,2100,2400,1600,3300,2500,2900,2200,1700,1500,2200,2800,2300,4000,0,3300,1700,2400,0,4000,2800,1800,0,3500,1800,2900,1500,3300,0,2200,2000,0,1900,1500,4000,3100,0,0,1500,1800,1700,3100,3200,2100,0,3200,5000,3000,1600,3400,1000,2500,2700,3000,3000,3100,4000,1900,10000,1700,0,0,2400,2000,3000,0,0,1900,0,2400,3300,3500,1500,10000,2000,0,0,1600,5000,4000,1800,1900,0,5000,3200,2300,1800,2300,2300,0,2200,2500,0,2500,3000,0,1500,0,0,0,2600,2200,1700,2100,2900,0,2200,2100,2200,2700,0,2600,4000,2000,2600,4000,0,2500,3000,2000,2500,5000,0,2800,3000,4000,2700,2400,2500,2500,3500,2800,3500,3300,2300,0,0,3500,4000,1500,3300,0,2000,2800,0,0,1600,0,2700,2600,2900,2100,4000,4000,4000,2000,1800,0,2100,2500,2800,1700,3200,2600,3000,1500,2500,2200,2100,2100,3000,4000,0,5000,2600,3000,2300,2500,2800,2900,2500,2000,1800,3200,0,3200,4000,2500,2500,2000,2800,3200,2900,2300,0,3300,2000,0,3000,1500,2400,1000,2000,2600,0,3200,1600,2200,2500,2200,3000,2000,1500,2100,2800,2300,3400,2800,0,2700,2100,3000,3000,2200,2900,2200,2600,3000,2300,2000,0,4000,1800,2500,2800,2600,1900,5000,2600,0,2200,1800,4000,1900,0,3000,2500,2200,10000,10000,2400,1900,1000,2800,4000,3500,2500,2900,1900,0,2700,3000,3500,3000,1700,2600,2300,10000,5000,2500,2700,2500,0,0,2000,2500,2800,3000,2300,2200,1000,3000,3000,2500,3200,0,5000,3100,0,2300,4000,0,2500,0,3200,2500,5000,2700,3000,0,2600,2800,5000,2000,2300,4000,3000,0,0,2100,10000,0,2800,2400,1500,2200,2400,0,5000,2900,0,5000,3200,2200,0,2900,2700,5000,2300,3000,2900,2900,1500,1900,2200,3500,3400,2200,2300,2500,5000,2200,2500,2900,3100,2500,3000,2000,1000,2200,1900,0,3100,4000,3500,1700,2000,2600,4000,2000,2300,2800,0,0,2700,4000,4000,1000,0,3200,3000,2200,2000,4000,3100,2300,2000,2800,3200,3000,2500,3500,3300,2200,2200,0,3000,2400,3500,1000,3000,2100,0,0,2700,2000,2800,2800,0,1900,4000,2200,2600,2200,3300,2500,3000,3500,3500,2000,0,3000,2900,3000,2400,2700,3200,3500,10000,1900,3100,4000,2200,0,4000,3300,2500,2200,2200,1000,4000,2000,1800,5000,1600,4000,4000,2300,0,1500,2600,3200,3000,2100,1800,2400,2500,2900,5000,0,5000,0,0,2400,2000,2200,2000,3500,1700,0,0,3000,3000,2800,0,1500,1500,2500,4000,2900,5000,3400,2500,1700,2500,2400,1800,4000,1700,3000,3500,1000,1600,3000,3300,1900,4000,1900,2300,2500,2500,0,2200,0,2300,2500,3300,5000,2300,2400,2500,1800,3500,4000,3500,2700,1500,2200,2000,1800,2500,1500,3000,2000,2500,2300,2800,0,2200,1500,3000,2200,0,3300,2400,1500,0,2000,3200,3200,0,2900,3400,3000,0,2800,3000,3500,0,2400,1700,4000,2500,2300,5000,4000,2500,2300,3200,1700,0,1900,2500,2200,0,2700,1600,2800,3000,2500,2200,2900,1600,2500,3500,0,0,0,3500,2500,2900,2600,2200,2700,0,3000,0,1500,5000,1000,2100,2200,1800,0,0,4000,0,0,1500,3000,2600,2800,2800,3300,0,0,2200,4000,2500,0,4000,1900,3500,2500,2800,0,5000,2100,2500,2500,2300,2500,2200,2900,1800,5000,0,5000,2200,0,2700,0,4000,3200,3300,0,2600,0,1800,3000,2400,2800,2400,2100,2100,1700,1500,3000,10000,4000,3500,2400,2100,1500,1500,3000,1500,2000,2300,2000,2200,0,3100,0,2800,2000,3500,2200,2300,0,2000,2500,1900,3200,2200,2200,3200,0,2300,2200,2800,5000,2000,2900,0,2100,0,0,3400,2600,3000,0,3200,2800,5000,3000,2400,2300,2900,1500,2700,1800,2500,2300,3200,1700,1900,2500,2000,2100,2800,3000,1600,2200,3500,1700,2700,1600,2500,0,3300,3000,2200,2300,0,2200,2800,2400,2400,2000,2400,2400,10000,2200,1600,2600,5000,2500,3500,4000,3400,3000,2200,3000,0,0,2600,0,2100,2500,2400,1500,2200,2300,2300,2700,2000,2200,2800,10000,0,1500,2200,2800,3000,2500,0,2200,3100,2800,4000,2500,4000,2000,2400,2400,2000,3000,3300,2400,1600,1500,0,2000,2700,2400,3100,0,1700,2500,4000,2000,0,3300,2200,4000,1500,2800,2300,2000,3200,2600,3000,2300,5000,4000,2000,2200,3300,2700,2400,2600,3500,3200,3000,2000,1000,2500,2800,2300,3500,2600,1600,3000,2500,0,1800,2500,1500,2700,2300,2300,1800,3000,2700,3000,3300,2900,0,0,3200,0,3000,2400,2700,4000,4000,2800,3500,2500,3100,3500,2500,4000,1500,2800,3000,2500,2000,5000,2400,2200,2100,3300,2500,0,0,0,2300,3500,2500,5000,3200,2400,2400,2000,1600,2200,5000,2400,3500,2300,0,4000,2400,2200,2300,0,2800,0,0,3400,0,2200,2100,2800,2500,2800,3500,2000,2500,3400,2200,5000,1000,3200,2200,1600,1500,3500,0,2700,2000,2600,3200,2300,2500,2800,2100,2200],\"yaxis\":\"y\",\"type\":\"scattergl\"}],                        {\"template\":{\"data\":{\"histogram2dcontour\":[{\"type\":\"histogram2dcontour\",\"colorbar\":{\"outlinewidth\":0,\"ticks\":\"\"},\"colorscale\":[[0.0,\"#0d0887\"],[0.1111111111111111,\"#46039f\"],[0.2222222222222222,\"#7201a8\"],[0.3333333333333333,\"#9c179e\"],[0.4444444444444444,\"#bd3786\"],[0.5555555555555556,\"#d8576b\"],[0.6666666666666666,\"#ed7953\"],[0.7777777777777778,\"#fb9f3a\"],[0.8888888888888888,\"#fdca26\"],[1.0,\"#f0f921\"]]}],\"choropleth\":[{\"type\":\"choropleth\",\"colorbar\":{\"outlinewidth\":0,\"ticks\":\"\"}}],\"histogram2d\":[{\"type\":\"histogram2d\",\"colorbar\":{\"outlinewidth\":0,\"ticks\":\"\"},\"colorscale\":[[0.0,\"#0d0887\"],[0.1111111111111111,\"#46039f\"],[0.2222222222222222,\"#7201a8\"],[0.3333333333333333,\"#9c179e\"],[0.4444444444444444,\"#bd3786\"],[0.5555555555555556,\"#d8576b\"],[0.6666666666666666,\"#ed7953\"],[0.7777777777777778,\"#fb9f3a\"],[0.8888888888888888,\"#fdca26\"],[1.0,\"#f0f921\"]]}],\"heatmap\":[{\"type\":\"heatmap\",\"colorbar\":{\"outlinewidth\":0,\"ticks\":\"\"},\"colorscale\":[[0.0,\"#0d0887\"],[0.1111111111111111,\"#46039f\"],[0.2222222222222222,\"#7201a8\"],[0.3333333333333333,\"#9c179e\"],[0.4444444444444444,\"#bd3786\"],[0.5555555555555556,\"#d8576b\"],[0.6666666666666666,\"#ed7953\"],[0.7777777777777778,\"#fb9f3a\"],[0.8888888888888888,\"#fdca26\"],[1.0,\"#f0f921\"]]}],\"heatmapgl\":[{\"type\":\"heatmapgl\",\"colorbar\":{\"outlinewidth\":0,\"ticks\":\"\"},\"colorscale\":[[0.0,\"#0d0887\"],[0.1111111111111111,\"#46039f\"],[0.2222222222222222,\"#7201a8\"],[0.3333333333333333,\"#9c179e\"],[0.4444444444444444,\"#bd3786\"],[0.5555555555555556,\"#d8576b\"],[0.6666666666666666,\"#ed7953\"],[0.7777777777777778,\"#fb9f3a\"],[0.8888888888888888,\"#fdca26\"],[1.0,\"#f0f921\"]]}],\"contourcarpet\":[{\"type\":\"contourcarpet\",\"colorbar\":{\"outlinewidth\":0,\"ticks\":\"\"}}],\"contour\":[{\"type\":\"contour\",\"colorbar\":{\"outlinewidth\":0,\"ticks\":\"\"},\"colorscale\":[[0.0,\"#0d0887\"],[0.1111111111111111,\"#46039f\"],[0.2222222222222222,\"#7201a8\"],[0.3333333333333333,\"#9c179e\"],[0.4444444444444444,\"#bd3786\"],[0.5555555555555556,\"#d8576b\"],[0.6666666666666666,\"#ed7953\"],[0.7777777777777778,\"#fb9f3a\"],[0.8888888888888888,\"#fdca26\"],[1.0,\"#f0f921\"]]}],\"surface\":[{\"type\":\"surface\",\"colorbar\":{\"outlinewidth\":0,\"ticks\":\"\"},\"colorscale\":[[0.0,\"#0d0887\"],[0.1111111111111111,\"#46039f\"],[0.2222222222222222,\"#7201a8\"],[0.3333333333333333,\"#9c179e\"],[0.4444444444444444,\"#bd3786\"],[0.5555555555555556,\"#d8576b\"],[0.6666666666666666,\"#ed7953\"],[0.7777777777777778,\"#fb9f3a\"],[0.8888888888888888,\"#fdca26\"],[1.0,\"#f0f921\"]]}],\"mesh3d\":[{\"type\":\"mesh3d\",\"colorbar\":{\"outlinewidth\":0,\"ticks\":\"\"}}],\"scatter\":[{\"fillpattern\":{\"fillmode\":\"overlay\",\"size\":10,\"solidity\":0.2},\"type\":\"scatter\"}],\"parcoords\":[{\"type\":\"parcoords\",\"line\":{\"colorbar\":{\"outlinewidth\":0,\"ticks\":\"\"}}}],\"scatterpolargl\":[{\"type\":\"scatterpolargl\",\"marker\":{\"colorbar\":{\"outlinewidth\":0,\"ticks\":\"\"}}}],\"bar\":[{\"error_x\":{\"color\":\"#2a3f5f\"},\"error_y\":{\"color\":\"#2a3f5f\"},\"marker\":{\"line\":{\"color\":\"#E5ECF6\",\"width\":0.5},\"pattern\":{\"fillmode\":\"overlay\",\"size\":10,\"solidity\":0.2}},\"type\":\"bar\"}],\"scattergeo\":[{\"type\":\"scattergeo\",\"marker\":{\"colorbar\":{\"outlinewidth\":0,\"ticks\":\"\"}}}],\"scatterpolar\":[{\"type\":\"scatterpolar\",\"marker\":{\"colorbar\":{\"outlinewidth\":0,\"ticks\":\"\"}}}],\"histogram\":[{\"marker\":{\"pattern\":{\"fillmode\":\"overlay\",\"size\":10,\"solidity\":0.2}},\"type\":\"histogram\"}],\"scattergl\":[{\"type\":\"scattergl\",\"marker\":{\"colorbar\":{\"outlinewidth\":0,\"ticks\":\"\"}}}],\"scatter3d\":[{\"type\":\"scatter3d\",\"line\":{\"colorbar\":{\"outlinewidth\":0,\"ticks\":\"\"}},\"marker\":{\"colorbar\":{\"outlinewidth\":0,\"ticks\":\"\"}}}],\"scattermapbox\":[{\"type\":\"scattermapbox\",\"marker\":{\"colorbar\":{\"outlinewidth\":0,\"ticks\":\"\"}}}],\"scatterternary\":[{\"type\":\"scatterternary\",\"marker\":{\"colorbar\":{\"outlinewidth\":0,\"ticks\":\"\"}}}],\"scattercarpet\":[{\"type\":\"scattercarpet\",\"marker\":{\"colorbar\":{\"outlinewidth\":0,\"ticks\":\"\"}}}],\"carpet\":[{\"aaxis\":{\"endlinecolor\":\"#2a3f5f\",\"gridcolor\":\"white\",\"linecolor\":\"white\",\"minorgridcolor\":\"white\",\"startlinecolor\":\"#2a3f5f\"},\"baxis\":{\"endlinecolor\":\"#2a3f5f\",\"gridcolor\":\"white\",\"linecolor\":\"white\",\"minorgridcolor\":\"white\",\"startlinecolor\":\"#2a3f5f\"},\"type\":\"carpet\"}],\"table\":[{\"cells\":{\"fill\":{\"color\":\"#EBF0F8\"},\"line\":{\"color\":\"white\"}},\"header\":{\"fill\":{\"color\":\"#C8D4E3\"},\"line\":{\"color\":\"white\"}},\"type\":\"table\"}],\"barpolar\":[{\"marker\":{\"line\":{\"color\":\"#E5ECF6\",\"width\":0.5},\"pattern\":{\"fillmode\":\"overlay\",\"size\":10,\"solidity\":0.2}},\"type\":\"barpolar\"}],\"pie\":[{\"automargin\":true,\"type\":\"pie\"}]},\"layout\":{\"autotypenumbers\":\"strict\",\"colorway\":[\"#636efa\",\"#EF553B\",\"#00cc96\",\"#ab63fa\",\"#FFA15A\",\"#19d3f3\",\"#FF6692\",\"#B6E880\",\"#FF97FF\",\"#FECB52\"],\"font\":{\"color\":\"#2a3f5f\"},\"hovermode\":\"closest\",\"hoverlabel\":{\"align\":\"left\"},\"paper_bgcolor\":\"white\",\"plot_bgcolor\":\"#E5ECF6\",\"polar\":{\"bgcolor\":\"#E5ECF6\",\"angularaxis\":{\"gridcolor\":\"white\",\"linecolor\":\"white\",\"ticks\":\"\"},\"radialaxis\":{\"gridcolor\":\"white\",\"linecolor\":\"white\",\"ticks\":\"\"}},\"ternary\":{\"bgcolor\":\"#E5ECF6\",\"aaxis\":{\"gridcolor\":\"white\",\"linecolor\":\"white\",\"ticks\":\"\"},\"baxis\":{\"gridcolor\":\"white\",\"linecolor\":\"white\",\"ticks\":\"\"},\"caxis\":{\"gridcolor\":\"white\",\"linecolor\":\"white\",\"ticks\":\"\"}},\"coloraxis\":{\"colorbar\":{\"outlinewidth\":0,\"ticks\":\"\"}},\"colorscale\":{\"sequential\":[[0.0,\"#0d0887\"],[0.1111111111111111,\"#46039f\"],[0.2222222222222222,\"#7201a8\"],[0.3333333333333333,\"#9c179e\"],[0.4444444444444444,\"#bd3786\"],[0.5555555555555556,\"#d8576b\"],[0.6666666666666666,\"#ed7953\"],[0.7777777777777778,\"#fb9f3a\"],[0.8888888888888888,\"#fdca26\"],[1.0,\"#f0f921\"]],\"sequentialminus\":[[0.0,\"#0d0887\"],[0.1111111111111111,\"#46039f\"],[0.2222222222222222,\"#7201a8\"],[0.3333333333333333,\"#9c179e\"],[0.4444444444444444,\"#bd3786\"],[0.5555555555555556,\"#d8576b\"],[0.6666666666666666,\"#ed7953\"],[0.7777777777777778,\"#fb9f3a\"],[0.8888888888888888,\"#fdca26\"],[1.0,\"#f0f921\"]],\"diverging\":[[0,\"#8e0152\"],[0.1,\"#c51b7d\"],[0.2,\"#de77ae\"],[0.3,\"#f1b6da\"],[0.4,\"#fde0ef\"],[0.5,\"#f7f7f7\"],[0.6,\"#e6f5d0\"],[0.7,\"#b8e186\"],[0.8,\"#7fbc41\"],[0.9,\"#4d9221\"],[1,\"#276419\"]]},\"xaxis\":{\"gridcolor\":\"white\",\"linecolor\":\"white\",\"ticks\":\"\",\"title\":{\"standoff\":15},\"zerolinecolor\":\"white\",\"automargin\":true,\"zerolinewidth\":2},\"yaxis\":{\"gridcolor\":\"white\",\"linecolor\":\"white\",\"ticks\":\"\",\"title\":{\"standoff\":15},\"zerolinecolor\":\"white\",\"automargin\":true,\"zerolinewidth\":2},\"scene\":{\"xaxis\":{\"backgroundcolor\":\"#E5ECF6\",\"gridcolor\":\"white\",\"linecolor\":\"white\",\"showbackground\":true,\"ticks\":\"\",\"zerolinecolor\":\"white\",\"gridwidth\":2},\"yaxis\":{\"backgroundcolor\":\"#E5ECF6\",\"gridcolor\":\"white\",\"linecolor\":\"white\",\"showbackground\":true,\"ticks\":\"\",\"zerolinecolor\":\"white\",\"gridwidth\":2},\"zaxis\":{\"backgroundcolor\":\"#E5ECF6\",\"gridcolor\":\"white\",\"linecolor\":\"white\",\"showbackground\":true,\"ticks\":\"\",\"zerolinecolor\":\"white\",\"gridwidth\":2}},\"shapedefaults\":{\"line\":{\"color\":\"#2a3f5f\"}},\"annotationdefaults\":{\"arrowcolor\":\"#2a3f5f\",\"arrowhead\":0,\"arrowwidth\":1},\"geo\":{\"bgcolor\":\"white\",\"landcolor\":\"#E5ECF6\",\"subunitcolor\":\"white\",\"showland\":true,\"showlakes\":true,\"lakecolor\":\"white\"},\"title\":{\"x\":0.05},\"mapbox\":{\"style\":\"light\"}}},\"xaxis\":{\"anchor\":\"y\",\"domain\":[0.0,1.0],\"title\":{\"text\":\"AGE\"}},\"yaxis\":{\"anchor\":\"x\",\"domain\":[0.0,1.0],\"title\":{\"text\":\"INCOME\"}},\"legend\":{\"tracegroupgap\":0},\"title\":{\"text\":\"Age vs Income\"}},                        {\"responsive\": true}                    ).then(function(){\n",
              "                            \n",
              "var gd = document.getElementById('12e21b3d-f0bf-4936-806f-af863894d005');\n",
              "var x = new MutationObserver(function (mutations, observer) {{\n",
              "        var display = window.getComputedStyle(gd).display;\n",
              "        if (!display || display === 'none') {{\n",
              "            console.log([gd, 'removed!']);\n",
              "            Plotly.purge(gd);\n",
              "            observer.disconnect();\n",
              "        }}\n",
              "}});\n",
              "\n",
              "// Listen for the removal of the full notebook cells\n",
              "var notebookContainer = gd.closest('#notebook-container');\n",
              "if (notebookContainer) {{\n",
              "    x.observe(notebookContainer, {childList: true});\n",
              "}}\n",
              "\n",
              "// Listen for the clearing of the current output cell\n",
              "var outputEl = gd.closest('.output');\n",
              "if (outputEl) {{\n",
              "    x.observe(outputEl, {childList: true});\n",
              "}}\n",
              "\n",
              "                        })                };                            </script>        </div>\n",
              "</body>\n",
              "</html>"
            ]
          },
          "metadata": {}
        }
      ]
    },
    {
      "cell_type": "markdown",
      "source": [
        "Low Income Range: Most individuals across all age groups have a low income, clustered close to the bottom of the plot.\n",
        "\n",
        "Outlier Detection: There is a notable outlier with a significantly high income (around 100k) at an age near 50, suggesting that this individual is an exception compared to the general trend.\n",
        "\n",
        "Minimal Age-Income Correlation: There doesn’t appear to be a clear correlation between age and income, as income levels remain consistently low regardless of age.\n",
        "\n",
        "Income Consistency Across Ages: The spread of income is relatively uniform across ages, indicating that higher incomes aren’t necessarily concentrated in older or younger groups."
      ],
      "metadata": {
        "id": "cc0JwgVTXBSP"
      }
    },
    {
      "cell_type": "markdown",
      "source": [
        "## Product vs. Income (Box Plot)"
      ],
      "metadata": {
        "id": "davogEgtXPMA"
      }
    },
    {
      "cell_type": "code",
      "source": [
        "# Box plot of Income across Product categories\n",
        "fig = px.box(data, x='PRODUCT', y='INCOME', title='Income by Product Category')\n",
        "fig.update_layout(xaxis_title='Product Category', yaxis_title='Income')\n",
        "fig.show()\n"
      ],
      "metadata": {
        "colab": {
          "base_uri": "https://localhost:8080/",
          "height": 542
        },
        "id": "9ShRPGSWXSMp",
        "outputId": "90460653-20d8-495d-c92a-08cf8dca0463"
      },
      "execution_count": 30,
      "outputs": [
        {
          "output_type": "display_data",
          "data": {
            "text/html": [
              "<html>\n",
              "<head><meta charset=\"utf-8\" /></head>\n",
              "<body>\n",
              "    <div>            <script src=\"https://cdnjs.cloudflare.com/ajax/libs/mathjax/2.7.5/MathJax.js?config=TeX-AMS-MML_SVG\"></script><script type=\"text/javascript\">if (window.MathJax && window.MathJax.Hub && window.MathJax.Hub.Config) {window.MathJax.Hub.Config({SVG: {font: \"STIX-Web\"}});}</script>                <script type=\"text/javascript\">window.PlotlyConfig = {MathJaxConfig: 'local'};</script>\n",
              "        <script charset=\"utf-8\" src=\"https://cdn.plot.ly/plotly-2.35.2.min.js\"></script>                <div id=\"54b3aa14-256b-4052-b7ed-b51d26e3fb48\" class=\"plotly-graph-div\" style=\"height:525px; width:100%;\"></div>            <script type=\"text/javascript\">                                    window.PLOTLYENV=window.PLOTLYENV || {};                                    if (document.getElementById(\"54b3aa14-256b-4052-b7ed-b51d26e3fb48\")) {                    Plotly.newPlot(                        \"54b3aa14-256b-4052-b7ed-b51d26e3fb48\",                        [{\"alignmentgroup\":\"True\",\"hovertemplate\":\"PRODUCT=%{x}\\u003cbr\\u003eINCOME=%{y}\\u003cextra\\u003e\\u003c\\u002fextra\\u003e\",\"legendgroup\":\"\",\"marker\":{\"color\":\"#636efa\"},\"name\":\"\",\"notched\":false,\"offsetgroup\":\"\",\"orientation\":\"v\",\"showlegend\":false,\"x\":[\"Radio, TV, Hifi\",null,null,\"Furniture,Carpet\",\"Furniture,Carpet\",\"Furniture,Carpet\",\"Furniture,Carpet\",\"Furniture,Carpet\",\"Radio, TV, Hifi\",\"Radio, TV, Hifi\",\"Furniture,Carpet\",\"Radio, TV, Hifi\",\"Dept. Store,Mail\",\"Furniture,Carpet\",\"Dept. Store,Mail\",\"Furniture,Carpet\",\"Dept. Store,Mail\",\"Radio, TV, Hifi\",\"Furniture,Carpet\",\"Dept. Store,Mail\",\"Dept. Store,Mail\",\"Dept. Store,Mail\",\"Furniture,Carpet\",\"Furniture,Carpet\",\"Radio, TV, Hifi\",\"Furniture,Carpet\",\"Dept. Store,Mail\",\"Furniture,Carpet\",\"Furniture,Carpet\",\"Dept. Store,Mail\",\"Radio, TV, Hifi\",\"Dept. Store,Mail\",\"Leisure\",\"Radio, TV, Hifi\",\"Radio, TV, Hifi\",\"Cars\",\"Dept. Store,Mail\",\"Furniture,Carpet\",\"Cars\",\"Furniture,Carpet\",\"Furniture,Carpet\",\"Cars\",\"Cars\",\"Furniture,Carpet\",\"Furniture,Carpet\",\"Radio, TV, Hifi\",\"Radio, TV, Hifi\",\"Cars\",\"Cars\",\"Radio, TV, Hifi\",\"Radio, TV, Hifi\",\"Dept. Store,Mail\",\"Furniture,Carpet\",\"Furniture,Carpet\",\"Furniture,Carpet\",\"Dept. Store,Mail\",\"Dept. Store,Mail\",\"Dept. Store,Mail\",\"Furniture,Carpet\",\"Radio, TV, Hifi\",\"Furniture,Carpet\",\"Radio, TV, Hifi\",\"Radio, TV, Hifi\",\"Leisure\",\"Furniture,Carpet\",\"Dept. Store,Mail\",\"Furniture,Carpet\",\"Radio, TV, Hifi\",\"Cars\",\"Furniture,Carpet\",\"Radio, TV, Hifi\",\"Radio, TV, Hifi\",\"Furniture,Carpet\",\"Furniture,Carpet\",\"Furniture,Carpet\",\"Radio, TV, Hifi\",\"Radio, TV, Hifi\",\"Furniture,Carpet\",\"Furniture,Carpet\",\"Furniture,Carpet\",\"Furniture,Carpet\",\"Furniture,Carpet\",\"Dept. Store,Mail\",\"Furniture,Carpet\",\"Furniture,Carpet\",\"Radio, TV, Hifi\",\"Radio, TV, Hifi\",\"Furniture,Carpet\",\"Furniture,Carpet\",\"Dept. Store,Mail\",\"Radio, TV, Hifi\",\"Dept. Store,Mail\",\"Furniture,Carpet\",\"Furniture,Carpet\",\"Furniture,Carpet\",null,\"Radio, TV, Hifi\",\"Dept. Store,Mail\",\"Furniture,Carpet\",\"Furniture,Carpet\",\"Furniture,Carpet\",\"Dept. Store,Mail\",\"Furniture,Carpet\",null,\"Furniture,Carpet\",\"Furniture,Carpet\",\"Radio, TV, Hifi\",\"Furniture,Carpet\",\"Radio, TV, Hifi\",\"Furniture,Carpet\",\"Radio, TV, Hifi\",\"Furniture,Carpet\",\"Dept. Store,Mail\",\"Furniture,Carpet\",\"Furniture,Carpet\",\"Radio, TV, Hifi\",\"Dept. Store,Mail\",\"Radio, TV, Hifi\",\"Furniture,Carpet\",\"Furniture,Carpet\",\"Dept. Store,Mail\",\"Furniture,Carpet\",\"Furniture,Carpet\",\"Furniture,Carpet\",\"Radio, TV, Hifi\",\"Furniture,Carpet\",\"Radio, TV, Hifi\",\"Radio, TV, Hifi\",\"Furniture,Carpet\",\"Dept. Store,Mail\",\"Furniture,Carpet\",\"Radio, TV, Hifi\",\"Furniture,Carpet\",null,\"Dept. Store,Mail\",\"Furniture,Carpet\",\"Dept. Store,Mail\",\"Radio, TV, Hifi\",\"Radio, TV, Hifi\",\"Cars\",\"Furniture,Carpet\",\"Dept. Store,Mail\",\"Furniture,Carpet\",\"Cars\",\"Cars\",\"Radio, TV, Hifi\",\"Cars\",\"Furniture,Carpet\",\"Cars\",\"Furniture,Carpet\",\"Furniture,Carpet\",\"Dept. Store,Mail\",\"Dept. Store,Mail\",\"Radio, TV, Hifi\",\"Radio, TV, Hifi\",\"Furniture,Carpet\",\"Dept. Store,Mail\",\"Furniture,Carpet\",\"Radio, TV, Hifi\",\"Furniture,Carpet\",\"Furniture,Carpet\",\"Dept. Store,Mail\",\"Radio, TV, Hifi\",\"Furniture,Carpet\",\"Dept. Store,Mail\",\"Radio, TV, Hifi\",\"Cars\",\"Radio, TV, Hifi\",\"Furniture,Carpet\",\"Furniture,Carpet\",\"Radio, TV, Hifi\",\"Radio, TV, Hifi\",\"Furniture,Carpet\",\"Radio, TV, Hifi\",\"Dept. Store,Mail\",\"Cars\",\"Furniture,Carpet\",\"Radio, TV, Hifi\",\"Furniture,Carpet\",\"Furniture,Carpet\",\"Radio, TV, Hifi\",\"Radio, TV, Hifi\",\"Dept. Store,Mail\",\"Furniture,Carpet\",\"Radio, TV, Hifi\",\"Dept. Store,Mail\",\"Furniture,Carpet\",\"Radio, TV, Hifi\",\"Furniture,Carpet\",\"Radio, TV, Hifi\",\"Furniture,Carpet\",\"Furniture,Carpet\",\"Furniture,Carpet\",\"Radio, TV, Hifi\",\"Dept. Store,Mail\",\"Furniture,Carpet\",\"Cars\",\"Furniture,Carpet\",\"Furniture,Carpet\",\"Dept. Store,Mail\",\"Furniture,Carpet\",\"Dept. Store,Mail\",\"Furniture,Carpet\",\"Radio, TV, Hifi\",\"Furniture,Carpet\",\"Furniture,Carpet\",\"Furniture,Carpet\",\"Dept. Store,Mail\",\"Dept. Store,Mail\",\"Furniture,Carpet\",\"Furniture,Carpet\",\"Furniture,Carpet\",\"Furniture,Carpet\",\"Radio, TV, Hifi\",\"Radio, TV, Hifi\",\"Furniture,Carpet\",\"Radio, TV, Hifi\",\"Furniture,Carpet\",\"Furniture,Carpet\",\"Radio, TV, Hifi\",\"Furniture,Carpet\",\"Dept. Store,Mail\",\"Furniture,Carpet\",\"Furniture,Carpet\",null,\"Furniture,Carpet\",\"Furniture,Carpet\",\"Dept. Store,Mail\",\"Leisure\",\"Dept. Store,Mail\",\"Cars\",\"Radio, TV, Hifi\",\"Radio, TV, Hifi\",\"Furniture,Carpet\",\"Dept. Store,Mail\",\"Radio, TV, Hifi\",\"Radio, TV, Hifi\",\"Dept. Store,Mail\",\"Furniture,Carpet\",\"Furniture,Carpet\",\"Furniture,Carpet\",\"Dept. Store,Mail\",\"Radio, TV, Hifi\",\"Furniture,Carpet\",\"Furniture,Carpet\",\"Radio, TV, Hifi\",\"Radio, TV, Hifi\",\"Radio, TV, Hifi\",\"Furniture,Carpet\",\"Dept. Store,Mail\",\"Radio, TV, Hifi\",null,\"Furniture,Carpet\",\"Dept. Store,Mail\",\"Furniture,Carpet\",\"Radio, TV, Hifi\",\"Furniture,Carpet\",\"Furniture,Carpet\",\"Dept. Store,Mail\",\"Cars\",\"Radio, TV, Hifi\",\"Radio, TV, Hifi\",\"Radio, TV, Hifi\",\"Radio, TV, Hifi\",\"Radio, TV, Hifi\",\"Furniture,Carpet\",\"Dept. Store,Mail\",\"Furniture,Carpet\",\"Dept. Store,Mail\",\"Dept. Store,Mail\",\"Radio, TV, Hifi\",\"Furniture,Carpet\",\"Furniture,Carpet\",\"Furniture,Carpet\",\"Radio, TV, Hifi\",\"Dept. Store,Mail\",\"Radio, TV, Hifi\",\"Furniture,Carpet\",\"Furniture,Carpet\",\"Furniture,Carpet\",\"Furniture,Carpet\",\"Furniture,Carpet\",\"Furniture,Carpet\",\"Furniture,Carpet\",\"Furniture,Carpet\",\"Dept. Store,Mail\",\"Furniture,Carpet\",\"Dept. Store,Mail\",\"Radio, TV, Hifi\",\"Furniture,Carpet\",\"Furniture,Carpet\",\"Furniture,Carpet\",\"Furniture,Carpet\",\"Furniture,Carpet\",\"Radio, TV, Hifi\",\"Furniture,Carpet\",\"Dept. Store,Mail\",\"Dept. Store,Mail\",\"Furniture,Carpet\",\"Furniture,Carpet\",\"Furniture,Carpet\",\"Furniture,Carpet\",\"Radio, TV, Hifi\",\"Dept. Store,Mail\",\"Radio, TV, Hifi\",\"Furniture,Carpet\",\"Furniture,Carpet\",\"Furniture,Carpet\",\"Radio, TV, Hifi\",\"Furniture,Carpet\",\"Cars\",\"Cars\",\"Furniture,Carpet\",\"Radio, TV, Hifi\",\"Cars\",\"Dept. Store,Mail\",\"Furniture,Carpet\",\"Furniture,Carpet\",\"Furniture,Carpet\",\"Dept. Store,Mail\",\"Furniture,Carpet\",\"Furniture,Carpet\",\"Furniture,Carpet\",\"Furniture,Carpet\",\"Dept. Store,Mail\",\"Radio, TV, Hifi\",\"Cars\",\"Dept. Store,Mail\",\"Furniture,Carpet\",\"Dept. Store,Mail\",\"Dept. Store,Mail\",\"Furniture,Carpet\",\"Radio, TV, Hifi\",\"Furniture,Carpet\",\"Radio, TV, Hifi\",\"Radio, TV, Hifi\",\"Furniture,Carpet\",\"Radio, TV, Hifi\",\"Dept. Store,Mail\",\"Furniture,Carpet\",\"Radio, TV, Hifi\",\"Furniture,Carpet\",\"Dept. Store,Mail\",\"Furniture,Carpet\",\"Radio, TV, Hifi\",\"Furniture,Carpet\",\"Furniture,Carpet\",\"Furniture,Carpet\",\"Radio, TV, Hifi\",\"Dept. Store,Mail\",\"Furniture,Carpet\",\"Cars\",\"Furniture,Carpet\",\"Radio, TV, Hifi\",\"Furniture,Carpet\",\"Furniture,Carpet\",\"Dept. Store,Mail\",\"Furniture,Carpet\",\"Furniture,Carpet\",\"Cars\",null,\"Furniture,Carpet\",\"Dept. Store,Mail\",\"Furniture,Carpet\",\"Radio, TV, Hifi\",\"Radio, TV, Hifi\",\"Cars\",\"Cars\",\"Furniture,Carpet\",\"Furniture,Carpet\",\"Radio, TV, Hifi\",\"Dept. Store,Mail\",\"Radio, TV, Hifi\",\"Furniture,Carpet\",\"Dept. Store,Mail\",null,\"Radio, TV, Hifi\",\"Radio, TV, Hifi\",\"Furniture,Carpet\",\"Furniture,Carpet\",\"Furniture,Carpet\",\"Dept. Store,Mail\",\"Furniture,Carpet\",\"Furniture,Carpet\",\"Radio, TV, Hifi\",\"Radio, TV, Hifi\",\"Furniture,Carpet\",\"Furniture,Carpet\",\"Radio, TV, Hifi\",\"Furniture,Carpet\",\"Dept. Store,Mail\",\"Dept. Store,Mail\",\"Cars\",\"Dept. Store,Mail\",\"Radio, TV, Hifi\",\"Furniture,Carpet\",\"Furniture,Carpet\",\"Radio, TV, Hifi\",\"Furniture,Carpet\",\"Furniture,Carpet\",\"Radio, TV, Hifi\",\"Radio, TV, Hifi\",\"Furniture,Carpet\",\"Furniture,Carpet\",\"Dept. Store,Mail\",\"Cars\",\"Furniture,Carpet\",\"Leisure\",\"Furniture,Carpet\",\"Furniture,Carpet\",\"Furniture,Carpet\",\"Dept. Store,Mail\",\"Cars\",\"Furniture,Carpet\",\"Radio, TV, Hifi\",\"Cars\",\"Dept. Store,Mail\",\"Radio, TV, Hifi\",\"Dept. Store,Mail\",\"Radio, TV, Hifi\",\"Radio, TV, Hifi\",\"Furniture,Carpet\",\"Furniture,Carpet\",\"Radio, TV, Hifi\",\"Cars\",\"Radio, TV, Hifi\",\"Radio, TV, Hifi\",\"Radio, TV, Hifi\",\"Furniture,Carpet\",\"Cars\",\"Furniture,Carpet\",\"Furniture,Carpet\",\"Dept. Store,Mail\",\"Furniture,Carpet\",\"Furniture,Carpet\",\"Dept. Store,Mail\",\"Dept. Store,Mail\",\"Furniture,Carpet\",\"Furniture,Carpet\",\"Cars\",\"Radio, TV, Hifi\",\"Radio, TV, Hifi\",\"Furniture,Carpet\",\"Furniture,Carpet\",\"Radio, TV, Hifi\",\"Furniture,Carpet\",\"Dept. Store,Mail\",\"Furniture,Carpet\",\"Radio, TV, Hifi\",\"Cars\",\"Dept. Store,Mail\",\"Cars\",\"Furniture,Carpet\",\"Furniture,Carpet\",\"Dept. Store,Mail\",\"Furniture,Carpet\",\"Radio, TV, Hifi\",\"Furniture,Carpet\",\"Furniture,Carpet\",\"Dept. Store,Mail\",\"Furniture,Carpet\",\"Radio, TV, Hifi\",\"Radio, TV, Hifi\",\"Furniture,Carpet\",\"Dept. Store,Mail\",\"Radio, TV, Hifi\",\"Dept. Store,Mail\",\"Furniture,Carpet\",\"Radio, TV, Hifi\",\"Furniture,Carpet\",\"Radio, TV, Hifi\",\"Dept. Store,Mail\",\"Radio, TV, Hifi\",\"Furniture,Carpet\",\"Dept. Store,Mail\",\"Furniture,Carpet\",\"Furniture,Carpet\",\"Furniture,Carpet\",\"Radio, TV, Hifi\",\"Furniture,Carpet\",null,\"Furniture,Carpet\",\"Dept. Store,Mail\",\"Furniture,Carpet\",\"Furniture,Carpet\",\"Radio, TV, Hifi\",\"Cars\",\"Furniture,Carpet\",\"Dept. Store,Mail\",\"Furniture,Carpet\",\"Furniture,Carpet\",\"Furniture,Carpet\",\"Radio, TV, Hifi\",\"Dept. Store,Mail\",\"Radio, TV, Hifi\",\"Radio, TV, Hifi\",\"Dept. Store,Mail\",\"Furniture,Carpet\",\"Furniture,Carpet\",\"Radio, TV, Hifi\",\"Dept. Store,Mail\",\"Dept. Store,Mail\",\"Furniture,Carpet\",\"Radio, TV, Hifi\",\"Radio, TV, Hifi\",\"Furniture,Carpet\",\"Furniture,Carpet\",\"Dept. Store,Mail\",\"Furniture,Carpet\",\"Furniture,Carpet\",\"Radio, TV, Hifi\",\"Furniture,Carpet\",\"Dept. Store,Mail\",\"Radio, TV, Hifi\",\"Furniture,Carpet\",\"Dept. Store,Mail\",\"Radio, TV, Hifi\",\"Furniture,Carpet\",\"Furniture,Carpet\",\"Dept. Store,Mail\",\"Dept. Store,Mail\",\"Radio, TV, Hifi\",\"Dept. Store,Mail\",\"Furniture,Carpet\",\"Radio, TV, Hifi\",\"Radio, TV, Hifi\",\"Radio, TV, Hifi\",\"Furniture,Carpet\",\"Furniture,Carpet\",\"Dept. Store,Mail\",null,\"Furniture,Carpet\",\"Cars\",\"Cars\",\"Furniture,Carpet\",\"Furniture,Carpet\",\"Furniture,Carpet\",\"Cars\",\"Furniture,Carpet\",\"Radio, TV, Hifi\",\"Furniture,Carpet\",null,\"Dept. Store,Mail\",\"Radio, TV, Hifi\",\"Radio, TV, Hifi\",\"Furniture,Carpet\",\"Furniture,Carpet\",\"Furniture,Carpet\",\"Furniture,Carpet\",\"Radio, TV, Hifi\",\"Dept. Store,Mail\",\"Furniture,Carpet\",\"Dept. Store,Mail\",\"Furniture,Carpet\",\"Furniture,Carpet\",\"Furniture,Carpet\",\"Furniture,Carpet\",\"Dept. Store,Mail\",\"Furniture,Carpet\",\"Radio, TV, Hifi\",\"Radio, TV, Hifi\",\"Furniture,Carpet\",\"Cars\",\"Dept. Store,Mail\",\"Furniture,Carpet\",\"Radio, TV, Hifi\",\"Dept. Store,Mail\",\"Cars\",\"Furniture,Carpet\",\"Radio, TV, Hifi\",\"Dept. Store,Mail\",\"Dept. Store,Mail\",\"Furniture,Carpet\",\"Furniture,Carpet\",\"Furniture,Carpet\",\"Radio, TV, Hifi\",\"Dept. Store,Mail\",\"Radio, TV, Hifi\",\"Furniture,Carpet\",\"Furniture,Carpet\",\"Dept. Store,Mail\",\"Furniture,Carpet\",\"Cars\",\"Dept. Store,Mail\",\"Radio, TV, Hifi\",\"Dept. Store,Mail\",\"Furniture,Carpet\",\"Furniture,Carpet\",\"Dept. Store,Mail\",\"Furniture,Carpet\",\"Furniture,Carpet\",\"Furniture,Carpet\",\"Radio, TV, Hifi\",\"Radio, TV, Hifi\",\"Furniture,Carpet\",\"Dept. Store,Mail\",\"Furniture,Carpet\",\"Furniture,Carpet\",\"Radio, TV, Hifi\",\"Radio, TV, Hifi\",\"Dept. Store,Mail\",\"Dept. Store,Mail\",\"Furniture,Carpet\",\"Furniture,Carpet\",\"Radio, TV, Hifi\",\"Furniture,Carpet\",\"Dept. Store,Mail\",\"Furniture,Carpet\",\"Radio, TV, Hifi\",\"Radio, TV, Hifi\",\"Radio, TV, Hifi\",\"Furniture,Carpet\",\"Furniture,Carpet\",\"Furniture,Carpet\",\"Furniture,Carpet\",\"Dept. Store,Mail\",\"Furniture,Carpet\",\"Furniture,Carpet\",\"Furniture,Carpet\",\"Cars\",\"Radio, TV, Hifi\",\"Furniture,Carpet\",\"Furniture,Carpet\",\"Radio, TV, Hifi\",\"Furniture,Carpet\",\"Dept. Store,Mail\",\"Furniture,Carpet\",\"Dept. Store,Mail\",\"Furniture,Carpet\",\"Cars\",\"Radio, TV, Hifi\",\"Furniture,Carpet\",\"Furniture,Carpet\",\"Furniture,Carpet\",\"Dept. Store,Mail\",\"Furniture,Carpet\",\"Furniture,Carpet\",\"Furniture,Carpet\",\"Radio, TV, Hifi\",\"Furniture,Carpet\",\"Radio, TV, Hifi\",\"Furniture,Carpet\",\"Radio, TV, Hifi\",\"Furniture,Carpet\",\"Radio, TV, Hifi\",\"Dept. Store,Mail\",\"Furniture,Carpet\",\"Furniture,Carpet\",\"Furniture,Carpet\",\"Furniture,Carpet\",\"Furniture,Carpet\",\"Furniture,Carpet\",\"Radio, TV, Hifi\",\"Dept. Store,Mail\",\"Dept. Store,Mail\",\"Dept. Store,Mail\",\"Furniture,Carpet\",\"Furniture,Carpet\",\"Furniture,Carpet\",\"Furniture,Carpet\",\"Radio, TV, Hifi\",\"Furniture,Carpet\",\"Furniture,Carpet\",\"Furniture,Carpet\",\"Furniture,Carpet\",\"Furniture,Carpet\",\"Dept. Store,Mail\",\"Dept. Store,Mail\",\"Furniture,Carpet\",\"Furniture,Carpet\",\"Radio, TV, Hifi\",\"Radio, TV, Hifi\",\"Dept. Store,Mail\",\"Radio, TV, Hifi\",\"Furniture,Carpet\",\"Furniture,Carpet\",\"Cars\",\"Furniture,Carpet\",\"Furniture,Carpet\",\"Furniture,Carpet\",\"Leisure\",\"Cars\",\"Radio, TV, Hifi\",\"Furniture,Carpet\",\"Furniture,Carpet\",\"Dept. Store,Mail\",\"Furniture,Carpet\",\"Furniture,Carpet\",\"Radio, TV, Hifi\",\"Dept. Store,Mail\",\"Furniture,Carpet\",\"Cars\",\"Furniture,Carpet\",\"Furniture,Carpet\",\"Cars\",\"Furniture,Carpet\",\"Radio, TV, Hifi\",\"Radio, TV, Hifi\",\"Radio, TV, Hifi\",\"Radio, TV, Hifi\",\"Furniture,Carpet\",\"Cars\",\"Radio, TV, Hifi\",\"Radio, TV, Hifi\",\"Radio, TV, Hifi\",\"Cars\",\"Others\",\"Radio, TV, Hifi\",\"Radio, TV, Hifi\",\"Radio, TV, Hifi\",\"Radio, TV, Hifi\",\"Radio, TV, Hifi\",\"Furniture,Carpet\",\"Radio, TV, Hifi\",\"Dept. Store,Mail\",\"Radio, TV, Hifi\",\"Radio, TV, Hifi\",\"Radio, TV, Hifi\",\"Radio, TV, Hifi\",\"Radio, TV, Hifi\",\"Furniture,Carpet\",\"Furniture,Carpet\",\"Radio, TV, Hifi\",\"Radio, TV, Hifi\",\"Furniture,Carpet\",\"Radio, TV, Hifi\",\"Radio, TV, Hifi\",\"Radio, TV, Hifi\",\"Radio, TV, Hifi\",\"Radio, TV, Hifi\",\"Furniture,Carpet\",\"Furniture,Carpet\",\"Radio, TV, Hifi\",\"Furniture,Carpet\",\"Furniture,Carpet\",\"Radio, TV, Hifi\",\"Radio, TV, Hifi\",\"Radio, TV, Hifi\",\"Dept. Store,Mail\",\"Radio, TV, Hifi\",\"Radio, TV, Hifi\",\"Furniture,Carpet\",\"Cars\",\"Cars\",\"Radio, TV, Hifi\",\"Radio, TV, Hifi\",\"Leisure\",\"Radio, TV, Hifi\",\"Radio, TV, Hifi\",\"Radio, TV, Hifi\",\"Dept. Store,Mail\",\"Radio, TV, Hifi\",\"Radio, TV, Hifi\",\"Radio, TV, Hifi\",\"Radio, TV, Hifi\",\"Furniture,Carpet\",\"Cars\",\"Radio, TV, Hifi\",\"Radio, TV, Hifi\",\"Radio, TV, Hifi\",\"Cars\",\"Radio, TV, Hifi\",\"Radio, TV, Hifi\",\"Radio, TV, Hifi\",\"Radio, TV, Hifi\",\"Radio, TV, Hifi\",\"Radio, TV, Hifi\",\"Furniture,Carpet\",\"Furniture,Carpet\",\"Radio, TV, Hifi\",\"Cars\",\"Radio, TV, Hifi\",\"Radio, TV, Hifi\",\"Radio, TV, Hifi\",\"Leisure\",\"Dept. Store,Mail\",\"Radio, TV, Hifi\",\"Furniture,Carpet\",\"Radio, TV, Hifi\",\"Radio, TV, Hifi\",\"Radio, TV, Hifi\",\"Dept. Store,Mail\",\"Radio, TV, Hifi\",\"Radio, TV, Hifi\",\"Leisure\",\"Radio, TV, Hifi\",\"Cars\",\"Furniture,Carpet\",\"Furniture,Carpet\",\"Radio, TV, Hifi\",\"Dept. Store,Mail\",\"Furniture,Carpet\",\"Furniture,Carpet\",\"Dept. Store,Mail\",\"Dept. Store,Mail\",\"Dept. Store,Mail\",\"Cars\",\"Radio, TV, Hifi\",\"Radio, TV, Hifi\",\"Radio, TV, Hifi\",\"Radio, TV, Hifi\",\"Radio, TV, Hifi\",\"Radio, TV, Hifi\",\"Furniture,Carpet\",\"Radio, TV, Hifi\",\"Furniture,Carpet\",\"Radio, TV, Hifi\",\"Radio, TV, Hifi\",\"Furniture,Carpet\",\"Radio, TV, Hifi\",\"Cars\",\"Furniture,Carpet\",\"Furniture,Carpet\",\"Cars\",\"Dept. Store,Mail\",\"Radio, TV, Hifi\",\"Leisure\",\"Furniture,Carpet\",\"Furniture,Carpet\",\"Radio, TV, Hifi\",\"Radio, TV, Hifi\",\"Furniture,Carpet\",\"Dept. Store,Mail\",\"Radio, TV, Hifi\",\"Radio, TV, Hifi\",\"Radio, TV, Hifi\",\"Radio, TV, Hifi\",\"Radio, TV, Hifi\",\"Furniture,Carpet\",\"Dept. Store,Mail\",\"Radio, TV, Hifi\",\"Cars\",\"Radio, TV, Hifi\",\"Radio, TV, Hifi\",\"Furniture,Carpet\",\"Radio, TV, Hifi\",\"Radio, TV, Hifi\",\"Furniture,Carpet\",\"Radio, TV, Hifi\",\"Radio, TV, Hifi\",\"Radio, TV, Hifi\",\"Radio, TV, Hifi\",\"Dept. Store,Mail\",\"Radio, TV, Hifi\",\"Cars\",\"Furniture,Carpet\",\"Radio, TV, Hifi\",\"Radio, TV, Hifi\",\"Radio, TV, Hifi\",\"Radio, TV, Hifi\",\"Radio, TV, Hifi\",\"Radio, TV, Hifi\",\"Radio, TV, Hifi\",\"Radio, TV, Hifi\",\"Radio, TV, Hifi\",\"Furniture,Carpet\",\"Radio, TV, Hifi\",\"Radio, TV, Hifi\",\"Radio, TV, Hifi\",\"Radio, TV, Hifi\",\"Dept. Store,Mail\",\"Radio, TV, Hifi\",\"Dept. Store,Mail\",\"Cars\",\"Radio, TV, Hifi\",\"Furniture,Carpet\",\"Radio, TV, Hifi\",\"Radio, TV, Hifi\",\"Radio, TV, Hifi\",\"Radio, TV, Hifi\",\"Furniture,Carpet\",\"Radio, TV, Hifi\",\"Furniture,Carpet\",\"Radio, TV, Hifi\",\"Radio, TV, Hifi\",\"Dept. Store,Mail\",\"Cars\",\"Furniture,Carpet\",\"Radio, TV, Hifi\",\"Radio, TV, Hifi\",\"Radio, TV, Hifi\",\"Furniture,Carpet\",\"Radio, TV, Hifi\",\"Radio, TV, Hifi\",\"Radio, TV, Hifi\",\"Radio, TV, Hifi\",\"Radio, TV, Hifi\",\"Radio, TV, Hifi\",\"Furniture,Carpet\",\"Radio, TV, Hifi\",\"Radio, TV, Hifi\",\"Radio, TV, Hifi\",\"Radio, TV, Hifi\",\"Leisure\",\"Radio, TV, Hifi\",\"Radio, TV, Hifi\",\"Radio, TV, Hifi\",\"Radio, TV, Hifi\",\"Radio, TV, Hifi\",\"Radio, TV, Hifi\",\"Furniture,Carpet\",\"Furniture,Carpet\",\"Furniture,Carpet\",\"Furniture,Carpet\",\"Radio, TV, Hifi\",\"Furniture,Carpet\",\"Cars\",\"Radio, TV, Hifi\",\"Radio, TV, Hifi\",\"Radio, TV, Hifi\",\"Leisure\",\"Radio, TV, Hifi\",\"Dept. Store,Mail\",\"Radio, TV, Hifi\",\"Radio, TV, Hifi\",\"Radio, TV, Hifi\",\"Dept. Store,Mail\",\"Radio, TV, Hifi\",\"Furniture,Carpet\",\"Furniture,Carpet\",\"Leisure\",\"Furniture,Carpet\",\"Furniture,Carpet\",\"Radio, TV, Hifi\",\"Radio, TV, Hifi\",\"Radio, TV, Hifi\",\"Radio, TV, Hifi\",\"Furniture,Carpet\",\"Cars\",\"Cars\",\"Radio, TV, Hifi\",\"Cars\",\"Furniture,Carpet\",\"Radio, TV, Hifi\",\"Dept. Store,Mail\",\"Furniture,Carpet\",\"Furniture,Carpet\",\"Furniture,Carpet\",\"Radio, TV, Hifi\",\"Radio, TV, Hifi\",\"Radio, TV, Hifi\",\"Radio, TV, Hifi\",\"Radio, TV, Hifi\",\"Radio, TV, Hifi\",\"Dept. Store,Mail\",\"Radio, TV, Hifi\",\"Furniture,Carpet\",\"Radio, TV, Hifi\",\"Cars\",\"Radio, TV, Hifi\",\"Furniture,Carpet\",\"Radio, TV, Hifi\",\"Furniture,Carpet\",\"Leisure\",\"Radio, TV, Hifi\",\"Radio, TV, Hifi\",\"Radio, TV, Hifi\",\"Cars\",\"Radio, TV, Hifi\",\"Furniture,Carpet\",\"Radio, TV, Hifi\",\"Furniture,Carpet\",\"Radio, TV, Hifi\",\"Radio, TV, Hifi\",\"Dept. Store,Mail\",\"Furniture,Carpet\",\"Radio, TV, Hifi\",\"Radio, TV, Hifi\",\"Radio, TV, Hifi\",\"Cars\",\"Radio, TV, Hifi\",\"Furniture,Carpet\",\"Radio, TV, Hifi\",\"Radio, TV, Hifi\",\"Leisure\",\"Cars\",\"Furniture,Carpet\",\"Dept. Store,Mail\",\"Leisure\",\"Radio, TV, Hifi\",\"Radio, TV, Hifi\",\"Radio, TV, Hifi\",\"Cars\",\"Furniture,Carpet\",\"Cars\",\"Radio, TV, Hifi\",\"Dept. Store,Mail\",\"Dept. Store,Mail\",\"Radio, TV, Hifi\",\"Furniture,Carpet\",\"Radio, TV, Hifi\",\"Furniture,Carpet\",\"Radio, TV, Hifi\",\"Radio, TV, Hifi\",\"Furniture,Carpet\",\"Radio, TV, Hifi\",\"Radio, TV, Hifi\",\"Furniture,Carpet\",\"Radio, TV, Hifi\",\"Radio, TV, Hifi\",\"Furniture,Carpet\",\"Radio, TV, Hifi\",\"Radio, TV, Hifi\",\"Dept. Store,Mail\",\"Furniture,Carpet\",\"Furniture,Carpet\",\"Furniture,Carpet\",\"Furniture,Carpet\",\"Furniture,Carpet\",\"Furniture,Carpet\",\"Radio, TV, Hifi\",\"Radio, TV, Hifi\",\"Furniture,Carpet\",\"Radio, TV, Hifi\",\"Radio, TV, Hifi\",\"Radio, TV, Hifi\",\"Dept. Store,Mail\",\"Leisure\",\"Dept. Store,Mail\",\"Radio, TV, Hifi\",\"Furniture,Carpet\",\"Radio, TV, Hifi\",\"Furniture,Carpet\",\"Radio, TV, Hifi\",\"Radio, TV, Hifi\",\"Furniture,Carpet\",\"Radio, TV, Hifi\",\"Furniture,Carpet\",\"Radio, TV, Hifi\",\"Cars\",\"Radio, TV, Hifi\",\"Radio, TV, Hifi\",\"Radio, TV, Hifi\",\"Radio, TV, Hifi\",\"Radio, TV, Hifi\",\"Furniture,Carpet\",\"Radio, TV, Hifi\",\"Radio, TV, Hifi\",\"Radio, TV, Hifi\",\"Furniture,Carpet\",\"Radio, TV, Hifi\",\"Dept. Store,Mail\",\"Radio, TV, Hifi\",\"Radio, TV, Hifi\",\"Furniture,Carpet\",\"Radio, TV, Hifi\",\"Furniture,Carpet\",\"Dept. Store,Mail\",\"Dept. Store,Mail\",\"Furniture,Carpet\",\"Radio, TV, Hifi\",\"Furniture,Carpet\",\"Cars\",\"Furniture,Carpet\",\"Dept. Store,Mail\",\"Radio, TV, Hifi\",\"Furniture,Carpet\",\"Furniture,Carpet\",\"Radio, TV, Hifi\",\"Cars\",\"Radio, TV, Hifi\",\"Furniture,Carpet\",\"Radio, TV, Hifi\",\"Radio, TV, Hifi\",\"Dept. Store,Mail\",\"Furniture,Carpet\",\"Radio, TV, Hifi\",\"Radio, TV, Hifi\",\"Dept. Store,Mail\",\"Dept. Store,Mail\",\"Cars\",\"Radio, TV, Hifi\",\"Radio, TV, Hifi\",\"Dept. Store,Mail\",\"Radio, TV, Hifi\",\"Radio, TV, Hifi\",\"Furniture,Carpet\",\"Radio, TV, Hifi\",\"Furniture,Carpet\",\"Dept. Store,Mail\",\"Radio, TV, Hifi\",\"Cars\",\"Dept. Store,Mail\",\"Furniture,Carpet\",\"Radio, TV, Hifi\",\"Radio, TV, Hifi\",\"Furniture,Carpet\",\"Dept. Store,Mail\",\"Cars\",\"Furniture,Carpet\",\"Furniture,Carpet\",\"Furniture,Carpet\",\"Radio, TV, Hifi\",\"Radio, TV, Hifi\",\"Radio, TV, Hifi\",\"Dept. Store,Mail\",\"Furniture,Carpet\",\"Radio, TV, Hifi\",\"Furniture,Carpet\",\"Furniture,Carpet\",\"Furniture,Carpet\",\"Cars\",\"Furniture,Carpet\",\"Radio, TV, Hifi\",\"Furniture,Carpet\",\"Radio, TV, Hifi\",\"Cars\",\"Radio, TV, Hifi\",\"Furniture,Carpet\",\"Dept. Store,Mail\",\"Dept. Store,Mail\",\"Radio, TV, Hifi\",\"Cars\",\"Radio, TV, Hifi\",\"Leisure\",\"Radio, TV, Hifi\",\"Radio, TV, Hifi\",\"Furniture,Carpet\",\"Furniture,Carpet\",\"Radio, TV, Hifi\",\"Radio, TV, Hifi\",\"Cars\",\"Leisure\",\"Radio, TV, Hifi\",\"Dept. Store,Mail\",\"Radio, TV, Hifi\",\"Radio, TV, Hifi\",\"Radio, TV, Hifi\",\"Cars\",\"Cars\",\"Leisure\",\"Furniture,Carpet\",\"Dept. Store,Mail\",\"Radio, TV, Hifi\",\"Cars\",\"Furniture,Carpet\",\"Radio, TV, Hifi\",\"Furniture,Carpet\",\"Furniture,Carpet\",\"Radio, TV, Hifi\",\"Radio, TV, Hifi\",\"Furniture,Carpet\",\"Radio, TV, Hifi\",\"Dept. Store,Mail\",\"Furniture,Carpet\",\"Radio, TV, Hifi\",\"Dept. Store,Mail\",\"Radio, TV, Hifi\",\"Radio, TV, Hifi\",\"Radio, TV, Hifi\",\"Radio, TV, Hifi\",\"Radio, TV, Hifi\",\"Dept. Store,Mail\",\"Radio, TV, Hifi\",\"Dept. Store,Mail\",\"Furniture,Carpet\",\"Dept. Store,Mail\",\"Radio, TV, Hifi\",\"Dept. Store,Mail\",\"Radio, TV, Hifi\",\"Radio, TV, Hifi\",\"Radio, TV, Hifi\",\"Radio, TV, Hifi\",\"Radio, TV, Hifi\",\"Radio, TV, Hifi\",\"Radio, TV, Hifi\",\"Radio, TV, Hifi\",\"Radio, TV, Hifi\",\"Radio, TV, Hifi\",\"Furniture,Carpet\",\"Radio, TV, Hifi\",\"Leisure\",\"Dept. Store,Mail\",\"Radio, TV, Hifi\",\"Radio, TV, Hifi\",\"Radio, TV, Hifi\",\"Radio, TV, Hifi\",\"Radio, TV, Hifi\",\"Radio, TV, Hifi\",\"Furniture,Carpet\",\"Furniture,Carpet\",\"Furniture,Carpet\",\"Furniture,Carpet\",\"Furniture,Carpet\",\"Cars\",\"Radio, TV, Hifi\",\"Furniture,Carpet\",\"Furniture,Carpet\",\"Radio, TV, Hifi\",\"Furniture,Carpet\",\"Radio, TV, Hifi\",\"Dept. Store,Mail\",\"Radio, TV, Hifi\",\"Cars\",\"Radio, TV, Hifi\",\"Furniture,Carpet\",\"Cars\",\"Furniture,Carpet\",\"Radio, TV, Hifi\",\"Radio, TV, Hifi\",\"Furniture,Carpet\",\"Radio, TV, Hifi\",\"Dept. Store,Mail\",\"Dept. Store,Mail\",\"Radio, TV, Hifi\",\"Radio, TV, Hifi\",\"Radio, TV, Hifi\",\"Radio, TV, Hifi\",\"Dept. Store,Mail\",\"Radio, TV, Hifi\",\"Radio, TV, Hifi\",\"Cars\",\"Dept. Store,Mail\",\"Dept. Store,Mail\",\"Furniture,Carpet\",\"Furniture,Carpet\",\"Furniture,Carpet\",\"Radio, TV, Hifi\",\"Radio, TV, Hifi\",\"Furniture,Carpet\",\"Leisure\",\"Radio, TV, Hifi\",\"Dept. Store,Mail\",\"Dept. Store,Mail\",\"Radio, TV, Hifi\",\"Furniture,Carpet\",\"Radio, TV, Hifi\",\"Radio, TV, Hifi\",\"Radio, TV, Hifi\",\"Radio, TV, Hifi\",\"Furniture,Carpet\",\"Radio, TV, Hifi\",\"Furniture,Carpet\",\"Furniture,Carpet\",\"Radio, TV, Hifi\",\"Cars\",\"Radio, TV, Hifi\",\"Radio, TV, Hifi\",\"Radio, TV, Hifi\",\"Cars\",\"Radio, TV, Hifi\",\"Cars\",\"Radio, TV, Hifi\",\"Furniture,Carpet\",\"Dept. Store,Mail\",\"Cars\",\"Furniture,Carpet\",\"Furniture,Carpet\",\"Radio, TV, Hifi\",\"Leisure\",\"Leisure\",\"Dept. Store,Mail\",\"Radio, TV, Hifi\",\"Radio, TV, Hifi\",\"Furniture,Carpet\",\"Radio, TV, Hifi\",\"Radio, TV, Hifi\",\"Furniture,Carpet\",\"Furniture,Carpet\",\"Furniture,Carpet\",\"Radio, TV, Hifi\",\"Furniture,Carpet\",\"Radio, TV, Hifi\",\"Radio, TV, Hifi\",\"Furniture,Carpet\",\"Radio, TV, Hifi\",\"Furniture,Carpet\",\"Dept. Store,Mail\",\"Radio, TV, Hifi\",\"Furniture,Carpet\",\"Radio, TV, Hifi\",\"Dept. Store,Mail\",\"Radio, TV, Hifi\",\"Radio, TV, Hifi\",\"Dept. Store,Mail\",\"Radio, TV, Hifi\",\"Radio, TV, Hifi\",\"Radio, TV, Hifi\",\"Furniture,Carpet\",\"Furniture,Carpet\",\"Dept. Store,Mail\",\"Dept. Store,Mail\",\"Furniture,Carpet\",\"Cars\",\"Radio, TV, Hifi\",\"Radio, TV, Hifi\",\"Radio, TV, Hifi\",\"Radio, TV, Hifi\",\"Furniture,Carpet\",\"Radio, TV, Hifi\",\"Furniture,Carpet\",\"Radio, TV, Hifi\",\"Radio, TV, Hifi\",\"Radio, TV, Hifi\",\"Furniture,Carpet\",\"Dept. Store,Mail\",\"Cars\",\"Radio, TV, Hifi\",\"Dept. Store,Mail\",\"Dept. Store,Mail\",\"Radio, TV, Hifi\",\"Dept. Store,Mail\",\"Radio, TV, Hifi\",\"Radio, TV, Hifi\",\"Furniture,Carpet\",\"Radio, TV, Hifi\",\"Radio, TV, Hifi\",\"Furniture,Carpet\",\"Radio, TV, Hifi\",\"Radio, TV, Hifi\",\"Dept. Store,Mail\",\"Radio, TV, Hifi\",\"Radio, TV, Hifi\",\"Furniture,Carpet\",\"Radio, TV, Hifi\",\"Furniture,Carpet\",\"Radio, TV, Hifi\",\"Cars\",\"Furniture,Carpet\",\"Radio, TV, Hifi\",\"Furniture,Carpet\",\"Radio, TV, Hifi\",\"Radio, TV, Hifi\",\"Radio, TV, Hifi\",\"Radio, TV, Hifi\",\"Dept. Store,Mail\",\"Cars\",\"Furniture,Carpet\",\"Cars\",\"Radio, TV, Hifi\",\"Dept. Store,Mail\",\"Cars\",\"Radio, TV, Hifi\",\"Radio, TV, Hifi\",\"Radio, TV, Hifi\",\"Radio, TV, Hifi\",\"Radio, TV, Hifi\",\"Radio, TV, Hifi\",\"Furniture,Carpet\",\"Radio, TV, Hifi\",\"Radio, TV, Hifi\",\"Radio, TV, Hifi\",\"Radio, TV, Hifi\",\"Radio, TV, Hifi\",\"Radio, TV, Hifi\",\"Dept. Store,Mail\",\"Furniture,Carpet\",\"Radio, TV, Hifi\",\"Furniture,Carpet\",\"Furniture,Carpet\",\"Radio, TV, Hifi\",\"Radio, TV, Hifi\",\"Radio, TV, Hifi\",\"Radio, TV, Hifi\",\"Radio, TV, Hifi\",\"Cars\",\"Furniture,Carpet\",\"Radio, TV, Hifi\",\"Radio, TV, Hifi\",\"Dept. Store,Mail\",\"Dept. Store,Mail\",\"Radio, TV, Hifi\",\"Radio, TV, Hifi\",\"Radio, TV, Hifi\",\"Radio, TV, Hifi\",\"Radio, TV, Hifi\",\"Furniture,Carpet\",\"Furniture,Carpet\",\"Radio, TV, Hifi\",\"Radio, TV, Hifi\",\"Radio, TV, Hifi\",\"Radio, TV, Hifi\",\"Radio, TV, Hifi\",\"Furniture,Carpet\",\"Radio, TV, Hifi\",\"Radio, TV, Hifi\",\"Furniture,Carpet\",\"Radio, TV, Hifi\",\"Dept. Store,Mail\",\"Dept. Store,Mail\",\"Furniture,Carpet\",\"Dept. Store,Mail\",\"Dept. Store,Mail\",\"Cars\",\"Radio, TV, Hifi\",\"Radio, TV, Hifi\",\"Radio, TV, Hifi\",\"Radio, TV, Hifi\",\"Dept. Store,Mail\",\"Cars\",\"Radio, TV, Hifi\",\"Radio, TV, Hifi\",\"Radio, TV, Hifi\",\"Dept. Store,Mail\",\"Radio, TV, Hifi\",\"Furniture,Carpet\",\"Furniture,Carpet\",\"Furniture,Carpet\",\"Radio, TV, Hifi\",\"Radio, TV, Hifi\",\"Furniture,Carpet\",\"Dept. Store,Mail\",\"Radio, TV, Hifi\",\"Radio, TV, Hifi\",\"Furniture,Carpet\",\"Furniture,Carpet\",\"Radio, TV, Hifi\",\"Radio, TV, Hifi\",\"Radio, TV, Hifi\",\"Radio, TV, Hifi\",\"Radio, TV, Hifi\",\"Furniture,Carpet\",\"Dept. Store,Mail\",\"Radio, TV, Hifi\",\"Radio, TV, Hifi\",\"Dept. Store,Mail\",\"Leisure\",\"Dept. Store,Mail\",\"Furniture,Carpet\",\"Dept. Store,Mail\",\"Radio, TV, Hifi\",\"Dept. Store,Mail\",\"Radio, TV, Hifi\",\"Radio, TV, Hifi\",\"Radio, TV, Hifi\",\"Radio, TV, Hifi\",\"Radio, TV, Hifi\",\"Furniture,Carpet\",\"Cars\",\"Radio, TV, Hifi\",\"Radio, TV, Hifi\",\"Cars\",\"Radio, TV, Hifi\",\"Cars\",\"Furniture,Carpet\",\"Radio, TV, Hifi\",\"Radio, TV, Hifi\",\"Radio, TV, Hifi\",\"Radio, TV, Hifi\",\"Radio, TV, Hifi\",\"Radio, TV, Hifi\",\"Dept. Store,Mail\",\"Radio, TV, Hifi\",\"Radio, TV, Hifi\",\"Radio, TV, Hifi\",\"Radio, TV, Hifi\",\"Dept. Store,Mail\",\"Cars\",\"Radio, TV, Hifi\",\"Radio, TV, Hifi\",\"Dept. Store,Mail\",\"Radio, TV, Hifi\",\"Radio, TV, Hifi\",\"Radio, TV, Hifi\",\"Furniture,Carpet\",\"Dept. Store,Mail\",\"Leisure\",\"Dept. Store,Mail\",\"Dept. Store,Mail\",\"Radio, TV, Hifi\",\"Radio, TV, Hifi\",\"Radio, TV, Hifi\",\"Radio, TV, Hifi\",\"Furniture,Carpet\",\"Furniture,Carpet\",\"Radio, TV, Hifi\",\"Radio, TV, Hifi\",\"Leisure\",\"Furniture,Carpet\",\"Radio, TV, Hifi\",\"Radio, TV, Hifi\",\"Radio, TV, Hifi\",\"Radio, TV, Hifi\",\"Dept. Store,Mail\",\"Dept. Store,Mail\",\"Radio, TV, Hifi\",\"Furniture,Carpet\",\"Radio, TV, Hifi\",\"Radio, TV, Hifi\",\"Furniture,Carpet\",\"Radio, TV, Hifi\",\"Radio, TV, Hifi\",\"Radio, TV, Hifi\",\"Dept. Store,Mail\",\"Dept. Store,Mail\",\"Cars\",\"Cars\",\"Radio, TV, Hifi\",\"Radio, TV, Hifi\",\"Cars\",\"Dept. Store,Mail\",\"Furniture,Carpet\",\"Radio, TV, Hifi\",\"Cars\",\"Radio, TV, Hifi\",\"Radio, TV, Hifi\",\"Dept. Store,Mail\",\"Radio, TV, Hifi\",\"Furniture,Carpet\",\"Radio, TV, Hifi\",\"Radio, TV, Hifi\",\"Radio, TV, Hifi\",\"Leisure\",\"Furniture,Carpet\",\"Radio, TV, Hifi\",\"Radio, TV, Hifi\",\"Radio, TV, Hifi\",\"Furniture,Carpet\",\"Radio, TV, Hifi\",\"Radio, TV, Hifi\",\"Furniture,Carpet\",\"Dept. Store,Mail\",\"Dept. Store,Mail\",\"Furniture,Carpet\",\"Radio, TV, Hifi\",\"Cars\",\"Radio, TV, Hifi\",\"Radio, TV, Hifi\",\"Radio, TV, Hifi\",\"Furniture,Carpet\",\"Radio, TV, Hifi\",\"Cars\",\"Radio, TV, Hifi\",\"Radio, TV, Hifi\",\"Furniture,Carpet\",\"Cars\",\"Furniture,Carpet\",\"Radio, TV, Hifi\",\"Furniture,Carpet\",\"Radio, TV, Hifi\",\"Dept. Store,Mail\",\"Radio, TV, Hifi\",\"Radio, TV, Hifi\",\"Cars\",\"Radio, TV, Hifi\",\"Radio, TV, Hifi\",\"Radio, TV, Hifi\",\"Furniture,Carpet\",\"Furniture,Carpet\",\"Radio, TV, Hifi\",\"Dept. Store,Mail\",\"Radio, TV, Hifi\",\"Furniture,Carpet\",\"Furniture,Carpet\",\"Radio, TV, Hifi\",\"Dept. Store,Mail\",\"Radio, TV, Hifi\",\"Radio, TV, Hifi\",\"Furniture,Carpet\",\"Dept. Store,Mail\",\"Radio, TV, Hifi\",\"Furniture,Carpet\",\"Radio, TV, Hifi\",\"Radio, TV, Hifi\",\"Furniture,Carpet\",\"Furniture,Carpet\",\"Radio, TV, Hifi\",\"Furniture,Carpet\",\"Leisure\",\"Radio, TV, Hifi\",\"Leisure\",\"Radio, TV, Hifi\",\"Radio, TV, Hifi\",\"Radio, TV, Hifi\",\"Radio, TV, Hifi\",\"Furniture,Carpet\",\"Radio, TV, Hifi\",\"Leisure\",\"Radio, TV, Hifi\",\"Cars\",\"Dept. Store,Mail\",\"Furniture,Carpet\",\"Radio, TV, Hifi\",\"Furniture,Carpet\",\"Furniture,Carpet\",\"Radio, TV, Hifi\",\"Radio, TV, Hifi\",\"Furniture,Carpet\",\"Radio, TV, Hifi\",\"Furniture,Carpet\",\"Furniture,Carpet\",\"Furniture,Carpet\",\"Radio, TV, Hifi\",\"Dept. Store,Mail\",\"Radio, TV, Hifi\",\"Dept. Store,Mail\",\"Radio, TV, Hifi\",\"Radio, TV, Hifi\",\"Dept. Store,Mail\",\"Furniture,Carpet\",\"Furniture,Carpet\",\"Furniture,Carpet\",\"Radio, TV, Hifi\",\"Furniture,Carpet\",\"Furniture,Carpet\",\"Radio, TV, Hifi\",\"Dept. Store,Mail\",\"Radio, TV, Hifi\",\"Radio, TV, Hifi\",\"Radio, TV, Hifi\",\"Furniture,Carpet\",\"Radio, TV, Hifi\",\"Dept. Store,Mail\",\"Dept. Store,Mail\",\"Dept. Store,Mail\",\"Furniture,Carpet\",\"Radio, TV, Hifi\",\"Radio, TV, Hifi\",\"Radio, TV, Hifi\",\"Radio, TV, Hifi\",\"Furniture,Carpet\",\"Furniture,Carpet\",\"Radio, TV, Hifi\",\"Radio, TV, Hifi\",\"Radio, TV, Hifi\",\"Radio, TV, Hifi\",\"Furniture,Carpet\",\"Furniture,Carpet\",\"Radio, TV, Hifi\",\"Cars\",\"Cars\",\"Radio, TV, Hifi\",\"Dept. Store,Mail\",\"Dept. Store,Mail\",\"Furniture,Carpet\",\"Radio, TV, Hifi\",\"Radio, TV, Hifi\",\"Furniture,Carpet\",\"Radio, TV, Hifi\",\"Leisure\",\"Radio, TV, Hifi\",\"Radio, TV, Hifi\",\"Radio, TV, Hifi\",\"Radio, TV, Hifi\",\"Furniture,Carpet\",\"Dept. Store,Mail\",\"Dept. Store,Mail\",\"Leisure\",\"Dept. Store,Mail\",\"Furniture,Carpet\",\"Radio, TV, Hifi\",\"Radio, TV, Hifi\",\"Radio, TV, Hifi\",\"Dept. Store,Mail\",\"Radio, TV, Hifi\",\"Furniture,Carpet\",\"Radio, TV, Hifi\",\"Furniture,Carpet\",\"Furniture,Carpet\",\"Dept. Store,Mail\",\"Furniture,Carpet\",\"Radio, TV, Hifi\",\"Radio, TV, Hifi\",\"Radio, TV, Hifi\",\"Radio, TV, Hifi\",\"Radio, TV, Hifi\",\"Furniture,Carpet\",\"Furniture,Carpet\",\"Radio, TV, Hifi\",\"Furniture,Carpet\",\"Dept. Store,Mail\",\"Radio, TV, Hifi\",\"Cars\",\"Furniture,Carpet\",\"Radio, TV, Hifi\",\"Furniture,Carpet\",\"Furniture,Carpet\",\"Furniture,Carpet\",\"Furniture,Carpet\",\"Radio, TV, Hifi\",\"Cars\",\"Dept. Store,Mail\",\"Radio, TV, Hifi\",\"Furniture,Carpet\",\"Radio, TV, Hifi\",\"Furniture,Carpet\",\"Furniture,Carpet\",\"Furniture,Carpet\",\"Furniture,Carpet\",\"Radio, TV, Hifi\",\"Radio, TV, Hifi\",\"Radio, TV, Hifi\",\"Furniture,Carpet\",\"Radio, TV, Hifi\",\"Radio, TV, Hifi\",\"Furniture,Carpet\",\"Cars\",\"Radio, TV, Hifi\",\"Dept. Store,Mail\",\"Radio, TV, Hifi\",\"Radio, TV, Hifi\",\"Radio, TV, Hifi\",\"Radio, TV, Hifi\",\"Radio, TV, Hifi\",\"Cars\",\"Radio, TV, Hifi\",\"Furniture,Carpet\",\"Furniture,Carpet\",\"Radio, TV, Hifi\",\"Furniture,Carpet\",\"Furniture,Carpet\",\"Dept. Store,Mail\",\"Leisure\",\"Radio, TV, Hifi\",\"Radio, TV, Hifi\",\"Furniture,Carpet\",\"Radio, TV, Hifi\",\"Radio, TV, Hifi\",\"Furniture,Carpet\",\"Cars\",\"Furniture,Carpet\",\"Furniture,Carpet\",\"Radio, TV, Hifi\",\"Radio, TV, Hifi\",\"Radio, TV, Hifi\",\"Radio, TV, Hifi\",\"Radio, TV, Hifi\",\"Radio, TV, Hifi\",\"Furniture,Carpet\",\"Dept. Store,Mail\",\"Furniture,Carpet\",\"Furniture,Carpet\",\"Radio, TV, Hifi\",\"Furniture,Carpet\",\"Radio, TV, Hifi\",\"Radio, TV, Hifi\",\"Radio, TV, Hifi\",\"Radio, TV, Hifi\",\"Radio, TV, Hifi\",\"Furniture,Carpet\",\"Dept. Store,Mail\",\"Furniture,Carpet\",\"Radio, TV, Hifi\",\"Radio, TV, Hifi\",\"Radio, TV, Hifi\",\"Cars\",\"Radio, TV, Hifi\",\"Radio, TV, Hifi\",\"Furniture,Carpet\",\"Dept. Store,Mail\",\"Radio, TV, Hifi\",\"Radio, TV, Hifi\",\"Radio, TV, Hifi\",\"Furniture,Carpet\",\"Radio, TV, Hifi\",\"Radio, TV, Hifi\",\"Radio, TV, Hifi\",\"Radio, TV, Hifi\",\"Radio, TV, Hifi\",\"Cars\",\"Radio, TV, Hifi\",\"Cars\",\"Radio, TV, Hifi\",\"Dept. Store,Mail\",\"Dept. Store,Mail\",\"Radio, TV, Hifi\",\"Dept. Store,Mail\",\"Radio, TV, Hifi\",\"Furniture,Carpet\",\"Radio, TV, Hifi\",\"Furniture,Carpet\",\"Radio, TV, Hifi\",\"Cars\",\"Furniture,Carpet\",\"Furniture,Carpet\",\"Furniture,Carpet\",\"Radio, TV, Hifi\",\"Dept. Store,Mail\",\"Dept. Store,Mail\",\"Radio, TV, Hifi\",\"Furniture,Carpet\",\"Furniture,Carpet\",\"Radio, TV, Hifi\",\"Furniture,Carpet\",\"Cars\",\"Cars\",\"Radio, TV, Hifi\",\"Furniture,Carpet\",\"Furniture,Carpet\",\"Radio, TV, Hifi\",\"Radio, TV, Hifi\",\"Leisure\",\"Radio, TV, Hifi\",\"Radio, TV, Hifi\",\"Furniture,Carpet\",\"Radio, TV, Hifi\",\"Radio, TV, Hifi\",\"Dept. Store,Mail\",\"Radio, TV, Hifi\",\"Leisure\",\"Radio, TV, Hifi\",\"Furniture,Carpet\",\"Dept. Store,Mail\",\"Radio, TV, Hifi\",\"Radio, TV, Hifi\",\"Furniture,Carpet\",\"Radio, TV, Hifi\",\"Cars\",\"Furniture,Carpet\",\"Radio, TV, Hifi\",\"Furniture,Carpet\",\"Dept. Store,Mail\",\"Radio, TV, Hifi\",\"Radio, TV, Hifi\",\"Radio, TV, Hifi\",\"Furniture,Carpet\",\"Furniture,Carpet\",\"Dept. Store,Mail\",\"Radio, TV, Hifi\",\"Furniture,Carpet\",\"Radio, TV, Hifi\",\"Radio, TV, Hifi\",\"Dept. Store,Mail\",\"Radio, TV, Hifi\",\"Furniture,Carpet\",\"Radio, TV, Hifi\",\"Radio, TV, Hifi\",\"Cars\",\"Cars\",\"Radio, TV, Hifi\",\"Cars\",\"Furniture,Carpet\",\"Cars\",\"Radio, TV, Hifi\",\"Furniture,Carpet\",\"Leisure\",\"Radio, TV, Hifi\",\"Radio, TV, Hifi\",\"Radio, TV, Hifi\",\"Radio, TV, Hifi\",\"Furniture,Carpet\",\"Radio, TV, Hifi\",\"Radio, TV, Hifi\",\"Leisure\",\"Radio, TV, Hifi\",\"Radio, TV, Hifi\",\"Furniture,Carpet\",\"Radio, TV, Hifi\",\"Dept. Store,Mail\",\"Radio, TV, Hifi\",\"Radio, TV, Hifi\",\"Furniture,Carpet\",\"Dept. Store,Mail\",\"Radio, TV, Hifi\",\"Radio, TV, Hifi\",\"Radio, TV, Hifi\",\"Furniture,Carpet\",\"Radio, TV, Hifi\",\"Radio, TV, Hifi\",\"Radio, TV, Hifi\",\"Dept. Store,Mail\",\"Radio, TV, Hifi\",\"Furniture,Carpet\",\"Radio, TV, Hifi\",\"Furniture,Carpet\",\"Radio, TV, Hifi\",\"Radio, TV, Hifi\",\"Dept. Store,Mail\",\"Furniture,Carpet\",\"Radio, TV, Hifi\",\"Furniture,Carpet\",\"Radio, TV, Hifi\",\"Furniture,Carpet\",\"Radio, TV, Hifi\",\"Radio, TV, Hifi\",\"Furniture,Carpet\",\"Radio, TV, Hifi\",\"Cars\",\"Cars\",\"Furniture,Carpet\",\"Furniture,Carpet\",\"Radio, TV, Hifi\",\"Radio, TV, Hifi\",\"Radio, TV, Hifi\",\"Furniture,Carpet\",\"Leisure\",\"Radio, TV, Hifi\",\"Furniture,Carpet\",\"Radio, TV, Hifi\",\"Furniture,Carpet\",\"Furniture,Carpet\",\"Radio, TV, Hifi\",\"Cars\",\"Cars\",\"Furniture,Carpet\",\"Dept. Store,Mail\",\"Radio, TV, Hifi\",\"Cars\",\"Radio, TV, Hifi\",\"Furniture,Carpet\",\"Radio, TV, Hifi\",\"Radio, TV, Hifi\",\"Furniture,Carpet\",\"Radio, TV, Hifi\",\"Furniture,Carpet\",\"Furniture,Carpet\",\"Dept. Store,Mail\",\"Furniture,Carpet\",\"Radio, TV, Hifi\",\"Radio, TV, Hifi\",\"Radio, TV, Hifi\",\"Furniture,Carpet\",\"Radio, TV, Hifi\",\"Furniture,Carpet\",\"Radio, TV, Hifi\",\"Furniture,Carpet\",\"Radio, TV, Hifi\",\"Radio, TV, Hifi\",\"Furniture,Carpet\",\"Radio, TV, Hifi\",\"Leisure\",\"Radio, TV, Hifi\",\"Radio, TV, Hifi\",\"Furniture,Carpet\",\"Radio, TV, Hifi\",\"Radio, TV, Hifi\",\"Radio, TV, Hifi\",\"Radio, TV, Hifi\",\"Radio, TV, Hifi\",\"Radio, TV, Hifi\",\"Furniture,Carpet\",\"Cars\",\"Furniture,Carpet\",\"Furniture,Carpet\",\"Radio, TV, Hifi\",\"Radio, TV, Hifi\",\"Furniture,Carpet\",\"Furniture,Carpet\",\"Radio, TV, Hifi\",\"Dept. Store,Mail\",\"Dept. Store,Mail\",\"Furniture,Carpet\",\"Furniture,Carpet\",\"Furniture,Carpet\",\"Radio, TV, Hifi\",\"Radio, TV, Hifi\",\"Radio, TV, Hifi\",\"Dept. Store,Mail\",\"Dept. Store,Mail\",\"Cars\",\"Radio, TV, Hifi\",\"Radio, TV, Hifi\",\"Radio, TV, Hifi\",\"Furniture,Carpet\",\"Radio, TV, Hifi\",\"Radio, TV, Hifi\",\"Dept. Store,Mail\",\"Furniture,Carpet\",\"Radio, TV, Hifi\",\"Radio, TV, Hifi\",\"Furniture,Carpet\",\"Dept. Store,Mail\",\"Radio, TV, Hifi\",\"Furniture,Carpet\",\"Radio, TV, Hifi\",\"Furniture,Carpet\",\"Furniture,Carpet\",\"Radio, TV, Hifi\",\"Radio, TV, Hifi\",\"Radio, TV, Hifi\",\"Furniture,Carpet\",\"Leisure\",\"Radio, TV, Hifi\",\"Radio, TV, Hifi\",\"Radio, TV, Hifi\",\"Radio, TV, Hifi\",\"Radio, TV, Hifi\",\"Furniture,Carpet\",\"Radio, TV, Hifi\",\"Radio, TV, Hifi\",\"Dept. Store,Mail\",\"Dept. Store,Mail\",\"Radio, TV, Hifi\",\"Dept. Store,Mail\",\"Furniture,Carpet\",\"Radio, TV, Hifi\",\"Radio, TV, Hifi\",\"Radio, TV, Hifi\",\"Radio, TV, Hifi\",\"Radio, TV, Hifi\",\"Radio, TV, Hifi\",\"Dept. Store,Mail\",\"Furniture,Carpet\",\"Radio, TV, Hifi\",\"Cars\",\"Radio, TV, Hifi\",\"Furniture,Carpet\",\"Radio, TV, Hifi\",\"Furniture,Carpet\",\"Furniture,Carpet\",\"Radio, TV, Hifi\",\"Dept. Store,Mail\",\"Furniture,Carpet\",\"Radio, TV, Hifi\",\"Radio, TV, Hifi\",\"Furniture,Carpet\",\"Radio, TV, Hifi\",\"Furniture,Carpet\",\"Furniture,Carpet\",\"Radio, TV, Hifi\",\"Cars\",\"Radio, TV, Hifi\",\"Radio, TV, Hifi\",\"Furniture,Carpet\",\"Cars\",\"Furniture,Carpet\",\"Furniture,Carpet\",\"Furniture,Carpet\",\"Furniture,Carpet\",\"Dept. Store,Mail\",\"Dept. Store,Mail\",\"Furniture,Carpet\",\"Furniture,Carpet\",\"Cars\",\"Furniture,Carpet\",\"Furniture,Carpet\",\"Radio, TV, Hifi\",\"Radio, TV, Hifi\",\"Radio, TV, Hifi\",\"Radio, TV, Hifi\",\"Furniture,Carpet\",\"Dept. Store,Mail\",\"Furniture,Carpet\",\"Radio, TV, Hifi\",\"Radio, TV, Hifi\",\"Furniture,Carpet\",\"Dept. Store,Mail\",\"Radio, TV, Hifi\",\"Radio, TV, Hifi\",\"Radio, TV, Hifi\",\"Cars\",\"Furniture,Carpet\",\"Radio, TV, Hifi\",\"Radio, TV, Hifi\",\"Dept. Store,Mail\",\"Radio, TV, Hifi\",\"Radio, TV, Hifi\",\"Furniture,Carpet\",\"Furniture,Carpet\",\"Furniture,Carpet\",\"Furniture,Carpet\",\"Radio, TV, Hifi\",\"Dept. Store,Mail\",\"Radio, TV, Hifi\",\"Radio, TV, Hifi\",\"Radio, TV, Hifi\",\"Radio, TV, Hifi\",\"Radio, TV, Hifi\",\"Radio, TV, Hifi\",\"Cars\",\"Radio, TV, Hifi\",\"Radio, TV, Hifi\",\"Radio, TV, Hifi\",\"Cars\",\"Furniture,Carpet\",\"Furniture,Carpet\",\"Radio, TV, Hifi\",\"Radio, TV, Hifi\",\"Radio, TV, Hifi\",\"Radio, TV, Hifi\",\"Radio, TV, Hifi\",\"Radio, TV, Hifi\",\"Furniture,Carpet\",\"Furniture,Carpet\",\"Cars\",\"Radio, TV, Hifi\",\"Radio, TV, Hifi\",\"Furniture,Carpet\",\"Furniture,Carpet\",\"Dept. Store,Mail\",\"Radio, TV, Hifi\",\"Radio, TV, Hifi\",\"Cars\",\"Cars\",\"Furniture,Carpet\",\"Radio, TV, Hifi\",\"Radio, TV, Hifi\",\"Furniture,Carpet\",\"Radio, TV, Hifi\",\"Furniture,Carpet\",\"Dept. Store,Mail\",\"Dept. Store,Mail\",\"Radio, TV, Hifi\",\"Radio, TV, Hifi\",\"Furniture,Carpet\",\"Furniture,Carpet\",\"Furniture,Carpet\",\"Dept. Store,Mail\",\"Radio, TV, Hifi\",\"Radio, TV, Hifi\",\"Radio, TV, Hifi\",\"Dept. Store,Mail\",\"Furniture,Carpet\",\"Furniture,Carpet\",\"Radio, TV, Hifi\",\"Radio, TV, Hifi\",\"Radio, TV, Hifi\",\"Dept. Store,Mail\",\"Leisure\",\"Radio, TV, Hifi\",\"Radio, TV, Hifi\",\"Dept. Store,Mail\",\"Furniture,Carpet\",\"Radio, TV, Hifi\",\"Radio, TV, Hifi\",\"Cars\",\"Radio, TV, Hifi\",\"Radio, TV, Hifi\",\"Radio, TV, Hifi\",\"Radio, TV, Hifi\",\"Radio, TV, Hifi\",\"Furniture,Carpet\",\"Cars\",\"Cars\",\"Furniture,Carpet\",\"Furniture,Carpet\",\"Radio, TV, Hifi\",\"Furniture,Carpet\",\"Radio, TV, Hifi\",\"Dept. Store,Mail\",\"Radio, TV, Hifi\",\"Radio, TV, Hifi\",\"Furniture,Carpet\",\"Leisure\",\"Dept. Store,Mail\",\"Furniture,Carpet\",\"Radio, TV, Hifi\",\"Radio, TV, Hifi\",\"Radio, TV, Hifi\",\"Furniture,Carpet\",\"Cars\",\"Furniture,Carpet\",\"Dept. Store,Mail\",\"Dept. Store,Mail\",\"Furniture,Carpet\",\"Dept. Store,Mail\",\"Radio, TV, Hifi\",\"Furniture,Carpet\",\"Furniture,Carpet\",\"Radio, TV, Hifi\",\"Radio, TV, Hifi\",\"Furniture,Carpet\",\"Dept. Store,Mail\",\"Radio, TV, Hifi\",\"Furniture,Carpet\",\"Radio, TV, Hifi\",\"Radio, TV, Hifi\",\"Radio, TV, Hifi\",\"Furniture,Carpet\",\"Dept. Store,Mail\",\"Radio, TV, Hifi\",\"Cars\",\"Radio, TV, Hifi\",\"Radio, TV, Hifi\",\"Radio, TV, Hifi\",\"Leisure\",\"Radio, TV, Hifi\",\"Radio, TV, Hifi\",\"Radio, TV, Hifi\",\"Radio, TV, Hifi\",\"Radio, TV, Hifi\",\"Radio, TV, Hifi\",\"Radio, TV, Hifi\",\"Dept. Store,Mail\",\"Radio, TV, Hifi\",\"Cars\",\"Dept. Store,Mail\",\"Furniture,Carpet\",\"Furniture,Carpet\",\"Leisure\",\"Radio, TV, Hifi\",\"Radio, TV, Hifi\",\"Radio, TV, Hifi\",\"Furniture,Carpet\",\"Furniture,Carpet\",\"Furniture,Carpet\",\"Dept. Store,Mail\",\"Radio, TV, Hifi\",\"Furniture,Carpet\",\"Radio, TV, Hifi\",\"Furniture,Carpet\",\"Radio, TV, Hifi\",\"Furniture,Carpet\",\"Leisure\",\"Radio, TV, Hifi\",\"Furniture,Carpet\",\"Radio, TV, Hifi\",\"Radio, TV, Hifi\",\"Furniture,Carpet\",\"Radio, TV, Hifi\",\"Cars\",\"Radio, TV, Hifi\",\"Furniture,Carpet\",\"Dept. Store,Mail\",\"Furniture,Carpet\",\"Furniture,Carpet\",\"Dept. Store,Mail\",\"Dept. Store,Mail\",\"Radio, TV, Hifi\",\"Radio, TV, Hifi\",\"Furniture,Carpet\",\"Furniture,Carpet\",\"Radio, TV, Hifi\",\"Dept. Store,Mail\",\"Dept. Store,Mail\",\"Radio, TV, Hifi\",\"Furniture,Carpet\",\"Furniture,Carpet\",\"Radio, TV, Hifi\",\"Furniture,Carpet\",\"Radio, TV, Hifi\",\"Radio, TV, Hifi\",\"Cars\",\"Radio, TV, Hifi\",\"Furniture,Carpet\",\"Radio, TV, Hifi\",\"Furniture,Carpet\",\"Dept. Store,Mail\",\"Radio, TV, Hifi\",\"Radio, TV, Hifi\",\"Furniture,Carpet\",\"Radio, TV, Hifi\",\"Radio, TV, Hifi\",\"Radio, TV, Hifi\",\"Dept. Store,Mail\",\"Radio, TV, Hifi\",\"Radio, TV, Hifi\",\"Radio, TV, Hifi\",\"Furniture,Carpet\",\"Furniture,Carpet\",\"Dept. Store,Mail\",\"Radio, TV, Hifi\",\"Radio, TV, Hifi\",\"Radio, TV, Hifi\",\"Radio, TV, Hifi\",\"Radio, TV, Hifi\",\"Radio, TV, Hifi\",\"Furniture,Carpet\",\"Furniture,Carpet\",\"Radio, TV, Hifi\",\"Furniture,Carpet\",\"Radio, TV, Hifi\",\"Radio, TV, Hifi\",\"Radio, TV, Hifi\",\"Radio, TV, Hifi\",\"Radio, TV, Hifi\",\"Cars\",\"Radio, TV, Hifi\",\"Radio, TV, Hifi\",\"Radio, TV, Hifi\",\"Radio, TV, Hifi\",\"Dept. Store,Mail\",\"Furniture,Carpet\",\"Cars\",\"Radio, TV, Hifi\",\"Furniture,Carpet\",\"Furniture,Carpet\",\"Radio, TV, Hifi\",\"Radio, TV, Hifi\",\"Radio, TV, Hifi\",\"Dept. Store,Mail\",\"Furniture,Carpet\",\"Radio, TV, Hifi\",\"Dept. Store,Mail\",\"Furniture,Carpet\",\"Dept. Store,Mail\",\"Radio, TV, Hifi\",\"Radio, TV, Hifi\",\"Dept. Store,Mail\",\"Furniture,Carpet\",\"Radio, TV, Hifi\",\"Radio, TV, Hifi\",\"Furniture,Carpet\",\"Dept. Store,Mail\",\"Radio, TV, Hifi\",\"Dept. Store,Mail\",\"Dept. Store,Mail\",\"Dept. Store,Mail\",\"Furniture,Carpet\",\"Radio, TV, Hifi\",\"Furniture,Carpet\",\"Radio, TV, Hifi\",\"Furniture,Carpet\",\"Radio, TV, Hifi\",\"Dept. Store,Mail\",\"Radio, TV, Hifi\",\"Radio, TV, Hifi\",\"Radio, TV, Hifi\",\"Furniture,Carpet\",\"Radio, TV, Hifi\",\"Cars\",\"Radio, TV, Hifi\",\"Radio, TV, Hifi\",\"Cars\",\"Furniture,Carpet\",\"Radio, TV, Hifi\",\"Radio, TV, Hifi\",\"Dept. Store,Mail\",\"Radio, TV, Hifi\",\"Radio, TV, Hifi\",\"Radio, TV, Hifi\",\"Furniture,Carpet\",\"Radio, TV, Hifi\",\"Dept. Store,Mail\",\"Radio, TV, Hifi\",\"Radio, TV, Hifi\",\"Radio, TV, Hifi\",\"Radio, TV, Hifi\",\"Radio, TV, Hifi\",\"Radio, TV, Hifi\",\"Radio, TV, Hifi\",\"Furniture,Carpet\",\"Radio, TV, Hifi\",\"Furniture,Carpet\",\"Radio, TV, Hifi\",\"Radio, TV, Hifi\",\"Radio, TV, Hifi\",\"Furniture,Carpet\",\"Radio, TV, Hifi\",\"Radio, TV, Hifi\",\"Cars\",\"Radio, TV, Hifi\",\"Radio, TV, Hifi\",\"Dept. Store,Mail\",\"Radio, TV, Hifi\",\"Radio, TV, Hifi\",\"Radio, TV, Hifi\",\"Dept. Store,Mail\",\"Radio, TV, Hifi\",\"Radio, TV, Hifi\",\"Radio, TV, Hifi\",\"Cars\",\"Dept. Store,Mail\",\"Radio, TV, Hifi\",\"Radio, TV, Hifi\",\"Cars\",\"Furniture,Carpet\",\"Radio, TV, Hifi\",\"Radio, TV, Hifi\",\"Radio, TV, Hifi\",\"Radio, TV, Hifi\",\"Dept. Store,Mail\",\"Radio, TV, Hifi\",\"Dept. Store,Mail\",\"Radio, TV, Hifi\",\"Radio, TV, Hifi\",\"Radio, TV, Hifi\",\"Radio, TV, Hifi\",\"Furniture,Carpet\",\"Radio, TV, Hifi\",\"Furniture,Carpet\",\"Radio, TV, Hifi\",\"Radio, TV, Hifi\",\"Radio, TV, Hifi\",\"Radio, TV, Hifi\",\"Furniture,Carpet\",\"Radio, TV, Hifi\",\"Furniture,Carpet\",\"Dept. Store,Mail\",\"Radio, TV, Hifi\",\"Furniture,Carpet\",\"Furniture,Carpet\",\"Furniture,Carpet\",\"Radio, TV, Hifi\",\"Radio, TV, Hifi\",\"Radio, TV, Hifi\",\"Radio, TV, Hifi\",\"Radio, TV, Hifi\",\"Cars\",\"Radio, TV, Hifi\",\"Cars\",\"Radio, TV, Hifi\",\"Radio, TV, Hifi\",\"Radio, TV, Hifi\",\"Furniture,Carpet\",\"Radio, TV, Hifi\",\"Dept. Store,Mail\",\"Radio, TV, Hifi\",\"Radio, TV, Hifi\",\"Dept. Store,Mail\",\"Radio, TV, Hifi\",\"Radio, TV, Hifi\",\"Radio, TV, Hifi\",\"Radio, TV, Hifi\",\"Furniture,Carpet\",\"Radio, TV, Hifi\",\"Radio, TV, Hifi\",\"Radio, TV, Hifi\",\"Dept. Store,Mail\",\"Radio, TV, Hifi\",\"Furniture,Carpet\",\"Radio, TV, Hifi\",\"Radio, TV, Hifi\",\"Dept. Store,Mail\",\"Radio, TV, Hifi\",\"Dept. Store,Mail\",\"Radio, TV, Hifi\",\"Dept. Store,Mail\",\"Furniture,Carpet\",\"Radio, TV, Hifi\",\"Furniture,Carpet\",\"Radio, TV, Hifi\",\"Radio, TV, Hifi\",\"Radio, TV, Hifi\",\"Furniture,Carpet\",\"Radio, TV, Hifi\",\"Radio, TV, Hifi\",\"Radio, TV, Hifi\",\"Radio, TV, Hifi\",\"Radio, TV, Hifi\",\"Radio, TV, Hifi\",\"Radio, TV, Hifi\",\"Furniture,Carpet\",\"Radio, TV, Hifi\",\"Radio, TV, Hifi\",\"Radio, TV, Hifi\",\"Furniture,Carpet\",\"Radio, TV, Hifi\",\"Furniture,Carpet\",\"Furniture,Carpet\",\"Furniture,Carpet\",\"Radio, TV, Hifi\",\"Radio, TV, Hifi\",\"Furniture,Carpet\",\"Radio, TV, Hifi\",\"Radio, TV, Hifi\",\"Dept. Store,Mail\",\"Radio, TV, Hifi\",\"Radio, TV, Hifi\",\"Radio, TV, Hifi\",\"Radio, TV, Hifi\",\"Furniture,Carpet\",\"Radio, TV, Hifi\",\"Radio, TV, Hifi\",\"Radio, TV, Hifi\",\"Radio, TV, Hifi\",\"Radio, TV, Hifi\",\"Radio, TV, Hifi\",\"Furniture,Carpet\",\"Radio, TV, Hifi\",\"Dept. Store,Mail\",\"Radio, TV, Hifi\",\"Dept. Store,Mail\",\"Cars\",\"Radio, TV, Hifi\",\"Furniture,Carpet\",\"Furniture,Carpet\",\"Radio, TV, Hifi\",\"Dept. Store,Mail\",\"Radio, TV, Hifi\",\"Radio, TV, Hifi\",\"Radio, TV, Hifi\",\"Radio, TV, Hifi\",\"Radio, TV, Hifi\",\"Dept. Store,Mail\",\"Radio, TV, Hifi\",\"Furniture,Carpet\",\"Radio, TV, Hifi\",\"Radio, TV, Hifi\",\"Furniture,Carpet\",\"Radio, TV, Hifi\",\"Furniture,Carpet\",\"Furniture,Carpet\",\"Radio, TV, Hifi\",\"Radio, TV, Hifi\",\"Dept. Store,Mail\",\"Radio, TV, Hifi\",\"Dept. Store,Mail\",\"Furniture,Carpet\",\"Radio, TV, Hifi\",\"Furniture,Carpet\",\"Furniture,Carpet\",\"Furniture,Carpet\",\"Furniture,Carpet\",\"Radio, TV, Hifi\",\"Radio, TV, Hifi\",\"Furniture,Carpet\",\"Radio, TV, Hifi\",\"Radio, TV, Hifi\",\"Radio, TV, Hifi\",\"Furniture,Carpet\",\"Radio, TV, Hifi\",\"Radio, TV, Hifi\",\"Dept. Store,Mail\",\"Leisure\",\"Radio, TV, Hifi\",\"Cars\",\"Dept. Store,Mail\",\"Radio, TV, Hifi\",\"Dept. Store,Mail\",\"Furniture,Carpet\",\"Furniture,Carpet\",\"Radio, TV, Hifi\",\"Radio, TV, Hifi\",\"Radio, TV, Hifi\",\"Radio, TV, Hifi\",\"Radio, TV, Hifi\",\"Dept. Store,Mail\",\"Furniture,Carpet\",\"Radio, TV, Hifi\",\"Radio, TV, Hifi\",\"Dept. Store,Mail\",\"Furniture,Carpet\",\"Furniture,Carpet\",\"Radio, TV, Hifi\",\"Radio, TV, Hifi\",\"Dept. Store,Mail\",\"Radio, TV, Hifi\",\"Radio, TV, Hifi\",\"Radio, TV, Hifi\",\"Radio, TV, Hifi\",\"Furniture,Carpet\",\"Radio, TV, Hifi\",\"Radio, TV, Hifi\",\"Radio, TV, Hifi\",\"Radio, TV, Hifi\",\"Radio, TV, Hifi\",\"Radio, TV, Hifi\",\"Radio, TV, Hifi\",\"Radio, TV, Hifi\",\"Radio, TV, Hifi\",\"Radio, TV, Hifi\",\"Radio, TV, Hifi\",\"Radio, TV, Hifi\",\"Radio, TV, Hifi\",\"Radio, TV, Hifi\",\"Cars\",\"Leisure\",\"Radio, TV, Hifi\",\"Radio, TV, Hifi\",\"Radio, TV, Hifi\",\"Radio, TV, Hifi\",\"Radio, TV, Hifi\",\"Radio, TV, Hifi\",\"Radio, TV, Hifi\",\"Radio, TV, Hifi\",\"Leisure\",\"Furniture,Carpet\",\"Radio, TV, Hifi\",\"Radio, TV, Hifi\",\"Radio, TV, Hifi\",\"Furniture,Carpet\",\"Furniture,Carpet\",\"Cars\",\"Radio, TV, Hifi\",\"Dept. Store,Mail\",\"Dept. Store,Mail\",\"Radio, TV, Hifi\",\"Leisure\",\"Dept. Store,Mail\",\"Radio, TV, Hifi\",\"Furniture,Carpet\",\"Radio, TV, Hifi\",\"Radio, TV, Hifi\",\"Furniture,Carpet\",\"Radio, TV, Hifi\",\"Leisure\",\"Radio, TV, Hifi\",\"Furniture,Carpet\",\"Radio, TV, Hifi\",\"Furniture,Carpet\",\"Furniture,Carpet\",\"Radio, TV, Hifi\",\"Dept. Store,Mail\",\"Radio, TV, Hifi\",\"Radio, TV, Hifi\",\"Furniture,Carpet\",\"Furniture,Carpet\",\"Dept. Store,Mail\",\"Leisure\",\"Cars\",\"Radio, TV, Hifi\",\"Furniture,Carpet\",\"Cars\",\"Radio, TV, Hifi\",\"Radio, TV, Hifi\",\"Radio, TV, Hifi\",\"Radio, TV, Hifi\",\"Dept. Store,Mail\",\"Radio, TV, Hifi\",\"Furniture,Carpet\",\"Radio, TV, Hifi\",\"Radio, TV, Hifi\",\"Radio, TV, Hifi\",\"Leisure\",\"Radio, TV, Hifi\",\"Radio, TV, Hifi\",\"Radio, TV, Hifi\",\"Radio, TV, Hifi\",\"Furniture,Carpet\",\"Radio, TV, Hifi\",\"Radio, TV, Hifi\",\"Cars\",\"Dept. Store,Mail\",\"Radio, TV, Hifi\",\"Radio, TV, Hifi\",\"Radio, TV, Hifi\",\"Furniture,Carpet\",\"Dept. Store,Mail\",\"Radio, TV, Hifi\",\"Furniture,Carpet\",\"Radio, TV, Hifi\",\"Radio, TV, Hifi\",\"Furniture,Carpet\",\"Radio, TV, Hifi\",\"Furniture,Carpet\",\"Dept. Store,Mail\",\"Cars\",\"Radio, TV, Hifi\",\"Leisure\",\"Leisure\",\"Radio, TV, Hifi\",\"Radio, TV, Hifi\",\"Furniture,Carpet\",\"Radio, TV, Hifi\",\"Leisure\",\"Radio, TV, Hifi\",\"Furniture,Carpet\",\"Radio, TV, Hifi\",\"Radio, TV, Hifi\",\"Furniture,Carpet\",\"Radio, TV, Hifi\",\"Furniture,Carpet\",\"Dept. Store,Mail\",\"Radio, TV, Hifi\",\"Dept. Store,Mail\",\"Dept. Store,Mail\",\"Radio, TV, Hifi\",\"Cars\",\"Radio, TV, Hifi\",\"Cars\",\"Leisure\",\"Furniture,Carpet\",\"Radio, TV, Hifi\",\"Radio, TV, Hifi\",\"Radio, TV, Hifi\",\"Radio, TV, Hifi\",\"Furniture,Carpet\",\"Radio, TV, Hifi\",\"Dept. Store,Mail\",\"Radio, TV, Hifi\",\"Radio, TV, Hifi\",\"Furniture,Carpet\",\"Radio, TV, Hifi\",\"Radio, TV, Hifi\",\"Radio, TV, Hifi\",\"Radio, TV, Hifi\",\"Dept. Store,Mail\",\"Furniture,Carpet\",\"Radio, TV, Hifi\",\"Furniture,Carpet\",\"Furniture,Carpet\",\"Furniture,Carpet\",\"Radio, TV, Hifi\",\"Cars\",\"Furniture,Carpet\",\"Radio, TV, Hifi\",\"Cars\",\"Radio, TV, Hifi\",\"Radio, TV, Hifi\",\"Furniture,Carpet\",\"Cars\",\"Cars\",\"Leisure\",\"Furniture,Carpet\",\"Radio, TV, Hifi\",\"Radio, TV, Hifi\",\"Furniture,Carpet\",\"Radio, TV, Hifi\",\"Radio, TV, Hifi\",\"Dept. Store,Mail\",\"Dept. Store,Mail\",\"Radio, TV, Hifi\",\"Radio, TV, Hifi\",\"Radio, TV, Hifi\",\"Furniture,Carpet\",\"Radio, TV, Hifi\",\"Furniture,Carpet\",\"Radio, TV, Hifi\",\"Radio, TV, Hifi\",\"Dept. Store,Mail\",\"Dept. Store,Mail\",\"Radio, TV, Hifi\",\"Cars\",\"Furniture,Carpet\",\"Cars\",\"Furniture,Carpet\",\"Radio, TV, Hifi\",\"Radio, TV, Hifi\",\"Radio, TV, Hifi\",\"Cars\",\"Radio, TV, Hifi\",\"Furniture,Carpet\",\"Radio, TV, Hifi\",\"Radio, TV, Hifi\",\"Dept. Store,Mail\",\"Furniture,Carpet\",\"Furniture,Carpet\",\"Furniture,Carpet\",\"Radio, TV, Hifi\",\"Dept. Store,Mail\",\"Radio, TV, Hifi\",\"Radio, TV, Hifi\",\"Radio, TV, Hifi\",\"Radio, TV, Hifi\",\"Radio, TV, Hifi\",\"Radio, TV, Hifi\",\"Radio, TV, Hifi\",\"Dept. Store,Mail\",\"Radio, TV, Hifi\",\"Radio, TV, Hifi\",\"Radio, TV, Hifi\",\"Furniture,Carpet\",\"Furniture,Carpet\",\"Radio, TV, Hifi\",\"Furniture,Carpet\",\"Radio, TV, Hifi\",\"Furniture,Carpet\",\"Furniture,Carpet\",\"Cars\",\"Radio, TV, Hifi\",\"Furniture,Carpet\",\"Furniture,Carpet\",\"Furniture,Carpet\",\"Furniture,Carpet\",\"Radio, TV, Hifi\",\"Radio, TV, Hifi\",\"Radio, TV, Hifi\",\"Radio, TV, Hifi\",\"Furniture,Carpet\",\"Radio, TV, Hifi\",\"Radio, TV, Hifi\",\"Radio, TV, Hifi\",\"Radio, TV, Hifi\",\"Radio, TV, Hifi\",\"Furniture,Carpet\",\"Radio, TV, Hifi\",\"Radio, TV, Hifi\",\"Radio, TV, Hifi\",\"Radio, TV, Hifi\",\"Radio, TV, Hifi\",\"Furniture,Carpet\",\"Radio, TV, Hifi\",\"Radio, TV, Hifi\",\"Radio, TV, Hifi\",\"Radio, TV, Hifi\",\"Cars\",\"Radio, TV, Hifi\",\"Radio, TV, Hifi\",\"Radio, TV, Hifi\",\"Cars\",\"Radio, TV, Hifi\",\"Radio, TV, Hifi\",\"Radio, TV, Hifi\",\"Radio, TV, Hifi\",\"Radio, TV, Hifi\",\"Dept. Store,Mail\",\"Furniture,Carpet\",\"Radio, TV, Hifi\",\"Radio, TV, Hifi\",\"Radio, TV, Hifi\",\"Leisure\",\"Radio, TV, Hifi\",\"Furniture,Carpet\",\"Dept. Store,Mail\",\"Radio, TV, Hifi\",\"Cars\",\"Radio, TV, Hifi\",\"Radio, TV, Hifi\",\"Furniture,Carpet\",\"Radio, TV, Hifi\",\"Radio, TV, Hifi\",\"Cars\",\"Radio, TV, Hifi\",\"Radio, TV, Hifi\",\"Radio, TV, Hifi\",\"Radio, TV, Hifi\",\"Radio, TV, Hifi\",\"Furniture,Carpet\",\"Furniture,Carpet\",\"Radio, TV, Hifi\",\"Radio, TV, Hifi\",\"Cars\",\"Furniture,Carpet\",\"Radio, TV, Hifi\",\"Cars\",\"Radio, TV, Hifi\",\"Radio, TV, Hifi\",\"Dept. Store,Mail\",\"Radio, TV, Hifi\",\"Furniture,Carpet\",\"Radio, TV, Hifi\",\"Radio, TV, Hifi\",\"Radio, TV, Hifi\",\"Cars\",\"Radio, TV, Hifi\",\"Radio, TV, Hifi\",\"Radio, TV, Hifi\",\"Radio, TV, Hifi\",\"Furniture,Carpet\",\"Furniture,Carpet\",\"Furniture,Carpet\",\"Furniture,Carpet\",\"Radio, TV, Hifi\",\"Furniture,Carpet\",\"Dept. Store,Mail\",\"Radio, TV, Hifi\",\"Cars\",\"Radio, TV, Hifi\",\"Cars\",\"Radio, TV, Hifi\",\"Furniture,Carpet\",\"Furniture,Carpet\",\"Radio, TV, Hifi\",\"Furniture,Carpet\",\"Radio, TV, Hifi\",\"Radio, TV, Hifi\",\"Radio, TV, Hifi\",\"Furniture,Carpet\",\"Radio, TV, Hifi\",\"Radio, TV, Hifi\",\"Furniture,Carpet\",\"Radio, TV, Hifi\",\"Radio, TV, Hifi\",\"Radio, TV, Hifi\",\"Dept. Store,Mail\",\"Radio, TV, Hifi\",\"Radio, TV, Hifi\",\"Radio, TV, Hifi\",\"Furniture,Carpet\",\"Radio, TV, Hifi\",\"Furniture,Carpet\",\"Radio, TV, Hifi\",\"Radio, TV, Hifi\",\"Radio, TV, Hifi\",\"Dept. Store,Mail\",\"Radio, TV, Hifi\",\"Radio, TV, Hifi\",\"Radio, TV, Hifi\",\"Radio, TV, Hifi\",\"Radio, TV, Hifi\",\"Radio, TV, Hifi\",\"Radio, TV, Hifi\",\"Radio, TV, Hifi\",\"Dept. Store,Mail\",\"Cars\",\"Radio, TV, Hifi\",\"Radio, TV, Hifi\",\"Radio, TV, Hifi\",\"Leisure\",\"Radio, TV, Hifi\",\"Furniture,Carpet\",\"Radio, TV, Hifi\",\"Radio, TV, Hifi\",\"Radio, TV, Hifi\",\"Radio, TV, Hifi\",\"Radio, TV, Hifi\",\"Radio, TV, Hifi\",\"Furniture,Carpet\",\"Radio, TV, Hifi\",\"Dept. Store,Mail\",\"Furniture,Carpet\",\"Furniture,Carpet\",\"Radio, TV, Hifi\",\"Furniture,Carpet\",\"Radio, TV, Hifi\",\"Radio, TV, Hifi\",\"Radio, TV, Hifi\",\"Radio, TV, Hifi\",\"Radio, TV, Hifi\",\"Radio, TV, Hifi\",\"Dept. Store,Mail\",\"Radio, TV, Hifi\",\"Radio, TV, Hifi\",\"Radio, TV, Hifi\",\"Cars\",\"Radio, TV, Hifi\",\"Dept. Store,Mail\",\"Leisure\",\"Radio, TV, Hifi\",\"Furniture,Carpet\",\"Cars\",\"Radio, TV, Hifi\",\"Radio, TV, Hifi\",\"Radio, TV, Hifi\",\"Radio, TV, Hifi\",\"Radio, TV, Hifi\",\"Furniture,Carpet\",\"Radio, TV, Hifi\",\"Radio, TV, Hifi\",\"Radio, TV, Hifi\",\"Radio, TV, Hifi\",\"Radio, TV, Hifi\",\"Radio, TV, Hifi\",\"Radio, TV, Hifi\",\"Dept. Store,Mail\",\"Radio, TV, Hifi\",\"Radio, TV, Hifi\",\"Furniture,Carpet\",\"Radio, TV, Hifi\",\"Leisure\",\"Radio, TV, Hifi\",\"Radio, TV, Hifi\",\"Radio, TV, Hifi\",\"Radio, TV, Hifi\",\"Radio, TV, Hifi\",\"Radio, TV, Hifi\",\"Dept. Store,Mail\",\"Radio, TV, Hifi\",\"Furniture,Carpet\",\"Dept. Store,Mail\",\"Dept. Store,Mail\",\"Radio, TV, Hifi\",\"Furniture,Carpet\",\"Radio, TV, Hifi\",\"Radio, TV, Hifi\",\"Cars\",\"Furniture,Carpet\",\"Cars\",\"Radio, TV, Hifi\",\"Cars\",\"Radio, TV, Hifi\",\"Radio, TV, Hifi\",\"Dept. Store,Mail\",\"Radio, TV, Hifi\",\"Radio, TV, Hifi\",\"Radio, TV, Hifi\",\"Radio, TV, Hifi\",\"Radio, TV, Hifi\",\"Dept. Store,Mail\",\"Cars\",\"Leisure\",\"Radio, TV, Hifi\",\"Leisure\",\"Radio, TV, Hifi\",\"Radio, TV, Hifi\",\"Cars\",\"Radio, TV, Hifi\",\"Radio, TV, Hifi\",\"Furniture,Carpet\",\"Leisure\",\"Dept. Store,Mail\",\"Furniture,Carpet\",\"Radio, TV, Hifi\",\"Cars\",\"Radio, TV, Hifi\",\"Radio, TV, Hifi\",\"Cars\",\"Radio, TV, Hifi\",\"Radio, TV, Hifi\",\"Radio, TV, Hifi\",\"Furniture,Carpet\",\"Radio, TV, Hifi\",\"Radio, TV, Hifi\",\"Dept. Store,Mail\",\"Leisure\",\"Radio, TV, Hifi\",\"Dept. Store,Mail\",\"Radio, TV, Hifi\",\"Radio, TV, Hifi\",\"Radio, TV, Hifi\",\"Dept. Store,Mail\",\"Furniture,Carpet\",\"Furniture,Carpet\",\"Furniture,Carpet\",\"Cars\",\"Radio, TV, Hifi\",\"Furniture,Carpet\",\"Cars\",\"Radio, TV, Hifi\",\"Radio, TV, Hifi\",\"Furniture,Carpet\",\"Furniture,Carpet\",\"Furniture,Carpet\",\"Radio, TV, Hifi\",\"Dept. Store,Mail\",\"Radio, TV, Hifi\",\"Radio, TV, Hifi\",\"Furniture,Carpet\",\"Radio, TV, Hifi\",\"Furniture,Carpet\",\"Leisure\",\"Radio, TV, Hifi\",\"Radio, TV, Hifi\",\"Radio, TV, Hifi\",\"Radio, TV, Hifi\",\"Radio, TV, Hifi\",\"Dept. Store,Mail\",\"Radio, TV, Hifi\",\"Dept. Store,Mail\",\"Furniture,Carpet\",\"Radio, TV, Hifi\",\"Radio, TV, Hifi\",\"Radio, TV, Hifi\",\"Radio, TV, Hifi\",\"Radio, TV, Hifi\",\"Furniture,Carpet\",\"Radio, TV, Hifi\",\"Furniture,Carpet\",\"Radio, TV, Hifi\"],\"x0\":\" \",\"xaxis\":\"x\",\"y\":[0,3200,3300,1500,0,0,1900,0,1700,3400,0,0,1900,0,3500,3400,1700,2300,3000,0,0,2700,0,1900,1500,0,0,3000,0,0,1800,3300,1600,3400,0,2600,0,0,0,2100,0,2000,0,0,1500,0,0,2100,2600,1000,0,0,0,2200,0,1900,3300,0,0,0,1500,0,0,2500,1800,1800,1800,2600,0,2000,1700,0,2400,0,2300,2100,1700,0,1500,0,0,0,0,0,2300,1000,0,0,0,3000,2200,2800,1000,0,1600,10000,2700,0,0,1500,3000,2200,1500,2900,2600,1500,1800,0,0,0,0,0,0,0,0,0,0,0,2000,1500,2700,0,4000,0,1500,2900,2100,0,0,2000,0,0,0,2900,0,0,0,5000,0,1500,0,0,0,1000,1500,1500,1600,0,0,0,2300,2600,0,1700,0,1700,0,0,1500,2100,1500,1800,0,1500,0,0,2700,1000,0,0,2300,1500,0,1700,0,2000,2500,0,0,2000,2300,0,0,2100,0,0,1000,2000,0,0,2200,2400,2200,2700,0,0,1800,1900,0,0,0,0,2500,0,0,0,0,0,2000,0,1000,0,0,0,0,10000,2500,0,0,2500,2200,0,0,2300,3000,0,0,0,2700,1600,2100,0,2600,2400,0,0,0,0,2500,0,0,0,10000,1500,3100,2000,2700,0,0,0,0,2100,2900,0,1500,0,0,2400,1500,0,0,0,0,1000,5000,2000,0,0,1000,0,0,0,0,0,2000,2600,0,1700,0,0,0,4000,0,0,0,0,3000,0,2500,0,0,0,0,3000,0,0,1800,1800,1500,0,5000,1000,0,1800,3000,1500,2300,1900,2500,2600,0,1500,0,4000,0,1500,0,0,1500,2500,0,0,0,0,0,2200,2000,0,1600,0,2000,1800,0,1900,0,0,0,0,2000,0,0,0,0,0,1000,0,2100,2300,2000,0,2000,2500,0,0,0,0,0,0,0,2400,1500,1500,0,0,0,3000,0,1900,1700,0,1600,1500,1500,2400,0,2700,2200,0,0,1500,2300,1500,0,2600,0,0,0,0,2400,3300,0,2100,0,2700,1900,1800,1500,1600,0,2200,0,0,1500,2300,0,1900,0,0,2200,1500,0,1700,0,0,0,2500,0,1800,2400,1000,1500,2200,0,0,1500,2300,0,0,1600,2500,0,1900,1500,2700,1000,0,2600,0,0,1700,0,1500,0,0,1900,0,0,0,1500,1900,1800,2500,0,0,1500,0,0,2000,3200,0,1700,0,0,2800,2000,2400,0,0,0,0,0,0,2000,0,0,0,2200,0,0,0,3500,2500,0,2000,2600,0,1800,0,1900,0,2000,0,0,1500,5000,0,1900,3500,0,3200,1600,0,2200,0,2800,1500,0,2500,0,0,0,0,0,2200,1800,1500,1500,3100,1000,0,0,0,2100,0,1500,0,1000,2300,2000,2000,2300,2500,0,2400,1700,1700,4000,0,2200,0,0,2000,1900,0,2000,0,1500,0,0,1000,0,1900,0,0,0,0,2200,1600,0,0,1600,3300,1700,2700,0,2000,0,1500,2200,2500,2200,0,3300,0,0,2200,1800,3000,0,0,1500,2800,1600,0,0,1900,2000,0,0,2200,0,1600,0,2300,2700,2200,0,2600,1500,0,0,0,1600,0,0,0,2100,2000,1800,0,1500,2800,0,0,2400,0,2200,0,0,0,0,0,0,2000,2000,1500,1900,1900,0,0,2300,0,0,0,2400,0,0,0,0,1500,0,0,2000,0,0,2300,2000,1700,3000,2500,0,1700,1500,0,0,1700,0,2600,0,0,0,1900,0,2900,1600,1500,0,1500,0,3000,2200,2000,2100,0,2500,1500,0,0,0,0,0,2000,2100,0,0,1900,2200,2500,2100,0,0,1800,0,2300,2000,1500,4000,1000,1800,1500,2500,2100,0,2400,2500,1500,0,0,1500,1900,3500,4000,1500,1000,2300,1500,1900,2100,1000,2000,1700,1900,0,1800,2300,2600,2000,2000,1500,4000,0,2200,0,1600,1500,1000,1500,1500,3100,1000,1700,1500,1500,2000,1900,0,1700,2000,1900,1700,1500,1500,1000,4000,1600,0,0,0,1500,2800,0,2100,1500,1500,1000,5000,2800,0,1500,1000,0,1900,1700,1500,2100,0,1500,1700,0,2200,1600,3000,0,1700,1600,1800,2000,1800,2700,1700,2000,1500,1900,1000,0,1600,1800,1000,1800,2400,1900,2500,2000,1500,2000,1700,1900,0,0,0,0,1000,1500,2200,1600,2200,1000,3200,0,2200,1700,1500,1700,2500,1900,1000,2300,2500,2500,1000,1500,2100,0,1600,2600,1700,1600,1000,3500,0,1000,1600,2100,1700,2500,1900,2200,1800,1000,2000,1700,1700,2000,0,1700,2500,2300,1900,2500,1500,2100,1000,1500,1900,2600,2000,1600,1500,1500,2000,2800,2700,1500,2000,1800,2300,2500,1900,2400,2000,0,1700,2200,2000,1000,1700,1500,2100,2100,2500,1700,2100,1500,1700,1900,1000,1000,2200,2100,1800,3100,3300,2400,3200,3000,1800,2900,3100,0,2900,3000,2400,5000,2500,3000,3500,2300,2400,0,2000,3000,0,2200,3000,3500,0,1700,0,3500,2600,1500,1800,2700,0,2100,3000,0,2500,3100,3000,2200,2000,1800,2600,2800,4000,0,0,2600,2500,2500,2500,1900,3300,2500,3500,3000,1500,1800,3500,2400,1800,1800,2500,4000,1800,0,1700,0,2100,2200,4000,3400,0,3500,3500,2400,2000,1900,2400,1800,2000,1800,10000,0,2400,3500,2300,2000,3200,2000,2200,1500,5000,2600,2500,2800,5000,4000,0,0,3000,1500,2800,2400,1500,3500,1600,4000,3000,2500,3000,0,2400,1800,3200,0,0,1800,1600,3000,4000,1700,2200,0,1500,0,3500,2000,3100,0,2700,1500,1000,3200,2100,2000,2000,3400,3300,2200,4000,3400,0,2400,2000,2500,2500,2400,2500,2200,3200,4000,2400,1800,0,2100,1900,1600,2900,1900,3400,2500,2000,2200,3000,1800,2200,2300,0,2700,2200,2200,0,1500,10000,2600,0,2100,0,0,2000,2400,0,1000,2500,1900,2500,2800,5000,3000,2800,0,0,0,2700,0,2300,0,0,2400,2000,1800,3000,2200,0,2000,2500,0,2200,2200,1500,3100,2500,2000,1800,1700,2000,2600,1900,2200,3000,2400,2700,2100,1500,0,3500,1900,2000,2200,2500,1500,0,2800,2600,0,1700,3200,0,0,5000,2700,0,2500,3000,2000,1900,2300,3500,0,3000,2800,0,2300,2700,2500,2000,2400,1800,1500,2500,2500,0,3300,2500,0,3200,2100,1800,2600,2300,2700,5000,2000,2800,0,2600,2300,0,0,3300,3000,3000,3100,1800,0,2400,1500,2200,0,1600,3500,3500,10000,0,2500,1000,2300,2900,2200,2300,5000,1800,2300,2500,3000,1500,0,1700,2000,0,1500,0,0,5000,2000,0,3000,0,1900,2800,2900,1500,2600,2900,3500,2300,3300,2800,2200,2300,3200,1800,1700,2600,2600,2900,0,2500,1600,3000,3500,2000,0,2300,3100,0,2200,4000,10000,3400,1900,0,2000,2400,2800,2000,3000,3200,4000,2900,2400,2800,2500,2300,4000,2600,0,2900,0,0,0,0,2100,0,5000,2200,2500,0,2400,3100,0,2300,2200,2200,2700,1800,2700,0,3000,2000,2500,2300,2500,2600,5000,2300,0,0,1500,1500,1700,4000,5000,2700,3500,2300,0,2500,0,2800,2500,1900,2700,2800,0,3000,1500,2200,4000,2100,2300,2000,2500,2600,2500,3200,1900,2000,3000,2300,2700,1900,3400,2700,2500,2600,0,2300,0,2800,1500,2800,0,2700,3000,0,3000,0,2300,1500,1000,3000,0,2800,0,2400,2600,1700,1800,2100,2000,4000,1500,0,3500,2500,2000,3100,0,2900,2600,2500,10000,3500,2800,3000,3500,2800,1700,1600,2300,10000,0,0,4000,0,10000,4000,2700,10000,2500,0,2500,2400,2200,3200,1500,2900,0,3300,3500,2000,1800,2500,2000,0,0,5000,3000,2500,2300,4000,2000,1800,3500,4000,3200,3500,2400,1500,1500,2500,2400,3400,3500,1700,1600,1500,2500,1800,1900,2600,2100,0,0,2500,1500,3000,0,3000,1800,1000,2200,5000,0,2700,3500,3000,3000,1800,3000,1700,3000,0,0,2300,2000,3000,1800,0,0,1500,3500,3500,3200,1500,2800,0,2500,2500,2000,2400,5000,4000,3000,1600,5000,2000,2300,2200,2600,0,0,2800,3500,3000,1700,3500,3300,2200,4000,2000,4000,0,3300,1500,2800,1800,2300,0,2200,3400,2500,2200,3000,2600,2200,2000,2800,2500,2300,2300,3500,2300,2600,0,0,0,2100,1700,1500,2200,2600,3100,2500,0,2700,1000,2000,1900,2400,3500,2400,2000,2500,0,2600,1600,2400,3300,1500,3400,2000,1000,3300,3100,4000,3200,0,1500,1800,3300,0,0,2800,2000,5000,0,2400,4000,0,0,2700,2500,2700,2500,2300,0,0,2500,3000,1500,3300,0,3100,0,2200,1500,0,0,1900,1900,2500,4000,4000,0,1800,4000,1500,2500,0,3300,1500,2800,4000,2700,0,1500,2100,0,2900,0,2800,2000,3400,1800,0,2400,1500,1000,3500,1700,1600,2200,2600,2400,4000,2000,10000,0,4000,1800,1500,1900,0,1900,3000,3500,0,1800,2500,3500,3000,2200,1800,0,2200,3500,2500,2400,2100,2500,1700,3000,5000,2100,3000,2700,4000,1700,2500,2300,2500,2100,1000,0,1900,2500,2500,2700,3500,0,5000,0,3000,0,1500,4000,2300,1900,2000,4000,3000,2900,2000,3500,0,2200,4000,3000,3500,2700,2200,1500,2600,2300,1500,0,5000,2400,10000,2800,2200,4000,1900,0,1700,2300,0,0,2900,0,3000,2700,2200,0,0,2300,3000,3500,1500,5000,1800,2400,3000,3000,3000,2000,3500,2800,3500,2600,0,2300,2500,1500,2200,1900,3000,2600,1900,0,2600,2600,2300,1600,1800,2300,2400,1900,4000,0,2700,1000,3500,5000,1600,2800,3000,2700,4000,0,2000,2900,0,1000,3200,2600,1700,2600,2900,1500,1600,1900,4000,2900,3200,1600,1500,2900,1600,3500,3500,3000,2200,2300,2300,3500,2300,1600,0,1500,2500,2100,1700,3000,3000,0,3500,2700,2700,1500,2300,2800,2800,2200,10000,0,2800,1500,1500,1500,0,2500,3000,1700,0,2500,4000,2600,2300,2600,2200,0,0,3400,1500,2300,2300,1500,2100,0,2300,2500,3400,0,1800,1500,1800,2100,1500,1900,2000,1500,2600,5000,3100,3000,1500,0,5000,3000,2400,1800,5000,2300,3400,5000,4000,2500,0,3500,1600,0,2500,2300,2800,2500,2200,1900,2800,3200,0,0,0,4000,1800,1800,1600,1500,2500,2000,3100,2400,5000,0,3100,2300,2200,1000,2700,3000,2800,3000,2700,3000,2400,0,1800,0,1600,1800,1500,2500,2300,2600,2300,1500,1500,0,2300,2100,0,3500,2000,0,2700,3000,2500,2000,1800,2500,2600,2400,1900,0,2000,3500,2500,1500,3300,1900,0,1800,1900,1800,2000,2500,3500,5000,3200,2800,2800,3000,2500,2300,1900,1900,1500,1500,3300,0,2400,0,1000,3000,0,4000,1900,3000,2200,2400,2700,2400,3000,3000,4000,0,3300,1800,0,2400,2800,2500,3200,0,1600,2200,3000,0,2300,2000,0,0,3000,2300,0,0,2300,2800,2500,3000,2300,1500,2100,3200,2300,2600,2000,2400,3000,2600,2300,2100,10000,2500,3500,2500,0,0,2500,0,2100,1900,1000,2700,2400,2000,2300,4000,2400,2200,1800,0,1600,0,2300,2800,2700,2200,1700,5000,2500,2400,2000,3500,4000,3400,10000,1700,100000,0,0,3500,0,5000,1600,0,1900,1900,2500,2000,5000,0,0,2700,1900,3200,1500,1900,2200,2400,3500,2300,2200,0,1700,2500,2800,5000,3300,0,2200,2200,2900,2400,5000,0,2500,2500,2200,5000,2000,2800,2800,2100,2000,0,1800,2100,2400,1900,2500,2600,3500,2400,3000,2300,2200,2100,2400,1600,3300,2500,2900,2200,1700,1500,2200,2800,2300,4000,0,3300,1700,2400,0,4000,2800,1800,0,3500,1800,2900,1500,3300,0,2200,2000,0,1900,1500,4000,3100,0,0,1500,1800,1700,3100,3200,2100,0,3200,5000,3000,1600,3400,1000,2500,2700,3000,3000,3100,4000,1900,10000,1700,0,0,2400,2000,3000,0,0,1900,0,2400,3300,3500,1500,10000,2000,0,0,1600,5000,4000,1800,1900,0,5000,3200,2300,1800,2300,2300,0,2200,2500,0,2500,3000,0,1500,0,0,0,2600,2200,1700,2100,2900,0,2200,2100,2200,2700,0,2600,4000,2000,2600,4000,0,2500,3000,2000,2500,5000,0,2800,3000,4000,2700,2400,2500,2500,3500,2800,3500,3300,2300,0,0,3500,4000,1500,3300,0,2000,2800,0,0,1600,0,2700,2600,2900,2100,4000,4000,4000,2000,1800,0,2100,2500,2800,1700,3200,2600,3000,1500,2500,2200,2100,2100,3000,4000,0,5000,2600,3000,2300,2500,2800,2900,2500,2000,1800,3200,0,3200,4000,2500,2500,2000,2800,3200,2900,2300,0,3300,2000,0,3000,1500,2400,1000,2000,2600,0,3200,1600,2200,2500,2200,3000,2000,1500,2100,2800,2300,3400,2800,0,2700,2100,3000,3000,2200,2900,2200,2600,3000,2300,2000,0,4000,1800,2500,2800,2600,1900,5000,2600,0,2200,1800,4000,1900,0,3000,2500,2200,10000,10000,2400,1900,1000,2800,4000,3500,2500,2900,1900,0,2700,3000,3500,3000,1700,2600,2300,10000,5000,2500,2700,2500,0,0,2000,2500,2800,3000,2300,2200,1000,3000,3000,2500,3200,0,5000,3100,0,2300,4000,0,2500,0,3200,2500,5000,2700,3000,0,2600,2800,5000,2000,2300,4000,3000,0,0,2100,10000,0,2800,2400,1500,2200,2400,0,5000,2900,0,5000,3200,2200,0,2900,2700,5000,2300,3000,2900,2900,1500,1900,2200,3500,3400,2200,2300,2500,5000,2200,2500,2900,3100,2500,3000,2000,1000,2200,1900,0,3100,4000,3500,1700,2000,2600,4000,2000,2300,2800,0,0,2700,4000,4000,1000,0,3200,3000,2200,2000,4000,3100,2300,2000,2800,3200,3000,2500,3500,3300,2200,2200,0,3000,2400,3500,1000,3000,2100,0,0,2700,2000,2800,2800,0,1900,4000,2200,2600,2200,3300,2500,3000,3500,3500,2000,0,3000,2900,3000,2400,2700,3200,3500,10000,1900,3100,4000,2200,0,4000,3300,2500,2200,2200,1000,4000,2000,1800,5000,1600,4000,4000,2300,0,1500,2600,3200,3000,2100,1800,2400,2500,2900,5000,0,5000,0,0,2400,2000,2200,2000,3500,1700,0,0,3000,3000,2800,0,1500,1500,2500,4000,2900,5000,3400,2500,1700,2500,2400,1800,4000,1700,3000,3500,1000,1600,3000,3300,1900,4000,1900,2300,2500,2500,0,2200,0,2300,2500,3300,5000,2300,2400,2500,1800,3500,4000,3500,2700,1500,2200,2000,1800,2500,1500,3000,2000,2500,2300,2800,0,2200,1500,3000,2200,0,3300,2400,1500,0,2000,3200,3200,0,2900,3400,3000,0,2800,3000,3500,0,2400,1700,4000,2500,2300,5000,4000,2500,2300,3200,1700,0,1900,2500,2200,0,2700,1600,2800,3000,2500,2200,2900,1600,2500,3500,0,0,0,3500,2500,2900,2600,2200,2700,0,3000,0,1500,5000,1000,2100,2200,1800,0,0,4000,0,0,1500,3000,2600,2800,2800,3300,0,0,2200,4000,2500,0,4000,1900,3500,2500,2800,0,5000,2100,2500,2500,2300,2500,2200,2900,1800,5000,0,5000,2200,0,2700,0,4000,3200,3300,0,2600,0,1800,3000,2400,2800,2400,2100,2100,1700,1500,3000,10000,4000,3500,2400,2100,1500,1500,3000,1500,2000,2300,2000,2200,0,3100,0,2800,2000,3500,2200,2300,0,2000,2500,1900,3200,2200,2200,3200,0,2300,2200,2800,5000,2000,2900,0,2100,0,0,3400,2600,3000,0,3200,2800,5000,3000,2400,2300,2900,1500,2700,1800,2500,2300,3200,1700,1900,2500,2000,2100,2800,3000,1600,2200,3500,1700,2700,1600,2500,0,3300,3000,2200,2300,0,2200,2800,2400,2400,2000,2400,2400,10000,2200,1600,2600,5000,2500,3500,4000,3400,3000,2200,3000,0,0,2600,0,2100,2500,2400,1500,2200,2300,2300,2700,2000,2200,2800,10000,0,1500,2200,2800,3000,2500,0,2200,3100,2800,4000,2500,4000,2000,2400,2400,2000,3000,3300,2400,1600,1500,0,2000,2700,2400,3100,0,1700,2500,4000,2000,0,3300,2200,4000,1500,2800,2300,2000,3200,2600,3000,2300,5000,4000,2000,2200,3300,2700,2400,2600,3500,3200,3000,2000,1000,2500,2800,2300,3500,2600,1600,3000,2500,0,1800,2500,1500,2700,2300,2300,1800,3000,2700,3000,3300,2900,0,0,3200,0,3000,2400,2700,4000,4000,2800,3500,2500,3100,3500,2500,4000,1500,2800,3000,2500,2000,5000,2400,2200,2100,3300,2500,0,0,0,2300,3500,2500,5000,3200,2400,2400,2000,1600,2200,5000,2400,3500,2300,0,4000,2400,2200,2300,0,2800,0,0,3400,0,2200,2100,2800,2500,2800,3500,2000,2500,3400,2200,5000,1000,3200,2200,1600,1500,3500,0,2700,2000,2600,3200,2300,2500,2800,2100,2200],\"y0\":\" \",\"yaxis\":\"y\",\"type\":\"box\"}],                        {\"template\":{\"data\":{\"histogram2dcontour\":[{\"type\":\"histogram2dcontour\",\"colorbar\":{\"outlinewidth\":0,\"ticks\":\"\"},\"colorscale\":[[0.0,\"#0d0887\"],[0.1111111111111111,\"#46039f\"],[0.2222222222222222,\"#7201a8\"],[0.3333333333333333,\"#9c179e\"],[0.4444444444444444,\"#bd3786\"],[0.5555555555555556,\"#d8576b\"],[0.6666666666666666,\"#ed7953\"],[0.7777777777777778,\"#fb9f3a\"],[0.8888888888888888,\"#fdca26\"],[1.0,\"#f0f921\"]]}],\"choropleth\":[{\"type\":\"choropleth\",\"colorbar\":{\"outlinewidth\":0,\"ticks\":\"\"}}],\"histogram2d\":[{\"type\":\"histogram2d\",\"colorbar\":{\"outlinewidth\":0,\"ticks\":\"\"},\"colorscale\":[[0.0,\"#0d0887\"],[0.1111111111111111,\"#46039f\"],[0.2222222222222222,\"#7201a8\"],[0.3333333333333333,\"#9c179e\"],[0.4444444444444444,\"#bd3786\"],[0.5555555555555556,\"#d8576b\"],[0.6666666666666666,\"#ed7953\"],[0.7777777777777778,\"#fb9f3a\"],[0.8888888888888888,\"#fdca26\"],[1.0,\"#f0f921\"]]}],\"heatmap\":[{\"type\":\"heatmap\",\"colorbar\":{\"outlinewidth\":0,\"ticks\":\"\"},\"colorscale\":[[0.0,\"#0d0887\"],[0.1111111111111111,\"#46039f\"],[0.2222222222222222,\"#7201a8\"],[0.3333333333333333,\"#9c179e\"],[0.4444444444444444,\"#bd3786\"],[0.5555555555555556,\"#d8576b\"],[0.6666666666666666,\"#ed7953\"],[0.7777777777777778,\"#fb9f3a\"],[0.8888888888888888,\"#fdca26\"],[1.0,\"#f0f921\"]]}],\"heatmapgl\":[{\"type\":\"heatmapgl\",\"colorbar\":{\"outlinewidth\":0,\"ticks\":\"\"},\"colorscale\":[[0.0,\"#0d0887\"],[0.1111111111111111,\"#46039f\"],[0.2222222222222222,\"#7201a8\"],[0.3333333333333333,\"#9c179e\"],[0.4444444444444444,\"#bd3786\"],[0.5555555555555556,\"#d8576b\"],[0.6666666666666666,\"#ed7953\"],[0.7777777777777778,\"#fb9f3a\"],[0.8888888888888888,\"#fdca26\"],[1.0,\"#f0f921\"]]}],\"contourcarpet\":[{\"type\":\"contourcarpet\",\"colorbar\":{\"outlinewidth\":0,\"ticks\":\"\"}}],\"contour\":[{\"type\":\"contour\",\"colorbar\":{\"outlinewidth\":0,\"ticks\":\"\"},\"colorscale\":[[0.0,\"#0d0887\"],[0.1111111111111111,\"#46039f\"],[0.2222222222222222,\"#7201a8\"],[0.3333333333333333,\"#9c179e\"],[0.4444444444444444,\"#bd3786\"],[0.5555555555555556,\"#d8576b\"],[0.6666666666666666,\"#ed7953\"],[0.7777777777777778,\"#fb9f3a\"],[0.8888888888888888,\"#fdca26\"],[1.0,\"#f0f921\"]]}],\"surface\":[{\"type\":\"surface\",\"colorbar\":{\"outlinewidth\":0,\"ticks\":\"\"},\"colorscale\":[[0.0,\"#0d0887\"],[0.1111111111111111,\"#46039f\"],[0.2222222222222222,\"#7201a8\"],[0.3333333333333333,\"#9c179e\"],[0.4444444444444444,\"#bd3786\"],[0.5555555555555556,\"#d8576b\"],[0.6666666666666666,\"#ed7953\"],[0.7777777777777778,\"#fb9f3a\"],[0.8888888888888888,\"#fdca26\"],[1.0,\"#f0f921\"]]}],\"mesh3d\":[{\"type\":\"mesh3d\",\"colorbar\":{\"outlinewidth\":0,\"ticks\":\"\"}}],\"scatter\":[{\"fillpattern\":{\"fillmode\":\"overlay\",\"size\":10,\"solidity\":0.2},\"type\":\"scatter\"}],\"parcoords\":[{\"type\":\"parcoords\",\"line\":{\"colorbar\":{\"outlinewidth\":0,\"ticks\":\"\"}}}],\"scatterpolargl\":[{\"type\":\"scatterpolargl\",\"marker\":{\"colorbar\":{\"outlinewidth\":0,\"ticks\":\"\"}}}],\"bar\":[{\"error_x\":{\"color\":\"#2a3f5f\"},\"error_y\":{\"color\":\"#2a3f5f\"},\"marker\":{\"line\":{\"color\":\"#E5ECF6\",\"width\":0.5},\"pattern\":{\"fillmode\":\"overlay\",\"size\":10,\"solidity\":0.2}},\"type\":\"bar\"}],\"scattergeo\":[{\"type\":\"scattergeo\",\"marker\":{\"colorbar\":{\"outlinewidth\":0,\"ticks\":\"\"}}}],\"scatterpolar\":[{\"type\":\"scatterpolar\",\"marker\":{\"colorbar\":{\"outlinewidth\":0,\"ticks\":\"\"}}}],\"histogram\":[{\"marker\":{\"pattern\":{\"fillmode\":\"overlay\",\"size\":10,\"solidity\":0.2}},\"type\":\"histogram\"}],\"scattergl\":[{\"type\":\"scattergl\",\"marker\":{\"colorbar\":{\"outlinewidth\":0,\"ticks\":\"\"}}}],\"scatter3d\":[{\"type\":\"scatter3d\",\"line\":{\"colorbar\":{\"outlinewidth\":0,\"ticks\":\"\"}},\"marker\":{\"colorbar\":{\"outlinewidth\":0,\"ticks\":\"\"}}}],\"scattermapbox\":[{\"type\":\"scattermapbox\",\"marker\":{\"colorbar\":{\"outlinewidth\":0,\"ticks\":\"\"}}}],\"scatterternary\":[{\"type\":\"scatterternary\",\"marker\":{\"colorbar\":{\"outlinewidth\":0,\"ticks\":\"\"}}}],\"scattercarpet\":[{\"type\":\"scattercarpet\",\"marker\":{\"colorbar\":{\"outlinewidth\":0,\"ticks\":\"\"}}}],\"carpet\":[{\"aaxis\":{\"endlinecolor\":\"#2a3f5f\",\"gridcolor\":\"white\",\"linecolor\":\"white\",\"minorgridcolor\":\"white\",\"startlinecolor\":\"#2a3f5f\"},\"baxis\":{\"endlinecolor\":\"#2a3f5f\",\"gridcolor\":\"white\",\"linecolor\":\"white\",\"minorgridcolor\":\"white\",\"startlinecolor\":\"#2a3f5f\"},\"type\":\"carpet\"}],\"table\":[{\"cells\":{\"fill\":{\"color\":\"#EBF0F8\"},\"line\":{\"color\":\"white\"}},\"header\":{\"fill\":{\"color\":\"#C8D4E3\"},\"line\":{\"color\":\"white\"}},\"type\":\"table\"}],\"barpolar\":[{\"marker\":{\"line\":{\"color\":\"#E5ECF6\",\"width\":0.5},\"pattern\":{\"fillmode\":\"overlay\",\"size\":10,\"solidity\":0.2}},\"type\":\"barpolar\"}],\"pie\":[{\"automargin\":true,\"type\":\"pie\"}]},\"layout\":{\"autotypenumbers\":\"strict\",\"colorway\":[\"#636efa\",\"#EF553B\",\"#00cc96\",\"#ab63fa\",\"#FFA15A\",\"#19d3f3\",\"#FF6692\",\"#B6E880\",\"#FF97FF\",\"#FECB52\"],\"font\":{\"color\":\"#2a3f5f\"},\"hovermode\":\"closest\",\"hoverlabel\":{\"align\":\"left\"},\"paper_bgcolor\":\"white\",\"plot_bgcolor\":\"#E5ECF6\",\"polar\":{\"bgcolor\":\"#E5ECF6\",\"angularaxis\":{\"gridcolor\":\"white\",\"linecolor\":\"white\",\"ticks\":\"\"},\"radialaxis\":{\"gridcolor\":\"white\",\"linecolor\":\"white\",\"ticks\":\"\"}},\"ternary\":{\"bgcolor\":\"#E5ECF6\",\"aaxis\":{\"gridcolor\":\"white\",\"linecolor\":\"white\",\"ticks\":\"\"},\"baxis\":{\"gridcolor\":\"white\",\"linecolor\":\"white\",\"ticks\":\"\"},\"caxis\":{\"gridcolor\":\"white\",\"linecolor\":\"white\",\"ticks\":\"\"}},\"coloraxis\":{\"colorbar\":{\"outlinewidth\":0,\"ticks\":\"\"}},\"colorscale\":{\"sequential\":[[0.0,\"#0d0887\"],[0.1111111111111111,\"#46039f\"],[0.2222222222222222,\"#7201a8\"],[0.3333333333333333,\"#9c179e\"],[0.4444444444444444,\"#bd3786\"],[0.5555555555555556,\"#d8576b\"],[0.6666666666666666,\"#ed7953\"],[0.7777777777777778,\"#fb9f3a\"],[0.8888888888888888,\"#fdca26\"],[1.0,\"#f0f921\"]],\"sequentialminus\":[[0.0,\"#0d0887\"],[0.1111111111111111,\"#46039f\"],[0.2222222222222222,\"#7201a8\"],[0.3333333333333333,\"#9c179e\"],[0.4444444444444444,\"#bd3786\"],[0.5555555555555556,\"#d8576b\"],[0.6666666666666666,\"#ed7953\"],[0.7777777777777778,\"#fb9f3a\"],[0.8888888888888888,\"#fdca26\"],[1.0,\"#f0f921\"]],\"diverging\":[[0,\"#8e0152\"],[0.1,\"#c51b7d\"],[0.2,\"#de77ae\"],[0.3,\"#f1b6da\"],[0.4,\"#fde0ef\"],[0.5,\"#f7f7f7\"],[0.6,\"#e6f5d0\"],[0.7,\"#b8e186\"],[0.8,\"#7fbc41\"],[0.9,\"#4d9221\"],[1,\"#276419\"]]},\"xaxis\":{\"gridcolor\":\"white\",\"linecolor\":\"white\",\"ticks\":\"\",\"title\":{\"standoff\":15},\"zerolinecolor\":\"white\",\"automargin\":true,\"zerolinewidth\":2},\"yaxis\":{\"gridcolor\":\"white\",\"linecolor\":\"white\",\"ticks\":\"\",\"title\":{\"standoff\":15},\"zerolinecolor\":\"white\",\"automargin\":true,\"zerolinewidth\":2},\"scene\":{\"xaxis\":{\"backgroundcolor\":\"#E5ECF6\",\"gridcolor\":\"white\",\"linecolor\":\"white\",\"showbackground\":true,\"ticks\":\"\",\"zerolinecolor\":\"white\",\"gridwidth\":2},\"yaxis\":{\"backgroundcolor\":\"#E5ECF6\",\"gridcolor\":\"white\",\"linecolor\":\"white\",\"showbackground\":true,\"ticks\":\"\",\"zerolinecolor\":\"white\",\"gridwidth\":2},\"zaxis\":{\"backgroundcolor\":\"#E5ECF6\",\"gridcolor\":\"white\",\"linecolor\":\"white\",\"showbackground\":true,\"ticks\":\"\",\"zerolinecolor\":\"white\",\"gridwidth\":2}},\"shapedefaults\":{\"line\":{\"color\":\"#2a3f5f\"}},\"annotationdefaults\":{\"arrowcolor\":\"#2a3f5f\",\"arrowhead\":0,\"arrowwidth\":1},\"geo\":{\"bgcolor\":\"white\",\"landcolor\":\"#E5ECF6\",\"subunitcolor\":\"white\",\"showland\":true,\"showlakes\":true,\"lakecolor\":\"white\"},\"title\":{\"x\":0.05},\"mapbox\":{\"style\":\"light\"}}},\"xaxis\":{\"anchor\":\"y\",\"domain\":[0.0,1.0],\"title\":{\"text\":\"Product Category\"}},\"yaxis\":{\"anchor\":\"x\",\"domain\":[0.0,1.0],\"title\":{\"text\":\"Income\"}},\"legend\":{\"tracegroupgap\":0},\"title\":{\"text\":\"Income by Product Category\"},\"boxmode\":\"group\"},                        {\"responsive\": true}                    ).then(function(){\n",
              "                            \n",
              "var gd = document.getElementById('54b3aa14-256b-4052-b7ed-b51d26e3fb48');\n",
              "var x = new MutationObserver(function (mutations, observer) {{\n",
              "        var display = window.getComputedStyle(gd).display;\n",
              "        if (!display || display === 'none') {{\n",
              "            console.log([gd, 'removed!']);\n",
              "            Plotly.purge(gd);\n",
              "            observer.disconnect();\n",
              "        }}\n",
              "}});\n",
              "\n",
              "// Listen for the removal of the full notebook cells\n",
              "var notebookContainer = gd.closest('#notebook-container');\n",
              "if (notebookContainer) {{\n",
              "    x.observe(notebookContainer, {childList: true});\n",
              "}}\n",
              "\n",
              "// Listen for the clearing of the current output cell\n",
              "var outputEl = gd.closest('.output');\n",
              "if (outputEl) {{\n",
              "    x.observe(outputEl, {childList: true});\n",
              "}}\n",
              "\n",
              "                        })                };                            </script>        </div>\n",
              "</body>\n",
              "</html>"
            ]
          },
          "metadata": {}
        }
      ]
    },
    {
      "cell_type": "markdown",
      "source": [
        "Consistently Low Incomes Across Categories: Most income values are low across all product categories, with the majority clustered near the bottom of the chart.\n",
        "\n",
        "Presence of Outliers: Each product category shows some outliers with higher income values, indicating a few individuals with incomes significantly above the general range within each category.\n",
        "\n",
        "Extreme Outlier: The \"Radio, TV, Hifi\" category has an extreme outlier with an income around 100k, far above the other values, suggesting an anomaly or a high-income individual with a preference for this category.\n",
        "\n",
        "Similar Income Distribution Across Categories: The overall spread and median income levels are fairly similar among the categories, indicating that income does not vary substantially by product preference in this dataset."
      ],
      "metadata": {
        "id": "UHJHGhjGXiWp"
      }
    },
    {
      "cell_type": "markdown",
      "source": [
        "# Handle Missing Values and Categorical Data"
      ],
      "metadata": {
        "id": "r6RGIX89ayNx"
      }
    },
    {
      "cell_type": "markdown",
      "source": [
        "## Identifying categorical and numerical columns helps us preprocess them accordingly. We impute missing values for numerical data using the median and for categorical data using the most frequent value. Then, we one-hot encode the categorical variables to convert them into a numeric format."
      ],
      "metadata": {
        "id": "3tnATOn6a1ha"
      }
    },
    {
      "source": [
        "# Identify categorical and numerical columns\n",
        "categorical_cols = data.select_dtypes(include=['object']).columns\n",
        "numerical_cols = data.select_dtypes(include=['number']).columns\n",
        "\n",
        "# Ensure 'GB' is included in the numerical columns\n",
        "numerical_cols = numerical_cols.drop('GB')\n",
        "\n",
        "# Impute missing values\n",
        "imputer = ColumnTransformer([\n",
        "    ('num', SimpleImputer(strategy='median'), numerical_cols),\n",
        "    ('cat', SimpleImputer(strategy='most_frequent'), categorical_cols)\n",
        "])\n",
        "\n",
        "# Apply imputation and create a DataFrame\n",
        "data_imputed = imputer.fit_transform(data)\n",
        "data_imputed = pd.DataFrame(data_imputed, columns=numerical_cols.tolist() + categorical_cols.tolist())\n",
        "\n",
        "# One-hot encode categorical variables\n",
        "# The 'sparse' argument has been replaced with 'sparse_output'\n",
        "encoder = OneHotEncoder(drop='first', sparse_output=False)\n",
        "encoded_data = encoder.fit_transform(data_imputed[categorical_cols])\n",
        "encoded_df = pd.DataFrame(encoded_data, columns=encoder.get_feature_names_out(categorical_cols))\n",
        "\n",
        "# Combine numerical and encoded categorical data\n",
        "data_preprocessed = pd.concat([data_imputed[numerical_cols], encoded_df], axis=1)\n",
        "\n",
        "# Add the target variable 'GB'\n",
        "data_preprocessed['GB'] = data['GB']"
      ],
      "cell_type": "code",
      "metadata": {
        "id": "n1SR3bHtHESF"
      },
      "execution_count": 31,
      "outputs": []
    },
    {
      "cell_type": "markdown",
      "source": [
        "# Outlier Detection and Filtering"
      ],
      "metadata": {
        "id": "Dg3eTKAFbK36"
      }
    },
    {
      "cell_type": "markdown",
      "source": [
        "## Outliers can skew the model’s performance. We use the Interquartile Range (IQR) method to detect and remove outliers from our dataset."
      ],
      "metadata": {
        "id": "BEAAOT_kbMfC"
      }
    },
    {
      "cell_type": "code",
      "source": [
        "def remove_outliers(df, column):\n",
        "    Q1 = df[column].quantile(0.25)\n",
        "    Q3 = df[column].quantile(0.75)\n",
        "    IQR = Q3 - Q1\n",
        "    lower_bound = Q1 - 1.5 * IQR\n",
        "    upper_bound = Q3 + 1.5 * IQR\n",
        "    return df[(df[column] >= lower_bound) & (df[column] <= upper_bound)]\n",
        "\n",
        "for col in numerical_cols:\n",
        "    data_preprocessed = remove_outliers(data_preprocessed, col)\n",
        "\n",
        "# Check the shape of the dataset after removing outliers\n",
        "data_preprocessed.shape"
      ],
      "metadata": {
        "colab": {
          "base_uri": "https://localhost:8080/"
        },
        "id": "P5vYa-lSHGi3",
        "outputId": "5625c566-b588-4a89-90ac-14ffe03153ec"
      },
      "execution_count": 32,
      "outputs": [
        {
          "output_type": "execute_result",
          "data": {
            "text/plain": [
              "(1048, 55)"
            ]
          },
          "metadata": {},
          "execution_count": 32
        }
      ]
    },
    {
      "cell_type": "markdown",
      "source": [
        "# Data Partitioning"
      ],
      "metadata": {
        "id": "tVXzJ0XjbTZ5"
      }
    },
    {
      "cell_type": "markdown",
      "source": [
        "## We split the data into training and testing sets. This is crucial for evaluating the model’s performance on unseen data."
      ],
      "metadata": {
        "id": "m-Ewyc3HbU_X"
      }
    },
    {
      "cell_type": "code",
      "source": [
        "X = data_preprocessed.drop('GB', axis=1)\n",
        "y = data_preprocessed['GB']\n",
        "\n",
        "X_train, X_test, y_train, y_test = train_test_split(X, y, test_size=0.3, random_state=42, stratify=y)\n",
        "\n",
        "# Display the shape of the training and testing sets\n",
        "X_train.shape, X_test.shape"
      ],
      "metadata": {
        "colab": {
          "base_uri": "https://localhost:8080/"
        },
        "id": "81IAzFMWHNmd",
        "outputId": "8f285d57-b4d3-4dd9-bc8a-3aaafbbedf77"
      },
      "execution_count": 33,
      "outputs": [
        {
          "output_type": "execute_result",
          "data": {
            "text/plain": [
              "((733, 54), (315, 54))"
            ]
          },
          "metadata": {},
          "execution_count": 33
        }
      ]
    },
    {
      "cell_type": "markdown",
      "source": [
        "# Transforming Input Variables"
      ],
      "metadata": {
        "id": "ca5eu8iwbc9c"
      }
    },
    {
      "cell_type": "markdown",
      "source": [
        "## Standardizing the features ensures that they have a mean of zero and a standard deviation of one. This is important for models like logistic regression."
      ],
      "metadata": {
        "id": "uNUJuprybeYs"
      }
    },
    {
      "cell_type": "code",
      "source": [
        "scaler = StandardScaler()\n",
        "X_train_scaled = scaler.fit_transform(X_train)\n",
        "X_test_scaled = scaler.transform(X_test)"
      ],
      "metadata": {
        "id": "LAnoJaVFHTIu"
      },
      "execution_count": 34,
      "outputs": []
    },
    {
      "cell_type": "markdown",
      "source": [
        "# Variable Classing and Selection"
      ],
      "metadata": {
        "id": "VX-bbpxmblUA"
      }
    },
    {
      "cell_type": "markdown",
      "source": [
        "## We use Logistic Regression with L1 regularization (Lasso) to select the most relevant features. L1 regularization forces the less important feature coefficients to be zero."
      ],
      "metadata": {
        "id": "NdLZFzrybnOe"
      }
    },
    {
      "cell_type": "code",
      "source": [
        "# Logistic Regression with L1 regularization\n",
        "model = LogisticRegression(penalty='l1', solver='liblinear', random_state=42)\n",
        "model.fit(X_train_scaled, y_train)\n",
        "\n",
        "# Get the model coefficients\n",
        "coefficients = pd.Series(model.coef_[0], index=X.columns)\n",
        "\n",
        "# Select features with non-zero coefficients\n",
        "selected_features = coefficients[coefficients != 0].index\n",
        "X_train_selected = X_train[selected_features]\n",
        "X_test_selected = X_test[selected_features]\n",
        "\n",
        "# Scale the selected features\n",
        "X_train_selected_scaled = scaler.fit_transform(X_train_selected)\n",
        "X_test_selected_scaled = scaler.transform(X_test_selected)"
      ],
      "metadata": {
        "id": "yLx-y0b7HXqB"
      },
      "execution_count": 35,
      "outputs": []
    },
    {
      "cell_type": "markdown",
      "source": [
        "# Modelling and Scaling"
      ],
      "metadata": {
        "id": "vP1pJ2x6btql"
      }
    },
    {
      "cell_type": "markdown",
      "source": [
        "## We refit the logistic regression model using the selected features and predict probabilities."
      ],
      "metadata": {
        "id": "_VSdIJwfbxcL"
      }
    },
    {
      "cell_type": "code",
      "source": [
        "# Re-fit the model with selected features\n",
        "model = LogisticRegression(random_state=42)\n",
        "model.fit(X_train_selected_scaled, y_train)\n",
        "\n",
        "# Predict probabilities\n",
        "y_train_pred = model.predict_proba(X_train_selected_scaled)[:, 1]\n",
        "y_test_pred = model.predict_proba(X_test_selected_scaled)[:, 1]\n",
        "\n",
        "# Scale the probabilities\n",
        "scaler_prob = StandardScaler()\n",
        "y_train_pred_scaled = scaler_prob.fit_transform(y_train_pred.reshape(-1, 1))\n",
        "y_test_pred_scaled = scaler_prob.transform(y_test_pred.reshape(-1, 1))"
      ],
      "metadata": {
        "id": "1Za-gyG2Hb5v"
      },
      "execution_count": 36,
      "outputs": []
    },
    {
      "cell_type": "markdown",
      "source": [
        "# Model Validation"
      ],
      "metadata": {
        "id": "TgcyXsVRb2Z0"
      }
    },
    {
      "cell_type": "markdown",
      "source": [
        "## Evaluate the model performance using metrics like ROC-AUC score and classification report."
      ],
      "metadata": {
        "id": "bgJ5rLWJb3qa"
      }
    },
    {
      "cell_type": "code",
      "source": [
        "# ROC-AUC score\n",
        "train_auc = roc_auc_score(y_train, y_train_pred)\n",
        "test_auc = roc_auc_score(y_test, y_test_pred)\n",
        "print(f\"Train AUC: {train_auc:.2f}\")\n",
        "print(f\"Test AUC: {test_auc:.2f}\")\n",
        "\n",
        "# Classification report\n",
        "print(\"Classification Report (Test Data):\")\n",
        "print(classification_report(y_test, model.predict(X_test_selected_scaled)))"
      ],
      "metadata": {
        "colab": {
          "base_uri": "https://localhost:8080/"
        },
        "id": "ne_cmCxUHfTv",
        "outputId": "0d8a9bb1-3ef9-4c1e-aa8f-91b0b0433f55"
      },
      "execution_count": 37,
      "outputs": [
        {
          "output_type": "stream",
          "name": "stdout",
          "text": [
            "Train AUC: 1.00\n",
            "Test AUC: 1.00\n",
            "Classification Report (Test Data):\n",
            "              precision    recall  f1-score   support\n",
            "\n",
            "           0       1.00      1.00      1.00       136\n",
            "           1       1.00      1.00      1.00       179\n",
            "\n",
            "    accuracy                           1.00       315\n",
            "   macro avg       1.00      1.00      1.00       315\n",
            "weighted avg       1.00      1.00      1.00       315\n",
            "\n"
          ]
        }
      ]
    },
    {
      "cell_type": "markdown",
      "source": [
        "# Reject Inference (concept only)"
      ],
      "metadata": {
        "id": "ZBaiSDxCcRkx"
      }
    },
    {
      "cell_type": "markdown",
      "source": [
        "## While our code builds a credit risk model using the KGB dataset (containing only approved loans), it doesn’t account for selection bias. This bias arises because the model is trained solely on good borrowers, excluding rejected applicants (potential bad borrowers).\n",
        "\n",
        "## Reject inference offers a solution. It involves using the current model to score the rejected applications (not included in KGB.csv). These scores can then be used to classify the rejected applications as inferred good or inferred bad borrowers.\n",
        "\n",
        "## The next step would be to create an augmented dataset (AGB). This would involve combining the existing KGB data (good borrowers) with the inferred classifications (good or bad) from the rejected applications. This augmented dataset would represent a more complete picture of the “through-the-door” population (all applicants).\n",
        "\n",
        "## Finally, you could use this augmented dataset (AGB) to train a new credit risk model. This new model would consider both good and inferred bad borrowers, potentially leading to a more accurate prediction of loan defaults."
      ],
      "metadata": {
        "id": "sdUsy0ebcWor"
      }
    },
    {
      "cell_type": "markdown",
      "source": [
        "# Generating a Scorecard Report"
      ],
      "metadata": {
        "id": "MfZS662Re7zH"
      }
    },
    {
      "cell_type": "code",
      "source": [
        "# Function to transform probabilities into scores\n",
        "def prob_to_score(prob, base_score=600, pdo=50):\n",
        "    odds = prob / (1 - prob)\n",
        "    score = base_score + pdo / np.log(2) * np.log(odds)\n",
        "    return score\n",
        "\n",
        "# Apply the function to the predicted probabilities\n",
        "X_test['PD_Score'] = y_test_pred\n",
        "X_test['Score'] = X_test['PD_Score'].apply(lambda x: prob_to_score(x))\n",
        "\n",
        "# Display the test data with predicted scores\n",
        "print(X_test[['PD_Score', 'Score']].head(15))"
      ],
      "metadata": {
        "colab": {
          "base_uri": "https://localhost:8080/"
        },
        "id": "zBhv3UmXHi9d",
        "outputId": "034bcd32-2996-4879-9de6-9f7448c28ed5"
      },
      "execution_count": 38,
      "outputs": [
        {
          "output_type": "stream",
          "name": "stdout",
          "text": [
            "      PD_Score       Score\n",
            "2111  0.994129  970.179383\n",
            "700   0.007763  250.103739\n",
            "1203  0.994129  970.179383\n",
            "1230  0.007763  250.103739\n",
            "2446  0.007763  250.103739\n",
            "940   0.994129  970.179383\n",
            "1160  0.994129  970.179383\n",
            "2122  0.994129  970.179383\n",
            "1352  0.994129  970.179383\n",
            "2725  0.007763  250.103739\n",
            "1668  0.007763  250.103739\n",
            "2611  0.007763  250.103739\n",
            "1593  0.007763  250.103739\n",
            "2115  0.994129  970.179383\n",
            "1552  0.994129  970.179383\n"
          ]
        }
      ]
    }
  ]
}